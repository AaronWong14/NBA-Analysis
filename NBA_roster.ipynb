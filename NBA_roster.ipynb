{
 "cells": [
  {
   "cell_type": "code",
   "execution_count": 1,
   "metadata": {
    "collapsed": true
   },
   "outputs": [],
   "source": [
    "import nba_py\n",
    "import pandas as pd\n",
    "\n",
    "from nba_py import game, player, constants, team\n",
    "from nba_py.player import PlayerList, PlayerCareer\n",
    "from nba_py.league import PlayerStats\n",
    "from nba_py.team import TeamCommonRoster"
   ]
  },
  {
   "cell_type": "code",
   "execution_count": 2,
   "metadata": {
    "collapsed": true
   },
   "outputs": [],
   "source": [
    "# Get every player from 2000-2001 to 2016-2017\n",
    "\n",
    "df_players2000 = PlayerStats(season ='2000-01')\n",
    "\n",
    "#df_players2016.overall()"
   ]
  },
  {
   "cell_type": "code",
   "execution_count": 3,
   "metadata": {
    "collapsed": true
   },
   "outputs": [],
   "source": [
    "df_players2001 = PlayerStats(season ='2001-02')"
   ]
  },
  {
   "cell_type": "code",
   "execution_count": 4,
   "metadata": {
    "collapsed": true
   },
   "outputs": [],
   "source": [
    "df_players2002 = PlayerStats(season ='2002-03')"
   ]
  },
  {
   "cell_type": "code",
   "execution_count": 5,
   "metadata": {
    "collapsed": true
   },
   "outputs": [],
   "source": [
    "df_players2003 = PlayerStats(season ='2003-04')"
   ]
  },
  {
   "cell_type": "code",
   "execution_count": 6,
   "metadata": {
    "collapsed": true
   },
   "outputs": [],
   "source": [
    "df_players2004 = PlayerStats(season ='2004-05')"
   ]
  },
  {
   "cell_type": "code",
   "execution_count": 8,
   "metadata": {},
   "outputs": [
    {
     "ename": "KeyboardInterrupt",
     "evalue": "",
     "output_type": "error",
     "traceback": [
      "\u001b[0;31m---------------------------------------------------------------------------\u001b[0m",
      "\u001b[0;31mTypeError\u001b[0m                                 Traceback (most recent call last)",
      "\u001b[0;32m~/anaconda3/lib/python3.6/site-packages/urllib3/connectionpool.py\u001b[0m in \u001b[0;36m_make_request\u001b[0;34m(self, conn, method, url, timeout, chunked, **httplib_request_kw)\u001b[0m\n\u001b[1;32m    379\u001b[0m             \u001b[0;32mtry\u001b[0m\u001b[0;34m:\u001b[0m  \u001b[0;31m# Python 2.7, use buffering of HTTP responses\u001b[0m\u001b[0;34m\u001b[0m\u001b[0m\n\u001b[0;32m--> 380\u001b[0;31m                 \u001b[0mhttplib_response\u001b[0m \u001b[0;34m=\u001b[0m \u001b[0mconn\u001b[0m\u001b[0;34m.\u001b[0m\u001b[0mgetresponse\u001b[0m\u001b[0;34m(\u001b[0m\u001b[0mbuffering\u001b[0m\u001b[0;34m=\u001b[0m\u001b[0;32mTrue\u001b[0m\u001b[0;34m)\u001b[0m\u001b[0;34m\u001b[0m\u001b[0m\n\u001b[0m\u001b[1;32m    381\u001b[0m             \u001b[0;32mexcept\u001b[0m \u001b[0mTypeError\u001b[0m\u001b[0;34m:\u001b[0m  \u001b[0;31m# Python 2.6 and older, Python 3\u001b[0m\u001b[0;34m\u001b[0m\u001b[0m\n",
      "\u001b[0;31mTypeError\u001b[0m: getresponse() got an unexpected keyword argument 'buffering'",
      "\nDuring handling of the above exception, another exception occurred:\n",
      "\u001b[0;31mKeyboardInterrupt\u001b[0m                         Traceback (most recent call last)",
      "\u001b[0;32m<ipython-input-8-185031734145>\u001b[0m in \u001b[0;36m<module>\u001b[0;34m()\u001b[0m\n\u001b[0;32m----> 1\u001b[0;31m \u001b[0mdf_players2005\u001b[0m \u001b[0;34m=\u001b[0m \u001b[0mPlayerStats\u001b[0m\u001b[0;34m(\u001b[0m\u001b[0mseason\u001b[0m \u001b[0;34m=\u001b[0m\u001b[0;34m'2005-06'\u001b[0m\u001b[0;34m)\u001b[0m\u001b[0;34m\u001b[0m\u001b[0m\n\u001b[0m",
      "\u001b[0;32m~/anaconda3/lib/python3.6/site-packages/nba_py/league.py\u001b[0m in \u001b[0;36m__init__\u001b[0;34m(self, season_type, measure_type, per_mode, plus_minus, pace_adjust, rank, season, playoff_round, outcome, location, month, season_segment, date_from, date_to, opponent_team_id, vs_conference, vs_division, team_id, conference, division, game_segment, period, shot_clock_range, last_n_games, game_scope, player_experience, player_position, starter_bench, draft_year, draft_pick, college, country, height, weight)\u001b[0m\n\u001b[1;32m    251\u001b[0m                                       \u001b[0;34m'Country'\u001b[0m\u001b[0;34m:\u001b[0m \u001b[0mcountry\u001b[0m\u001b[0;34m,\u001b[0m\u001b[0;34m\u001b[0m\u001b[0m\n\u001b[1;32m    252\u001b[0m                                       \u001b[0;34m'Height'\u001b[0m\u001b[0;34m:\u001b[0m \u001b[0mheight\u001b[0m\u001b[0;34m,\u001b[0m\u001b[0;34m\u001b[0m\u001b[0m\n\u001b[0;32m--> 253\u001b[0;31m                                       \u001b[0;34m'Weight'\u001b[0m\u001b[0;34m:\u001b[0m \u001b[0mweight\u001b[0m\u001b[0;34m\u001b[0m\u001b[0m\n\u001b[0m\u001b[1;32m    254\u001b[0m                                       })\n\u001b[1;32m    255\u001b[0m \u001b[0;34m\u001b[0m\u001b[0m\n",
      "\u001b[0;32m~/anaconda3/lib/python3.6/site-packages/nba_py/__init__.py\u001b[0m in \u001b[0;36m_get_json\u001b[0;34m(endpoint, params, referer)\u001b[0m\n\u001b[1;32m     85\u001b[0m     \u001b[0mh\u001b[0m\u001b[0;34m[\u001b[0m\u001b[0;34m'referer'\u001b[0m\u001b[0;34m]\u001b[0m \u001b[0;34m=\u001b[0m \u001b[0;34m'http://stats.nba.com/{ref}/'\u001b[0m\u001b[0;34m.\u001b[0m\u001b[0mformat\u001b[0m\u001b[0;34m(\u001b[0m\u001b[0mref\u001b[0m\u001b[0;34m=\u001b[0m\u001b[0mreferer\u001b[0m\u001b[0;34m)\u001b[0m\u001b[0;34m\u001b[0m\u001b[0m\n\u001b[1;32m     86\u001b[0m     _get = get(BASE_URL.format(endpoint=endpoint), params=params,\n\u001b[0;32m---> 87\u001b[0;31m                headers=h)\n\u001b[0m\u001b[1;32m     88\u001b[0m     \u001b[0;31m# print _get.url\u001b[0m\u001b[0;34m\u001b[0m\u001b[0;34m\u001b[0m\u001b[0m\n\u001b[1;32m     89\u001b[0m     \u001b[0m_get\u001b[0m\u001b[0;34m.\u001b[0m\u001b[0mraise_for_status\u001b[0m\u001b[0;34m(\u001b[0m\u001b[0;34m)\u001b[0m\u001b[0;34m\u001b[0m\u001b[0m\n",
      "\u001b[0;32m~/anaconda3/lib/python3.6/site-packages/requests/api.py\u001b[0m in \u001b[0;36mget\u001b[0;34m(url, params, **kwargs)\u001b[0m\n\u001b[1;32m     70\u001b[0m \u001b[0;34m\u001b[0m\u001b[0m\n\u001b[1;32m     71\u001b[0m     \u001b[0mkwargs\u001b[0m\u001b[0;34m.\u001b[0m\u001b[0msetdefault\u001b[0m\u001b[0;34m(\u001b[0m\u001b[0;34m'allow_redirects'\u001b[0m\u001b[0;34m,\u001b[0m \u001b[0;32mTrue\u001b[0m\u001b[0;34m)\u001b[0m\u001b[0;34m\u001b[0m\u001b[0m\n\u001b[0;32m---> 72\u001b[0;31m     \u001b[0;32mreturn\u001b[0m \u001b[0mrequest\u001b[0m\u001b[0;34m(\u001b[0m\u001b[0;34m'get'\u001b[0m\u001b[0;34m,\u001b[0m \u001b[0murl\u001b[0m\u001b[0;34m,\u001b[0m \u001b[0mparams\u001b[0m\u001b[0;34m=\u001b[0m\u001b[0mparams\u001b[0m\u001b[0;34m,\u001b[0m \u001b[0;34m**\u001b[0m\u001b[0mkwargs\u001b[0m\u001b[0;34m)\u001b[0m\u001b[0;34m\u001b[0m\u001b[0m\n\u001b[0m\u001b[1;32m     73\u001b[0m \u001b[0;34m\u001b[0m\u001b[0m\n\u001b[1;32m     74\u001b[0m \u001b[0;34m\u001b[0m\u001b[0m\n",
      "\u001b[0;32m~/anaconda3/lib/python3.6/site-packages/requests/api.py\u001b[0m in \u001b[0;36mrequest\u001b[0;34m(method, url, **kwargs)\u001b[0m\n\u001b[1;32m     56\u001b[0m     \u001b[0;31m# cases, and look like a memory leak in others.\u001b[0m\u001b[0;34m\u001b[0m\u001b[0;34m\u001b[0m\u001b[0m\n\u001b[1;32m     57\u001b[0m     \u001b[0;32mwith\u001b[0m \u001b[0msessions\u001b[0m\u001b[0;34m.\u001b[0m\u001b[0mSession\u001b[0m\u001b[0;34m(\u001b[0m\u001b[0;34m)\u001b[0m \u001b[0;32mas\u001b[0m \u001b[0msession\u001b[0m\u001b[0;34m:\u001b[0m\u001b[0;34m\u001b[0m\u001b[0m\n\u001b[0;32m---> 58\u001b[0;31m         \u001b[0;32mreturn\u001b[0m \u001b[0msession\u001b[0m\u001b[0;34m.\u001b[0m\u001b[0mrequest\u001b[0m\u001b[0;34m(\u001b[0m\u001b[0mmethod\u001b[0m\u001b[0;34m=\u001b[0m\u001b[0mmethod\u001b[0m\u001b[0;34m,\u001b[0m \u001b[0murl\u001b[0m\u001b[0;34m=\u001b[0m\u001b[0murl\u001b[0m\u001b[0;34m,\u001b[0m \u001b[0;34m**\u001b[0m\u001b[0mkwargs\u001b[0m\u001b[0;34m)\u001b[0m\u001b[0;34m\u001b[0m\u001b[0m\n\u001b[0m\u001b[1;32m     59\u001b[0m \u001b[0;34m\u001b[0m\u001b[0m\n\u001b[1;32m     60\u001b[0m \u001b[0;34m\u001b[0m\u001b[0m\n",
      "\u001b[0;32m~/anaconda3/lib/python3.6/site-packages/requests/sessions.py\u001b[0m in \u001b[0;36mrequest\u001b[0;34m(self, method, url, params, data, headers, cookies, files, auth, timeout, allow_redirects, proxies, hooks, stream, verify, cert, json)\u001b[0m\n\u001b[1;32m    506\u001b[0m         }\n\u001b[1;32m    507\u001b[0m         \u001b[0msend_kwargs\u001b[0m\u001b[0;34m.\u001b[0m\u001b[0mupdate\u001b[0m\u001b[0;34m(\u001b[0m\u001b[0msettings\u001b[0m\u001b[0;34m)\u001b[0m\u001b[0;34m\u001b[0m\u001b[0m\n\u001b[0;32m--> 508\u001b[0;31m         \u001b[0mresp\u001b[0m \u001b[0;34m=\u001b[0m \u001b[0mself\u001b[0m\u001b[0;34m.\u001b[0m\u001b[0msend\u001b[0m\u001b[0;34m(\u001b[0m\u001b[0mprep\u001b[0m\u001b[0;34m,\u001b[0m \u001b[0;34m**\u001b[0m\u001b[0msend_kwargs\u001b[0m\u001b[0;34m)\u001b[0m\u001b[0;34m\u001b[0m\u001b[0m\n\u001b[0m\u001b[1;32m    509\u001b[0m \u001b[0;34m\u001b[0m\u001b[0m\n\u001b[1;32m    510\u001b[0m         \u001b[0;32mreturn\u001b[0m \u001b[0mresp\u001b[0m\u001b[0;34m\u001b[0m\u001b[0m\n",
      "\u001b[0;32m~/anaconda3/lib/python3.6/site-packages/requests/sessions.py\u001b[0m in \u001b[0;36msend\u001b[0;34m(self, request, **kwargs)\u001b[0m\n\u001b[1;32m    616\u001b[0m \u001b[0;34m\u001b[0m\u001b[0m\n\u001b[1;32m    617\u001b[0m         \u001b[0;31m# Send the request\u001b[0m\u001b[0;34m\u001b[0m\u001b[0;34m\u001b[0m\u001b[0m\n\u001b[0;32m--> 618\u001b[0;31m         \u001b[0mr\u001b[0m \u001b[0;34m=\u001b[0m \u001b[0madapter\u001b[0m\u001b[0;34m.\u001b[0m\u001b[0msend\u001b[0m\u001b[0;34m(\u001b[0m\u001b[0mrequest\u001b[0m\u001b[0;34m,\u001b[0m \u001b[0;34m**\u001b[0m\u001b[0mkwargs\u001b[0m\u001b[0;34m)\u001b[0m\u001b[0;34m\u001b[0m\u001b[0m\n\u001b[0m\u001b[1;32m    619\u001b[0m \u001b[0;34m\u001b[0m\u001b[0m\n\u001b[1;32m    620\u001b[0m         \u001b[0;31m# Total elapsed time of the request (approximately)\u001b[0m\u001b[0;34m\u001b[0m\u001b[0;34m\u001b[0m\u001b[0m\n",
      "\u001b[0;32m~/anaconda3/lib/python3.6/site-packages/requests/adapters.py\u001b[0m in \u001b[0;36msend\u001b[0;34m(self, request, stream, timeout, verify, cert, proxies)\u001b[0m\n\u001b[1;32m    438\u001b[0m                     \u001b[0mdecode_content\u001b[0m\u001b[0;34m=\u001b[0m\u001b[0;32mFalse\u001b[0m\u001b[0;34m,\u001b[0m\u001b[0;34m\u001b[0m\u001b[0m\n\u001b[1;32m    439\u001b[0m                     \u001b[0mretries\u001b[0m\u001b[0;34m=\u001b[0m\u001b[0mself\u001b[0m\u001b[0;34m.\u001b[0m\u001b[0mmax_retries\u001b[0m\u001b[0;34m,\u001b[0m\u001b[0;34m\u001b[0m\u001b[0m\n\u001b[0;32m--> 440\u001b[0;31m                     \u001b[0mtimeout\u001b[0m\u001b[0;34m=\u001b[0m\u001b[0mtimeout\u001b[0m\u001b[0;34m\u001b[0m\u001b[0m\n\u001b[0m\u001b[1;32m    441\u001b[0m                 )\n\u001b[1;32m    442\u001b[0m \u001b[0;34m\u001b[0m\u001b[0m\n",
      "\u001b[0;32m~/anaconda3/lib/python3.6/site-packages/urllib3/connectionpool.py\u001b[0m in \u001b[0;36murlopen\u001b[0;34m(self, method, url, body, headers, retries, redirect, assert_same_host, timeout, pool_timeout, release_conn, chunked, body_pos, **response_kw)\u001b[0m\n\u001b[1;32m    599\u001b[0m                                                   \u001b[0mtimeout\u001b[0m\u001b[0;34m=\u001b[0m\u001b[0mtimeout_obj\u001b[0m\u001b[0;34m,\u001b[0m\u001b[0;34m\u001b[0m\u001b[0m\n\u001b[1;32m    600\u001b[0m                                                   \u001b[0mbody\u001b[0m\u001b[0;34m=\u001b[0m\u001b[0mbody\u001b[0m\u001b[0;34m,\u001b[0m \u001b[0mheaders\u001b[0m\u001b[0;34m=\u001b[0m\u001b[0mheaders\u001b[0m\u001b[0;34m,\u001b[0m\u001b[0;34m\u001b[0m\u001b[0m\n\u001b[0;32m--> 601\u001b[0;31m                                                   chunked=chunked)\n\u001b[0m\u001b[1;32m    602\u001b[0m \u001b[0;34m\u001b[0m\u001b[0m\n\u001b[1;32m    603\u001b[0m             \u001b[0;31m# If we're going to release the connection in ``finally:``, then\u001b[0m\u001b[0;34m\u001b[0m\u001b[0;34m\u001b[0m\u001b[0m\n",
      "\u001b[0;32m~/anaconda3/lib/python3.6/site-packages/urllib3/connectionpool.py\u001b[0m in \u001b[0;36m_make_request\u001b[0;34m(self, conn, method, url, timeout, chunked, **httplib_request_kw)\u001b[0m\n\u001b[1;32m    381\u001b[0m             \u001b[0;32mexcept\u001b[0m \u001b[0mTypeError\u001b[0m\u001b[0;34m:\u001b[0m  \u001b[0;31m# Python 2.6 and older, Python 3\u001b[0m\u001b[0;34m\u001b[0m\u001b[0m\n\u001b[1;32m    382\u001b[0m                 \u001b[0;32mtry\u001b[0m\u001b[0;34m:\u001b[0m\u001b[0;34m\u001b[0m\u001b[0m\n\u001b[0;32m--> 383\u001b[0;31m                     \u001b[0mhttplib_response\u001b[0m \u001b[0;34m=\u001b[0m \u001b[0mconn\u001b[0m\u001b[0;34m.\u001b[0m\u001b[0mgetresponse\u001b[0m\u001b[0;34m(\u001b[0m\u001b[0;34m)\u001b[0m\u001b[0;34m\u001b[0m\u001b[0m\n\u001b[0m\u001b[1;32m    384\u001b[0m                 \u001b[0;32mexcept\u001b[0m \u001b[0mException\u001b[0m \u001b[0;32mas\u001b[0m \u001b[0me\u001b[0m\u001b[0;34m:\u001b[0m\u001b[0;34m\u001b[0m\u001b[0m\n\u001b[1;32m    385\u001b[0m                     \u001b[0;31m# Remove the TypeError from the exception chain in Python 3;\u001b[0m\u001b[0;34m\u001b[0m\u001b[0;34m\u001b[0m\u001b[0m\n",
      "\u001b[0;32m~/anaconda3/lib/python3.6/http/client.py\u001b[0m in \u001b[0;36mgetresponse\u001b[0;34m(self)\u001b[0m\n\u001b[1;32m   1329\u001b[0m         \u001b[0;32mtry\u001b[0m\u001b[0;34m:\u001b[0m\u001b[0;34m\u001b[0m\u001b[0m\n\u001b[1;32m   1330\u001b[0m             \u001b[0;32mtry\u001b[0m\u001b[0;34m:\u001b[0m\u001b[0;34m\u001b[0m\u001b[0m\n\u001b[0;32m-> 1331\u001b[0;31m                 \u001b[0mresponse\u001b[0m\u001b[0;34m.\u001b[0m\u001b[0mbegin\u001b[0m\u001b[0;34m(\u001b[0m\u001b[0;34m)\u001b[0m\u001b[0;34m\u001b[0m\u001b[0m\n\u001b[0m\u001b[1;32m   1332\u001b[0m             \u001b[0;32mexcept\u001b[0m \u001b[0mConnectionError\u001b[0m\u001b[0;34m:\u001b[0m\u001b[0;34m\u001b[0m\u001b[0m\n\u001b[1;32m   1333\u001b[0m                 \u001b[0mself\u001b[0m\u001b[0;34m.\u001b[0m\u001b[0mclose\u001b[0m\u001b[0;34m(\u001b[0m\u001b[0;34m)\u001b[0m\u001b[0;34m\u001b[0m\u001b[0m\n",
      "\u001b[0;32m~/anaconda3/lib/python3.6/http/client.py\u001b[0m in \u001b[0;36mbegin\u001b[0;34m(self)\u001b[0m\n\u001b[1;32m    295\u001b[0m         \u001b[0;31m# read until we get a non-100 response\u001b[0m\u001b[0;34m\u001b[0m\u001b[0;34m\u001b[0m\u001b[0m\n\u001b[1;32m    296\u001b[0m         \u001b[0;32mwhile\u001b[0m \u001b[0;32mTrue\u001b[0m\u001b[0;34m:\u001b[0m\u001b[0;34m\u001b[0m\u001b[0m\n\u001b[0;32m--> 297\u001b[0;31m             \u001b[0mversion\u001b[0m\u001b[0;34m,\u001b[0m \u001b[0mstatus\u001b[0m\u001b[0;34m,\u001b[0m \u001b[0mreason\u001b[0m \u001b[0;34m=\u001b[0m \u001b[0mself\u001b[0m\u001b[0;34m.\u001b[0m\u001b[0m_read_status\u001b[0m\u001b[0;34m(\u001b[0m\u001b[0;34m)\u001b[0m\u001b[0;34m\u001b[0m\u001b[0m\n\u001b[0m\u001b[1;32m    298\u001b[0m             \u001b[0;32mif\u001b[0m \u001b[0mstatus\u001b[0m \u001b[0;34m!=\u001b[0m \u001b[0mCONTINUE\u001b[0m\u001b[0;34m:\u001b[0m\u001b[0;34m\u001b[0m\u001b[0m\n\u001b[1;32m    299\u001b[0m                 \u001b[0;32mbreak\u001b[0m\u001b[0;34m\u001b[0m\u001b[0m\n",
      "\u001b[0;32m~/anaconda3/lib/python3.6/http/client.py\u001b[0m in \u001b[0;36m_read_status\u001b[0;34m(self)\u001b[0m\n\u001b[1;32m    256\u001b[0m \u001b[0;34m\u001b[0m\u001b[0m\n\u001b[1;32m    257\u001b[0m     \u001b[0;32mdef\u001b[0m \u001b[0m_read_status\u001b[0m\u001b[0;34m(\u001b[0m\u001b[0mself\u001b[0m\u001b[0;34m)\u001b[0m\u001b[0;34m:\u001b[0m\u001b[0;34m\u001b[0m\u001b[0m\n\u001b[0;32m--> 258\u001b[0;31m         \u001b[0mline\u001b[0m \u001b[0;34m=\u001b[0m \u001b[0mstr\u001b[0m\u001b[0;34m(\u001b[0m\u001b[0mself\u001b[0m\u001b[0;34m.\u001b[0m\u001b[0mfp\u001b[0m\u001b[0;34m.\u001b[0m\u001b[0mreadline\u001b[0m\u001b[0;34m(\u001b[0m\u001b[0m_MAXLINE\u001b[0m \u001b[0;34m+\u001b[0m \u001b[0;36m1\u001b[0m\u001b[0;34m)\u001b[0m\u001b[0;34m,\u001b[0m \u001b[0;34m\"iso-8859-1\"\u001b[0m\u001b[0;34m)\u001b[0m\u001b[0;34m\u001b[0m\u001b[0m\n\u001b[0m\u001b[1;32m    259\u001b[0m         \u001b[0;32mif\u001b[0m \u001b[0mlen\u001b[0m\u001b[0;34m(\u001b[0m\u001b[0mline\u001b[0m\u001b[0;34m)\u001b[0m \u001b[0;34m>\u001b[0m \u001b[0m_MAXLINE\u001b[0m\u001b[0;34m:\u001b[0m\u001b[0;34m\u001b[0m\u001b[0m\n\u001b[1;32m    260\u001b[0m             \u001b[0;32mraise\u001b[0m \u001b[0mLineTooLong\u001b[0m\u001b[0;34m(\u001b[0m\u001b[0;34m\"status line\"\u001b[0m\u001b[0;34m)\u001b[0m\u001b[0;34m\u001b[0m\u001b[0m\n",
      "\u001b[0;32m~/anaconda3/lib/python3.6/socket.py\u001b[0m in \u001b[0;36mreadinto\u001b[0;34m(self, b)\u001b[0m\n\u001b[1;32m    584\u001b[0m         \u001b[0;32mwhile\u001b[0m \u001b[0;32mTrue\u001b[0m\u001b[0;34m:\u001b[0m\u001b[0;34m\u001b[0m\u001b[0m\n\u001b[1;32m    585\u001b[0m             \u001b[0;32mtry\u001b[0m\u001b[0;34m:\u001b[0m\u001b[0;34m\u001b[0m\u001b[0m\n\u001b[0;32m--> 586\u001b[0;31m                 \u001b[0;32mreturn\u001b[0m \u001b[0mself\u001b[0m\u001b[0;34m.\u001b[0m\u001b[0m_sock\u001b[0m\u001b[0;34m.\u001b[0m\u001b[0mrecv_into\u001b[0m\u001b[0;34m(\u001b[0m\u001b[0mb\u001b[0m\u001b[0;34m)\u001b[0m\u001b[0;34m\u001b[0m\u001b[0m\n\u001b[0m\u001b[1;32m    587\u001b[0m             \u001b[0;32mexcept\u001b[0m \u001b[0mtimeout\u001b[0m\u001b[0;34m:\u001b[0m\u001b[0;34m\u001b[0m\u001b[0m\n\u001b[1;32m    588\u001b[0m                 \u001b[0mself\u001b[0m\u001b[0;34m.\u001b[0m\u001b[0m_timeout_occurred\u001b[0m \u001b[0;34m=\u001b[0m \u001b[0;32mTrue\u001b[0m\u001b[0;34m\u001b[0m\u001b[0m\n",
      "\u001b[0;31mKeyboardInterrupt\u001b[0m: "
     ]
    }
   ],
   "source": [
    "df_players2005 = PlayerStats(season ='2005-06')"
   ]
  },
  {
   "cell_type": "code",
   "execution_count": null,
   "metadata": {
    "collapsed": true
   },
   "outputs": [],
   "source": [
    "df_players2006 = PlayerStats(season ='2006-07')"
   ]
  },
  {
   "cell_type": "code",
   "execution_count": null,
   "metadata": {
    "collapsed": true
   },
   "outputs": [],
   "source": [
    "df_players2007 = PlayerStats(season ='2007-08')"
   ]
  },
  {
   "cell_type": "code",
   "execution_count": null,
   "metadata": {
    "collapsed": true
   },
   "outputs": [],
   "source": [
    "df_players2008 = PlayerStats(season ='2008-09')"
   ]
  },
  {
   "cell_type": "code",
   "execution_count": null,
   "metadata": {
    "collapsed": true
   },
   "outputs": [],
   "source": [
    "df_players2009 = PlayerStats(season ='2009-10')"
   ]
  },
  {
   "cell_type": "code",
   "execution_count": null,
   "metadata": {
    "collapsed": true
   },
   "outputs": [],
   "source": [
    "df_players2010 = PlayerStats(season ='2010-11')"
   ]
  },
  {
   "cell_type": "code",
   "execution_count": null,
   "metadata": {
    "collapsed": true
   },
   "outputs": [],
   "source": [
    "df_players2011 = PlayerStats(season ='2011-12')"
   ]
  },
  {
   "cell_type": "code",
   "execution_count": null,
   "metadata": {
    "collapsed": true
   },
   "outputs": [],
   "source": [
    "df_players2012 = PlayerStats(season ='2012-13')"
   ]
  },
  {
   "cell_type": "code",
   "execution_count": null,
   "metadata": {
    "collapsed": true
   },
   "outputs": [],
   "source": [
    "df_players2013 = PlayerStats(season ='2013-14')"
   ]
  },
  {
   "cell_type": "code",
   "execution_count": null,
   "metadata": {
    "collapsed": true
   },
   "outputs": [],
   "source": [
    "df_players2014 = PlayerStats(season ='2014-15')"
   ]
  },
  {
   "cell_type": "code",
   "execution_count": null,
   "metadata": {
    "collapsed": true
   },
   "outputs": [],
   "source": [
    "df_players2015 = PlayerStats(season ='2015-16')"
   ]
  },
  {
   "cell_type": "code",
   "execution_count": null,
   "metadata": {
    "collapsed": true
   },
   "outputs": [],
   "source": [
    "df_players2016 = PlayerStats(season ='2016-17')"
   ]
  },
  {
   "cell_type": "code",
   "execution_count": null,
   "metadata": {
    "collapsed": true
   },
   "outputs": [],
   "source": [
    "#2000 rosters for all the teams\n",
    "df_Hawks2000 = TeamCommonRoster(team_id = '1610612737', season = '2000-01')\n",
    "df_Celtics2000 = TeamCommonRoster(team_id = '1610612738', season = '2000-01')\n",
    "df_Nets2000 = TeamCommonRoster(team_id = '1610612751', season = '2000-01')\n",
    "df_Hornets2000 = TeamCommonRoster(team_id = '1610612766', season = '2000-01')\n",
    "df_Bulls2000 = TeamCommonRoster(team_id = '1610612741', season = '2000-01')\n",
    "df_Cavaliers2000 = TeamCommonRoster(team_id = '1610612739', season = '2000-01')\n",
    "df_Mavericks2000 = TeamCommonRoster(team_id = '1610612742', season = '2000-01')\n",
    "df_Nuggets2000 = TeamCommonRoster(team_id = '1610612743', season = '2000-01')\n",
    "df_Pistons2000 = TeamCommonRoster(team_id = '1610612765', season = '2000-01')\n",
    "df_Warriors2000 = TeamCommonRoster(team_id = '1610612744', season = '2000-01')\n",
    "df_Rockets2000 = TeamCommonRoster(team_id = '1610612745', season = '2000-01')\n",
    "df_Pacers2000 = TeamCommonRoster(team_id = '1610612754', season = '2000-01')\n",
    "df_Clippers2000 = TeamCommonRoster(team_id = '1610612746', season = '2000-01')\n",
    "df_Clippers2000 = TeamCommonRoster(team_id = '1610612746', season = '2000-01')\n",
    "df_Lakers2000 = TeamCommonRoster(team_id = '1610612747', season = '2000-01')\n",
    "df_Heat2000 = TeamCommonRoster(team_id = '1610612748', season = '2000-01')\n",
    "df_Bucks2000 = TeamCommonRoster(team_id = '1610612749', season = '2000-01')\n",
    "df_Timberwolves2000 = TeamCommonRoster(team_id = '1610612750', season = '2000-01')\n",
    "df_Pelicans2000 = TeamCommonRoster(team_id = '1610612740', season = '2000-01')\n",
    "df_Knicks2000 = TeamCommonRoster(team_id = '1610612752', season = '2000-01')\n",
    "df_Thunder2000 = TeamCommonRoster(team_id = '1610612760', season = '2000-01')\n",
    "df_Magic2000 = TeamCommonRoster(team_id = '1610612753', season = '2000-01')\n",
    "df_Sixers2000 = TeamCommonRoster(team_id = '1610612755', season = '2000-01')\n",
    "df_Suns2000 = TeamCommonRoster(team_id = '1610612756', season = '2000-01')\n",
    "df_TrailBlazers2000 = TeamCommonRoster(team_id = '1610612757', season = '2000-01')\n",
    "df_Kings2000 = TeamCommonRoster(team_id = '1610612758', season = '2000-01')\n",
    "df_Spurs2000 = TeamCommonRoster(team_id = '1610612759', season = '2000-01')\n",
    "df_Raptors2000 = TeamCommonRoster(team_id = '1610612761', season = '2000-01')\n",
    "df_Jazz2000 = TeamCommonRoster(team_id = '1610612762', season = '2000-01')\n",
    "df_Wizards2000 = TeamCommonRoster(team_id = '1610612764', season = '2000-01')"
   ]
  },
  {
   "cell_type": "code",
   "execution_count": null,
   "metadata": {
    "collapsed": true
   },
   "outputs": [],
   "source": [
    "#df_Wizards2000.roster()"
   ]
  },
  {
   "cell_type": "code",
   "execution_count": null,
   "metadata": {
    "collapsed": true
   },
   "outputs": [],
   "source": [
    "#2001 rosters for all the teams\n",
    "\n",
    "\n",
    "df_Hawks2001 = TeamCommonRoster(team_id = '1610612737', season = '2001-02')\n",
    "df_Celtics2001 = TeamCommonRoster(team_id = '1610612738', season = '2001-02')\n",
    "df_Nets2001 = TeamCommonRoster(team_id = '1610612751', season = '2001-02')\n",
    "df_Hornets2001 = TeamCommonRoster(team_id = '1610612766', season = '2001-02')\n",
    "df_Bulls2001 = TeamCommonRoster(team_id = '1610612741', season = '2001-02')\n",
    "df_Cavaliers2001 = TeamCommonRoster(team_id = '1610612739', season = '2001-02')\n",
    "df_Mavericks2001 = TeamCommonRoster(team_id = '1610612742', season = '2001-02')\n",
    "df_Nuggets2001 = TeamCommonRoster(team_id = '1610612743', season = '2001-02')\n",
    "df_Pistons2001 = TeamCommonRoster(team_id = '1610612765', season = '2001-02')\n",
    "df_Warriors2001 = TeamCommonRoster(team_id = '1610612744', season = '2001-02')\n",
    "df_Rockets2001 = TeamCommonRoster(team_id = '1610612745', season = '2001-02')\n",
    "df_Pacers2001 = TeamCommonRoster(team_id = '1610612754', season = '2001-02')\n",
    "df_Clippers2001 = TeamCommonRoster(team_id = '1610612746', season = '2001-02')\n",
    "df_Lakers2001 = TeamCommonRoster(team_id = '1610612747', season = '2000-01')\n",
    "df_Grizzlies2001 = TeamCommonRoster(team_id = '1610612763', season = '2001-02')\n",
    "df_Heat2001 = TeamCommonRoster(team_id = '1610612748', season = '2001-02')\n",
    "df_Bucks2001 = TeamCommonRoster(team_id = '1610612749', season = '2001-02')\n",
    "df_Timberwolves2001 = TeamCommonRoster(team_id = '1610612750', season = '2001-02')\n",
    "df_Pelicans2001 = TeamCommonRoster(team_id = '1610612740', season = '2001-02')\n",
    "df_Knicks2001 = TeamCommonRoster(team_id = '1610612752', season = '2001-02')\n",
    "df_Thunder2001 = TeamCommonRoster(team_id = '1610612760', season = '2001-02')\n",
    "df_Magic2001 = TeamCommonRoster(team_id = '1610612753', season = '2001-02')\n",
    "df_Sixers2001 = TeamCommonRoster(team_id = '1610612755', season = '2001-02')\n",
    "df_Suns2001 = TeamCommonRoster(team_id = '1610612756', season = '2001-02')\n",
    "df_TrailBlazers2001 = TeamCommonRoster(team_id = '1610612757', season = '2001-02')\n",
    "df_Kings2001 = TeamCommonRoster(team_id = '1610612758', season = '2001-02')\n",
    "df_Spurs2001 = TeamCommonRoster(team_id = '1610612759', season = '2001-02')\n",
    "df_Raptors2001 = TeamCommonRoster(team_id = '1610612761', season = '2001-02')\n",
    "df_Jazz2001 = TeamCommonRoster(team_id = '1610612762', season = '2001-02')\n",
    "df_Wizards2001 = TeamCommonRoster(team_id = '1610612764', season = '2001-02')"
   ]
  },
  {
   "cell_type": "code",
   "execution_count": null,
   "metadata": {
    "collapsed": true
   },
   "outputs": [],
   "source": [
    "#df_Wizards2001.roster()"
   ]
  },
  {
   "cell_type": "code",
   "execution_count": null,
   "metadata": {
    "collapsed": true
   },
   "outputs": [],
   "source": [
    "#2002 rosters for all the teams\n",
    "\n",
    "df_Hawks2002 = TeamCommonRoster(team_id = '1610612737', season = '2002-03')\n",
    "df_Celtics2002 = TeamCommonRoster(team_id = '1610612738', season = '2002-03')\n",
    "df_Nets2002 = TeamCommonRoster(team_id = '1610612751', season = '2002-03')\n",
    "df_Hornets2002 = TeamCommonRoster(team_id = '1610612766', season = '2002-03')\n",
    "df_Bulls2002 = TeamCommonRoster(team_id = '1610612741', season = '2002-03')\n",
    "df_Cavaliers2002 = TeamCommonRoster(team_id = '1610612739', season = '2002-03')\n",
    "df_Mavericks2002 = TeamCommonRoster(team_id = '1610612742', season = '2002-03')\n",
    "df_Nuggets2002 = TeamCommonRoster(team_id = '1610612743', season = '2002-03')\n",
    "df_Pistons2002 = TeamCommonRoster(team_id = '1610612765', season = '2002-03')\n",
    "df_Warriors2002 = TeamCommonRoster(team_id = '1610612744', season = '2002-03')\n",
    "df_Rockets2002 = TeamCommonRoster(team_id = '1610612745', season = '2002-03')\n",
    "df_Pacers2002 = TeamCommonRoster(team_id = '1610612754', season = '2002-03')\n",
    "df_Clippers2002 = TeamCommonRoster(team_id = '1610612746', season = '2002-03')\n",
    "df_Lakers2002 = TeamCommonRoster(team_id = '1610612747', season = '2002-03')\n",
    "df_Grizzlies2002 = TeamCommonRoster(team_id = '1610612763', season = '2002-03')\n",
    "df_Heat2002 = TeamCommonRoster(team_id = '1610612748', season = '2002-03')\n",
    "df_Bucks2002 = TeamCommonRoster(team_id = '1610612749', season = '2002-03')\n",
    "df_Timberwolves2002 = TeamCommonRoster(team_id = '1610612750', season = '2002-03')\n",
    "df_Pelicans2002 = TeamCommonRoster(team_id = '1610612740', season = '2002-03')\n",
    "df_Knicks2002 = TeamCommonRoster(team_id = '1610612752', season = '2002-03')\n",
    "df_Thunder2002 = TeamCommonRoster(team_id = '1610612760', season = '2002-03')\n",
    "df_Magic2002 = TeamCommonRoster(team_id = '1610612753', season = '2002-03')\n",
    "df_Sixers2002 = TeamCommonRoster(team_id = '1610612755', season = '2002-03')\n",
    "df_Suns2002 = TeamCommonRoster(team_id = '1610612756', season = '2002-03')\n",
    "df_TrailBlazers2002 = TeamCommonRoster(team_id = '1610612757', season = '2002-03')\n",
    "df_Kings2002 = TeamCommonRoster(team_id = '1610612758', season = '2002-03')\n",
    "df_Spurs2002 = TeamCommonRoster(team_id = '1610612759', season = '2002-03')\n",
    "df_Raptors2002 = TeamCommonRoster(team_id = '1610612761', season = '2002-03')\n",
    "df_Jazz2002 = TeamCommonRoster(team_id = '1610612762', season = '2002-03')\n",
    "df_Wizards2002 = TeamCommonRoster(team_id = '1610612764', season = '2002-03')"
   ]
  },
  {
   "cell_type": "code",
   "execution_count": null,
   "metadata": {
    "collapsed": true
   },
   "outputs": [],
   "source": [
    "#df_Wizards2002.roster()"
   ]
  },
  {
   "cell_type": "code",
   "execution_count": null,
   "metadata": {
    "collapsed": true
   },
   "outputs": [],
   "source": [
    "\n",
    "#2003 rosters for all the \n",
    "\n",
    "\n",
    "df_Hawks2003 = TeamCommonRoster(team_id = '1610612737', season = '2003-04')\n",
    "df_Celtics2003 = TeamCommonRoster(team_id = '1610612738', season = '2003-04')\n",
    "df_Nets2003 = TeamCommonRoster(team_id = '1610612751', season = '2003-04')\n",
    "df_Hornets2003 = TeamCommonRoster(team_id = '1610612766', season = '2003-04')\n",
    "df_Bulls2003 = TeamCommonRoster(team_id = '1610612741', season = '2003-04')\n",
    "df_Cavaliers2003 = TeamCommonRoster(team_id = '1610612739', season = '2003-04')\n",
    "df_Mavericks2003 = TeamCommonRoster(team_id = '1610612742', season = '2003-04')\n",
    "df_Nuggets2003 = TeamCommonRoster(team_id = '1610612743', season = '2003-04')\n",
    "df_Pistons2003 = TeamCommonRoster(team_id = '1610612765', season = '2003-04')\n",
    "df_Warriors2003 = TeamCommonRoster(team_id = '1610612744', season = '2003-04')\n",
    "df_Rockets2003 = TeamCommonRoster(team_id = '1610612745', season = '2003-04')\n",
    "df_Pacers2003 = TeamCommonRoster(team_id = '1610612754', season = '2003-04')\n",
    "df_Clippers2003 = TeamCommonRoster(team_id = '1610612746', season = '2003-04')\n",
    "df_Lakers2003 = TeamCommonRoster(team_id = '1610612747', season = '2003-04')\n",
    "df_Grizzlies2003 = TeamCommonRoster(team_id = '1610612763', season = '2003-04')\n",
    "df_Heat2003 = TeamCommonRoster(team_id = '1610612748', season = '2003-04')\n",
    "df_Bucks2003 = TeamCommonRoster(team_id = '1610612749', season = '2003-04')\n",
    "df_Timberwolves2003 = TeamCommonRoster(team_id = '1610612750', season = '2003-04')\n",
    "df_Pelicans2003 = TeamCommonRoster(team_id = '1610612740', season = '2003-04')\n",
    "df_Knicks2003 = TeamCommonRoster(team_id = '1610612752', season = '2003-04')\n",
    "df_Thunder2003 = TeamCommonRoster(team_id = '1610612760', season = '2003-04')\n",
    "df_Magic2003 = TeamCommonRoster(team_id = '1610612753', season = '2003-04')\n",
    "df_Sixers2003 = TeamCommonRoster(team_id = '1610612755', season = '2003-04')\n",
    "df_Suns2003 = TeamCommonRoster(team_id = '1610612756', season = '2003-04')\n",
    "df_TrailBlazers2003 = TeamCommonRoster(team_id = '1610612757', season = '2003-04')\n",
    "df_Kings2003 = TeamCommonRoster(team_id = '1610612758', season = '2003-04')\n",
    "df_Spurs2003 = TeamCommonRoster(team_id = '1610612759', season = '2003-04')\n",
    "df_Raptors2003 = TeamCommonRoster(team_id = '1610612761', season = '2003-04')\n",
    "df_Jazz2003 = TeamCommonRoster(team_id = '1610612762', season = '2003-04')\n",
    "df_Wizards2003 = TeamCommonRoster(team_id = '1610612764', season = '2003-04')"
   ]
  },
  {
   "cell_type": "code",
   "execution_count": null,
   "metadata": {
    "collapsed": true
   },
   "outputs": [],
   "source": [
    "#2004 rosters for all the teams\n",
    "\n",
    "\n",
    "df_Hawks2004 = TeamCommonRoster(team_id = '1610612737', season = '2004-05')\n",
    "df_Celtics2004 = TeamCommonRoster(team_id = '1610612738', season = '2004-05')\n",
    "df_Nets2004 = TeamCommonRoster(team_id = '1610612751', season = '2004-05')\n",
    "df_Hornets2004 = TeamCommonRoster(team_id = '1610612766', season = '2004-05')\n",
    "df_Bulls2004 = TeamCommonRoster(team_id = '1610612741', season = '2004-05')\n",
    "df_Cavaliers2004 = TeamCommonRoster(team_id = '1610612739', season = '2004-05')\n",
    "df_Mavericks2004 = TeamCommonRoster(team_id = '1610612742', season = '2004-05')\n",
    "df_Nuggets2004 = TeamCommonRoster(team_id = '1610612743', season = '2004-05')\n",
    "df_Pistons2004 = TeamCommonRoster(team_id = '1610612765', season = '2004-05')\n",
    "df_Warriors2004 = TeamCommonRoster(team_id = '1610612744', season = '2004-05')\n",
    "df_Rockets2004 = TeamCommonRoster(team_id = '1610612745', season = '2004-05')\n",
    "df_Pacers2004 = TeamCommonRoster(team_id = '1610612754', season = '2004-05')\n",
    "df_Clippers2004 = TeamCommonRoster(team_id = '1610612746', season = '2004-05')\n",
    "df_Lakers2004 = TeamCommonRoster(team_id = '1610612747', season = '2004-05')\n",
    "df_Grizzlies2004 = TeamCommonRoster(team_id = '1610612763', season = '2004-05')\n",
    "df_Heat2004 = TeamCommonRoster(team_id = '1610612748', season = '2004-05')\n",
    "df_Bucks2004 = TeamCommonRoster(team_id = '1610612749', season = '2004-05')\n",
    "df_Timberwolves2004 = TeamCommonRoster(team_id = '1610612750', season = '2004-05')\n",
    "df_Pelicans2004 = TeamCommonRoster(team_id = '1610612740', season = '2004-05')\n",
    "df_Knicks2004 = TeamCommonRoster(team_id = '1610612752', season = '2004-05')\n",
    "df_Thunder2004 = TeamCommonRoster(team_id = '1610612760', season = '2004-05')\n",
    "df_Magic2004 = TeamCommonRoster(team_id = '1610612753', season = '2004-05')\n",
    "df_Sixers2004 = TeamCommonRoster(team_id = '1610612755', season = '2004-05')\n",
    "df_Suns2004 = TeamCommonRoster(team_id = '1610612756', season = '2004-05')\n",
    "df_TrailBlazers2004 = TeamCommonRoster(team_id = '1610612757', season = '2004-05')\n",
    "df_Kings2004 = TeamCommonRoster(team_id = '1610612758', season = '2004-05')\n",
    "df_Spurs2004 = TeamCommonRoster(team_id = '1610612759', season = '2004-05')\n",
    "df_Raptors2004 = TeamCommonRoster(team_id = '1610612761', season = '2004-05')\n",
    "df_Jazz2004 = TeamCommonRoster(team_id = '1610612762', season = '2004-05')\n",
    "df_Wizards2004 = TeamCommonRoster(team_id = '1610612764', season = '2004-05')"
   ]
  },
  {
   "cell_type": "code",
   "execution_count": null,
   "metadata": {
    "collapsed": true
   },
   "outputs": [],
   "source": [
    "#2005 rosters for all the teams\n",
    "\n",
    "df_Hawks2005 = TeamCommonRoster(team_id = '1610612737', season = '2005-06')\n",
    "df_Celtics2005 = TeamCommonRoster(team_id = '1610612738', season = '2005-06')\n",
    "df_Hawks2005 = TeamCommonRoster(team_id = '1610612739', season = '2005-06')\n",
    "df_Nets2005 = TeamCommonRoster(team_id = '1610612751', season = '2005-06')\n",
    "df_Hornets2005 = TeamCommonRoster(team_id = '1610612766', season = '2005-06')\n",
    "df_Bulls2005 = TeamCommonRoster(team_id = '1610612741', season = '2005-06')\n",
    "df_Cavaliers2005 = TeamCommonRoster(team_id = '1610612739', season = '2005-06')\n",
    "df_Mavericks2005 = TeamCommonRoster(team_id = '1610612742', season = '2005-06')\n",
    "df_Nuggets2005 = TeamCommonRoster(team_id = '1610612743', season = '2005-06')\n",
    "df_Pistons2005 = TeamCommonRoster(team_id = '1610612765', season = '2005-06')\n",
    "df_Warriors2005 = TeamCommonRoster(team_id = '1610612744', season = '2005-06')\n",
    "df_Rockets2005 = TeamCommonRoster(team_id = '1610612745', season = '2005-06')\n",
    "df_Pacers2005 = TeamCommonRoster(team_id = '1610612754', season = '2005-06')\n",
    "df_Clippers2005 = TeamCommonRoster(team_id = '1610612746', season = '2005-06')\n",
    "df_Lakers2005 = TeamCommonRoster(team_id = '1610612747', season = '2005-06')\n",
    "df_Grizzlies2005 = TeamCommonRoster(team_id = '1610612763', season = '2005-06')\n",
    "df_Heat2005 = TeamCommonRoster(team_id = '1610612748', season = '2005-06')\n",
    "df_Bucks2005 = TeamCommonRoster(team_id = '1610612749', season = '2005-06')\n",
    "df_Timberwolves2005 = TeamCommonRoster(team_id = '1610612750', season = '2005-06')\n",
    "df_Pelicans2005 = TeamCommonRoster(team_id = '1610612740', season = '2005-06')\n",
    "df_Knicks2005 = TeamCommonRoster(team_id = '1610612752', season = '2005-06')\n",
    "df_Thunder2005 = TeamCommonRoster(team_id = '1610612760', season = '2005-06')\n",
    "df_Magic2005 = TeamCommonRoster(team_id = '1610612753', season = '2005-06')\n",
    "df_Sixers2005 = TeamCommonRoster(team_id = '1610612755', season = '2005-06')\n",
    "df_Suns2005 = TeamCommonRoster(team_id = '1610612756', season = '2005-06')\n",
    "df_TrailBlazers2005 = TeamCommonRoster(team_id = '1610612757', season = '2005-06')\n",
    "df_Kings2005 = TeamCommonRoster(team_id = '1610612758', season = '2005-06')\n",
    "df_Spurs2005 = TeamCommonRoster(team_id = '1610612759', season = '2005-06')\n",
    "df_Raptors2005 = TeamCommonRoster(team_id = '1610612761', season = '2005-06')\n",
    "df_Jazz2005 = TeamCommonRoster(team_id = '1610612762', season = '2005-06')\n",
    "df_Wizards2005 = TeamCommonRoster(team_id = '1610612764', season = '2005-06')"
   ]
  },
  {
   "cell_type": "code",
   "execution_count": null,
   "metadata": {
    "collapsed": true
   },
   "outputs": [],
   "source": [
    "#2006 rosters for all the teams\n",
    "\n",
    "\n",
    "df_Hawks2006 = TeamCommonRoster(team_id = '1610612737', season = '2006-07')\n",
    "df_Celtics2006 = TeamCommonRoster(team_id = '1610612738', season = '2006-07')\n",
    "df_Nets2006 = TeamCommonRoster(team_id = '1610612751', season = '2006-07')\n",
    "df_Hornets2006 = TeamCommonRoster(team_id = '1610612766', season = '2006-07')\n",
    "df_Bulls2006 = TeamCommonRoster(team_id = '1610612741', season = '2006-07')\n",
    "df_Cavaliers2006 = TeamCommonRoster(team_id = '1610612739', season = '2006-07')\n",
    "df_Mavericks2006 = TeamCommonRoster(team_id = '1610612742', season = '2006-07')\n",
    "df_Nuggets2006 = TeamCommonRoster(team_id = '1610612743', season = '2006-07')\n",
    "df_Pistons2006 = TeamCommonRoster(team_id = '1610612765', season = '2006-07')\n",
    "df_Warriors2006 = TeamCommonRoster(team_id = '1610612744', season = '2006-07')\n",
    "df_Rockets2006 = TeamCommonRoster(team_id = '1610612745', season = '2006-07')\n",
    "df_Pacers2006 = TeamCommonRoster(team_id = '1610612754', season = '2006-07')\n",
    "df_Clippers2006 = TeamCommonRoster(team_id = '1610612746', season = '2006-07')\n",
    "df_Grizzlies2006 = TeamCommonRoster(team_id = '1610612763', season = '2006-07')\n",
    "df_Lakers2006 = TeamCommonRoster(team_id = '1610612747', season = '2006-07')\n",
    "df_Heat2006 = TeamCommonRoster(team_id = '1610612748', season = '2006-07')\n",
    "df_Bucks2006 = TeamCommonRoster(team_id = '1610612749', season = '2006-07')\n",
    "df_Timberwolves2006 = TeamCommonRoster(team_id = '1610612750', season = '2006-07')\n",
    "df_Pelicans2006 = TeamCommonRoster(team_id = '1610612740', season = '2006-07')\n",
    "df_Knicks2006 = TeamCommonRoster(team_id = '1610612752', season = '2006-07')\n",
    "df_Thunder2006 = TeamCommonRoster(team_id = '1610612760', season = '2006-07')\n",
    "df_Magic2006 = TeamCommonRoster(team_id = '1610612753', season = '2006-07')\n",
    "df_Sixers2006 = TeamCommonRoster(team_id = '1610612755', season = '2006-07')\n",
    "df_Suns2006 = TeamCommonRoster(team_id = '1610612756', season = '2006-07')\n",
    "df_TrailBlazers2006 = TeamCommonRoster(team_id = '1610612757', season = '2006-07')\n",
    "df_Kings2006 = TeamCommonRoster(team_id = '1610612758', season = '2006-07')\n",
    "df_Spurs2006 = TeamCommonRoster(team_id = '1610612759', season = '2006-07')\n",
    "df_Raptors2006 = TeamCommonRoster(team_id = '1610612761', season = '2006-07')\n",
    "df_Jazz2006 = TeamCommonRoster(team_id = '1610612762', season = '2006-07')\n",
    "df_Wizards2006 = TeamCommonRoster(team_id = '1610612764', season = '2006-07')"
   ]
  },
  {
   "cell_type": "code",
   "execution_count": null,
   "metadata": {
    "collapsed": true
   },
   "outputs": [],
   "source": [
    "#2007 rosters for all the teams\n",
    "\n",
    "\n",
    "df_Hawks2007 = TeamCommonRoster(team_id = '1610612737', season = '2007-08')\n",
    "df_Celtics2007 = TeamCommonRoster(team_id = '1610612738', season = '2007-08')\n",
    "df_Nets2007 = TeamCommonRoster(team_id = '1610612751', season = '2007-08')\n",
    "df_Hornets2007 = TeamCommonRoster(team_id = '1610612766', season = '2007-08')\n",
    "df_Bulls2007 = TeamCommonRoster(team_id = '1610612741', season = '2007-08')\n",
    "df_Cavaliers2007 = TeamCommonRoster(team_id = '1610612739', season = '2007-08')\n",
    "df_Mavericks2007 = TeamCommonRoster(team_id = '1610612742', season = '2007-08')\n",
    "df_Nuggets2007 = TeamCommonRoster(team_id = '1610612743', season = '2007-08')\n",
    "df_Pistons2007 = TeamCommonRoster(team_id = '1610612765', season = '2007-08')\n",
    "df_Warriors2007 = TeamCommonRoster(team_id = '1610612744', season = '2007-08')\n",
    "df_Rockets2007 = TeamCommonRoster(team_id = '1610612745', season = '2007-08')\n",
    "df_Pacers2007 = TeamCommonRoster(team_id = '1610612754', season = '2007-08')\n",
    "df_Clippers2007 = TeamCommonRoster(team_id = '1610612746', season = '2007-08')\n",
    "df_Lakers2007 = TeamCommonRoster(team_id = '1610612747', season = '2007-08')\n",
    "df_Grizzlies2007 = TeamCommonRoster(team_id = '1610612763', season = '2007-08')\n",
    "df_Heat2007 = TeamCommonRoster(team_id = '1610612748', season = '2007-08')\n",
    "df_Bucks2007 = TeamCommonRoster(team_id = '1610612749', season = '2007-08')\n",
    "df_Timberwolves2007 = TeamCommonRoster(team_id = '1610612750', season = '2007-08')\n",
    "df_Pelicans2007 = TeamCommonRoster(team_id = '1610612740', season = '2007-08')\n",
    "df_Knicks2007 = TeamCommonRoster(team_id = '1610612752', season = '2007-08')\n",
    "df_Thunder2007 = TeamCommonRoster(team_id = '1610612760', season = '2007-08')\n",
    "df_Magic2007 = TeamCommonRoster(team_id = '1610612753', season = '2007-08')\n",
    "df_Sixers2007 = TeamCommonRoster(team_id = '1610612755', season = '2007-08')\n",
    "df_Suns2007 = TeamCommonRoster(team_id = '1610612756', season = '2007-08')\n",
    "df_TrailBlazers2007 = TeamCommonRoster(team_id = '1610612757', season = '2007-08')\n",
    "df_Kings2007 = TeamCommonRoster(team_id = '1610612758', season = '2007-08')\n",
    "df_Spurs2007 = TeamCommonRoster(team_id = '1610612759', season = '2007-08')\n",
    "df_Raptors2007 = TeamCommonRoster(team_id = '1610612761', season = '2007-08')\n",
    "df_Jazz2007 = TeamCommonRoster(team_id = '1610612762', season = '2007-08')\n",
    "df_Wizards2007 = TeamCommonRoster(team_id = '1610612764', season = '2007-08')"
   ]
  },
  {
   "cell_type": "code",
   "execution_count": null,
   "metadata": {
    "collapsed": true
   },
   "outputs": [],
   "source": [
    "#2008 rosters for all the teams\n",
    "\n",
    "\n",
    "df_Hawks2008 = TeamCommonRoster(team_id = '1610612737', season = '2008-09')\n",
    "df_Celtics2008 = TeamCommonRoster(team_id = '1610612738', season = '2008-09')\n",
    "df_Nets2008 = TeamCommonRoster(team_id = '1610612751', season = '2008-09')\n",
    "df_Hornets2008 = TeamCommonRoster(team_id = '1610612766', season = '2008-09')\n",
    "df_Bulls2008 = TeamCommonRoster(team_id = '1610612741', season = '2008-09')\n",
    "df_Cavaliers2008 = TeamCommonRoster(team_id = '1610612739', season = '2008-09')\n",
    "df_Mavericks2008 = TeamCommonRoster(team_id = '1610612742', season = '2008-09')\n",
    "df_Nuggets2008 = TeamCommonRoster(team_id = '1610612743', season = '2008-09')\n",
    "df_Pistons2008 = TeamCommonRoster(team_id = '1610612765', season = '2008-09')\n",
    "df_Warriors2008 = TeamCommonRoster(team_id = '1610612744', season = '2008-09')\n",
    "df_Rockets2008 = TeamCommonRoster(team_id = '1610612745', season = '2008-09')\n",
    "df_Pacers2008 = TeamCommonRoster(team_id = '1610612754', season = '2008-09')\n",
    "df_Clippers2008 = TeamCommonRoster(team_id = '1610612746', season = '2008-09')\n",
    "df_Lakers2008 = TeamCommonRoster(team_id = '1610612747', season = '2008-09')\n",
    "df_Grizzlies2008 = TeamCommonRoster(team_id = '1610612763', season = '2008-09')\n",
    "df_Heat2008 = TeamCommonRoster(team_id = '1610612748', season = '2008-09')\n",
    "df_Bucks2008 = TeamCommonRoster(team_id = '1610612749', season = '2008-09')\n",
    "df_Timberwolves2008 = TeamCommonRoster(team_id = '1610612750', season = '2008-09')\n",
    "df_Pelicans2008 = TeamCommonRoster(team_id = '1610612740', season = '2008-09')\n",
    "df_Knicks2008 = TeamCommonRoster(team_id = '1610612752', season = '2008-09')\n",
    "df_Thunder2008 = TeamCommonRoster(team_id = '1610612760', season = '2008-09')\n",
    "df_Magic2008 = TeamCommonRoster(team_id = '1610612753', season = '2008-09')\n",
    "df_Sixers2008 = TeamCommonRoster(team_id = '1610612755', season = '2008-09')\n",
    "df_Suns2008 = TeamCommonRoster(team_id = '1610612756', season = '2008-09')\n",
    "df_TrailBlazers2008 = TeamCommonRoster(team_id = '1610612757', season = '2008-09')\n",
    "df_Kings2008 = TeamCommonRoster(team_id = '1610612758', season = '2008-09')\n",
    "df_Spurs2008 = TeamCommonRoster(team_id = '1610612759', season = '2008-09')\n",
    "df_Raptors2008 = TeamCommonRoster(team_id = '1610612761', season = '2008-09')\n",
    "df_Jazz2008 = TeamCommonRoster(team_id = '1610612762', season = '2008-09')\n",
    "df_Wizards2008 = TeamCommonRoster(team_id = '1610612764', season = '2008-09')"
   ]
  },
  {
   "cell_type": "code",
   "execution_count": null,
   "metadata": {
    "collapsed": true
   },
   "outputs": [],
   "source": [
    "#2009 rosters for all the teams\n",
    "\n",
    "\n",
    "df_Hawks2009 = TeamCommonRoster(team_id = '1610612737', season = '2009-10')\n",
    "df_Celtics2009 = TeamCommonRoster(team_id = '1610612738', season = '2009-10')\n",
    "df_Nets2009 = TeamCommonRoster(team_id = '1610612751', season = '2009-10')\n",
    "df_Hornets2009 = TeamCommonRoster(team_id = '1610612766', season = '2009-10')\n",
    "df_Bulls2009 = TeamCommonRoster(team_id = '1610612741', season = '2009-10')\n",
    "df_Cavaliers2009 = TeamCommonRoster(team_id = '1610612739', season = '2009-10')\n",
    "df_Mavericks2009 = TeamCommonRoster(team_id = '1610612742', season = '2009-10')\n",
    "df_Nuggets2009 = TeamCommonRoster(team_id = '1610612743', season = '2009-10')\n",
    "df_Pistons2009 = TeamCommonRoster(team_id = '1610612765', season = '2009-10')\n",
    "df_Warriors2009 = TeamCommonRoster(team_id = '1610612744', season = '2009-10')\n",
    "df_Rockets2009 = TeamCommonRoster(team_id = '1610612745', season = '2009-10')\n",
    "df_Pacers2009 = TeamCommonRoster(team_id = '1610612754', season = '2009-10')\n",
    "df_Clippers2009 = TeamCommonRoster(team_id = '1610612746', season = '2009-10')\n",
    "df_Lakers2009 = TeamCommonRoster(team_id = '1610612747', season = '2009-10')\n",
    "df_Grizzlies2009 = TeamCommonRoster(team_id = '1610612763', season = '2009-10')\n",
    "df_Heat2009 = TeamCommonRoster(team_id = '1610612748', season = '2009-10')\n",
    "df_Bucks2009 = TeamCommonRoster(team_id = '1610612749', season = '2009-10')\n",
    "df_Timberwolves2009 = TeamCommonRoster(team_id = '1610612750', season = '2009-10')\n",
    "df_Pelicans2009 = TeamCommonRoster(team_id = '1610612740', season = '2009-10')\n",
    "df_Knicks2009 = TeamCommonRoster(team_id = '1610612752', season = '2009-10')\n",
    "df_Thunder2009 = TeamCommonRoster(team_id = '1610612760', season = '2009-10')\n",
    "df_Magic2009 = TeamCommonRoster(team_id = '1610612753', season = '2009-10')\n",
    "df_Sixers2009 = TeamCommonRoster(team_id = '1610612755', season = '2009-10')\n",
    "df_Suns2009 = TeamCommonRoster(team_id = '1610612756', season = '2009-10')\n",
    "df_TrailBlazers2009 = TeamCommonRoster(team_id = '1610612757', season = '2009-10')\n",
    "df_Kings2009 = TeamCommonRoster(team_id = '1610612758', season = '2009-10')\n",
    "df_Spurs2009 = TeamCommonRoster(team_id = '1610612759', season = '2009-10')\n",
    "df_Raptors2009 = TeamCommonRoster(team_id = '1610612761', season = '2009-10')\n",
    "df_Jazz2009 = TeamCommonRoster(team_id = '1610612762', season = '2009-10')\n",
    "df_Wizards2009 = TeamCommonRoster(team_id = '1610612764', season = '2009-10')"
   ]
  },
  {
   "cell_type": "code",
   "execution_count": null,
   "metadata": {
    "collapsed": true
   },
   "outputs": [],
   "source": [
    "#2010 rosters for all the teams\n",
    "\n",
    "\n",
    "df_Hawks2010 = TeamCommonRoster(team_id = '1610612737', season = '2010-11')\n",
    "df_Celtics2010 = TeamCommonRoster(team_id = '1610612738', season = '2010-11')\n",
    "df_Nets2010 = TeamCommonRoster(team_id = '1610612751', season = '2010-11')\n",
    "df_Hornets2010 = TeamCommonRoster(team_id = '1610612766', season = '2010-11')\n",
    "df_Bulls2010 = TeamCommonRoster(team_id = '1610612741', season = '2010-11')\n",
    "df_Cavaliers2010 = TeamCommonRoster(team_id = '1610612739', season = '2010-11')\n",
    "df_Mavericks2010 = TeamCommonRoster(team_id = '1610612742', season = '2010-11')\n",
    "df_Nuggets2010 = TeamCommonRoster(team_id = '1610612743', season = '2010-11')\n",
    "df_Pistons2010 = TeamCommonRoster(team_id = '1610612765', season = '2010-11')\n",
    "df_Warriors2010 = TeamCommonRoster(team_id = '1610612744', season = '2010-11')\n",
    "df_Rockets2010 = TeamCommonRoster(team_id = '1610612745', season = '2010-11')\n",
    "df_Pacers2010 = TeamCommonRoster(team_id = '1610612754', season = '2010-11')\n",
    "df_Clippers2010 = TeamCommonRoster(team_id = '1610612746', season = '2010-11')\n",
    "df_Lakers2010 = TeamCommonRoster(team_id = '1610612747', season = '2010-11')\n",
    "df_Grizzlies2010 = TeamCommonRoster(team_id = '1610612763', season = '2010-11')\n",
    "df_Heat2010 = TeamCommonRoster(team_id = '1610612748', season = '2010-11')\n",
    "df_Bucks2010 = TeamCommonRoster(team_id = '1610612749', season = '2010-11')\n",
    "df_Timberwolves2010 = TeamCommonRoster(team_id = '1610612750', season = '2010-11')\n",
    "df_Pelicans2010 = TeamCommonRoster(team_id = '1610612740', season = '2010-11')\n",
    "df_Knicks2010 = TeamCommonRoster(team_id = '1610612752', season = '2010-11')\n",
    "df_Thunder2010 = TeamCommonRoster(team_id = '1610612760', season = '2010-11')\n",
    "df_Magic2010 = TeamCommonRoster(team_id = '1610612753', season = '2010-11')\n",
    "df_Sixers2010 = TeamCommonRoster(team_id = '1610612755', season = '2010-11')\n",
    "df_Suns2010 = TeamCommonRoster(team_id = '1610612756', season = '2010-11')\n",
    "df_TrailBlazers2010 = TeamCommonRoster(team_id = '1610612757', season = '2010-11')\n",
    "df_Kings2010 = TeamCommonRoster(team_id = '1610612758', season = '2010-11')\n",
    "df_Spurs2010 = TeamCommonRoster(team_id = '1610612759', season = '2010-11')\n",
    "df_Raptors2010 = TeamCommonRoster(team_id = '1610612761', season = '2010-11')\n",
    "df_Jazz2010 = TeamCommonRoster(team_id = '1610612762', season = '2010-11')\n",
    "df_Wizards2010 = TeamCommonRoster(team_id = '1610612764', season = '2010-11')"
   ]
  },
  {
   "cell_type": "code",
   "execution_count": null,
   "metadata": {
    "collapsed": true
   },
   "outputs": [],
   "source": [
    "#2011 rosters for all the teams\n",
    "\n",
    "\n",
    "df_Hawks2011 = TeamCommonRoster(team_id = '1610612737', season = '2011-12')\n",
    "df_Celtics2011 = TeamCommonRoster(team_id = '1610612738', season = '2011-12')\n",
    "df_Nets2011 = TeamCommonRoster(team_id = '1610612751', season = '2011-12')\n",
    "df_Hornets2011 = TeamCommonRoster(team_id = '1610612766', season = '2011-12')\n",
    "df_Bulls2011 = TeamCommonRoster(team_id = '1610612741', season = '2011-12')\n",
    "df_Cavaliers2011 = TeamCommonRoster(team_id = '1610612739', season = '2011-12')\n",
    "df_Mavericks2011 = TeamCommonRoster(team_id = '1610612742', season = '2011-12')\n",
    "df_Nuggets2011 = TeamCommonRoster(team_id = '1610612743', season = '2011-12')\n",
    "df_Pistons2011 = TeamCommonRoster(team_id = '1610612765', season = '2011-12')\n",
    "df_Warriors2011 = TeamCommonRoster(team_id = '1610612744', season = '2011-12')\n",
    "df_Rockets2011 = TeamCommonRoster(team_id = '1610612745', season = '2011-12')\n",
    "df_Pacers2011 = TeamCommonRoster(team_id = '1610612754', season = '2011-12')\n",
    "df_Clippers2011 = TeamCommonRoster(team_id = '1610612746', season = '2011-12')\n",
    "df_Lakers2011 = TeamCommonRoster(team_id = '1610612747', season = '2011-12')\n",
    "df_Grizzlies2011 = TeamCommonRoster(team_id = '1610612763', season = '2011-12')\n",
    "df_Heat2011 = TeamCommonRoster(team_id = '1610612748', season = '2011-12')\n",
    "df_Bucks2011 = TeamCommonRoster(team_id = '1610612749', season = '2011-12')\n",
    "df_Timberwolves2011 = TeamCommonRoster(team_id = '1610612750', season = '2011-12')\n",
    "df_Pelicans2011 = TeamCommonRoster(team_id = '1610612740', season = '2011-12')\n",
    "df_Knicks2011 = TeamCommonRoster(team_id = '1610612752', season = '2011-12')\n",
    "df_Thunder2011 = TeamCommonRoster(team_id = '1610612760', season = '2011-12')\n",
    "df_Magic2011 = TeamCommonRoster(team_id = '1610612753', season = '2011-12')\n",
    "df_Sixers2011 = TeamCommonRoster(team_id = '1610612755', season = '2011-12')\n",
    "df_Suns2011 = TeamCommonRoster(team_id = '1610612756', season = '2011-12')\n",
    "df_TrailBlazers2011 = TeamCommonRoster(team_id = '1610612757', season = '2011-12')\n",
    "df_Kings2011 = TeamCommonRoster(team_id = '1610612758', season = '2011-12')\n",
    "df_Spurs2011 = TeamCommonRoster(team_id = '1610612759', season = '2011-12')\n",
    "df_Raptors2011 = TeamCommonRoster(team_id = '1610612761', season = '2011-12')\n",
    "df_Jazz2011 = TeamCommonRoster(team_id = '1610612762', season = '2011-12')\n",
    "df_Wizards2011 = TeamCommonRoster(team_id = '1610612764', season = '2011-12')"
   ]
  },
  {
   "cell_type": "code",
   "execution_count": null,
   "metadata": {
    "collapsed": true
   },
   "outputs": [],
   "source": [
    "#2012 rosters for all the teams\n",
    "\n",
    "\n",
    "df_Hawks2012 = TeamCommonRoster(team_id = '1610612737', season = '2012-13')\n",
    "df_Celtics2012 = TeamCommonRoster(team_id = '1610612738', season = '2012-13')\n",
    "df_Nets2012 = TeamCommonRoster(team_id = '1610612751', season = '2012-13')\n",
    "df_Hornets2012 = TeamCommonRoster(team_id = '1610612766', season = '2012-13')\n",
    "df_Bulls2012 = TeamCommonRoster(team_id = '1610612741', season = '2012-13')\n",
    "df_Cavaliers2012 = TeamCommonRoster(team_id = '1610612739', season = '2012-13')\n",
    "df_Mavericks2012 = TeamCommonRoster(team_id = '1610612742', season = '2012-13')\n",
    "df_Nuggets2012 = TeamCommonRoster(team_id = '1610612743', season = '2012-13')\n",
    "df_Pistons2012 = TeamCommonRoster(team_id = '1610612765', season = '2012-13')\n",
    "df_Warriors2012 = TeamCommonRoster(team_id = '1610612744', season = '2012-13')\n",
    "df_Rockets2012 = TeamCommonRoster(team_id = '1610612745', season = '2012-13')\n",
    "df_Pacers2012 = TeamCommonRoster(team_id = '1610612754', season = '2012-13')\n",
    "df_Clippers2012 = TeamCommonRoster(team_id = '1610612746', season = '2012-13')\n",
    "df_Lakers2012 = TeamCommonRoster(team_id = '1610612747', season = '2012-13')\n",
    "df_Grizzlies2012 = TeamCommonRoster(team_id = '1610612763', season = '2012-13')\n",
    "df_Heat2012 = TeamCommonRoster(team_id = '1610612748', season = '2012-13')\n",
    "df_Bucks2012 = TeamCommonRoster(team_id = '1610612749', season = '2012-13')\n",
    "df_Timberwolves2012 = TeamCommonRoster(team_id = '1610612750', season = '2012-13')\n",
    "df_Pelicans2012 = TeamCommonRoster(team_id = '1610612740', season = '2012-13')\n",
    "df_Knicks2012 = TeamCommonRoster(team_id = '1610612752', season = '2012-13')\n",
    "df_Thunder2012 = TeamCommonRoster(team_id = '1610612760', season = '2012-13')\n",
    "df_Magic2012 = TeamCommonRoster(team_id = '1610612753', season = '2012-13')\n",
    "df_Sixers2012 = TeamCommonRoster(team_id = '1610612755', season = '2012-13')\n",
    "df_Suns2012 = TeamCommonRoster(team_id = '1610612756', season = '2012-13')\n",
    "df_TrailBlazers2012 = TeamCommonRoster(team_id = '1610612757', season = '2012-13')\n",
    "df_Kings2012 = TeamCommonRoster(team_id = '1610612758', season = '2012-13')\n",
    "df_Spurs2012 = TeamCommonRoster(team_id = '1610612759', season = '2012-13')\n",
    "df_Raptors2012 = TeamCommonRoster(team_id = '1610612761', season = '2012-13')\n",
    "df_Jazz2012 = TeamCommonRoster(team_id = '1610612762', season = '2012-13')\n",
    "df_Wizards2012 = TeamCommonRoster(team_id = '1610612764', season = '2012-13')"
   ]
  },
  {
   "cell_type": "code",
   "execution_count": null,
   "metadata": {
    "collapsed": true
   },
   "outputs": [],
   "source": [
    "#2013 rosters for all the teams\n",
    "\n",
    "\n",
    "df_Hawks2013 = TeamCommonRoster(team_id = '1610612737', season = '2013-14')\n",
    "df_Celtics2013 = TeamCommonRoster(team_id = '1610612738', season = '2013-14')\n",
    "df_Nets2013 = TeamCommonRoster(team_id = '1610612751', season = '2013-14')\n",
    "df_Hornets2013 = TeamCommonRoster(team_id = '1610612766', season = '2013-14')\n",
    "df_Bulls2013 = TeamCommonRoster(team_id = '1610612741', season = '2013-14')\n",
    "df_Cavaliers2013 = TeamCommonRoster(team_id = '1610612739', season = '2013-14')\n",
    "df_Mavericks2013 = TeamCommonRoster(team_id = '1610612742', season = '2013-14')\n",
    "df_Nuggets2013 = TeamCommonRoster(team_id = '1610612743', season = '2013-14')\n",
    "df_Pistons2013 = TeamCommonRoster(team_id = '1610612765', season = '2013-14')\n",
    "df_Warriors2013 = TeamCommonRoster(team_id = '1610612744', season = '2013-14')\n",
    "df_Rockets2013 = TeamCommonRoster(team_id = '1610612745', season = '2013-14')\n",
    "df_Pacers2013 = TeamCommonRoster(team_id = '1610612754', season = '2013-14')\n",
    "df_Clippers2013 = TeamCommonRoster(team_id = '1610612746', season = '2013-14')\n",
    "df_Lakers2013 = TeamCommonRoster(team_id = '1610612747', season = '2013-14')\n",
    "df_Grizzlies2013 = TeamCommonRoster(team_id = '1610612763', season = '2013-14')\n",
    "df_Heat2013 = TeamCommonRoster(team_id = '1610612748', season = '2013-14')\n",
    "df_Bucks2013 = TeamCommonRoster(team_id = '1610612749', season = '2013-14')\n",
    "df_Timberwolves2013 = TeamCommonRoster(team_id = '1610612750', season = '2013-14')\n",
    "df_Pelicans2013 = TeamCommonRoster(team_id = '1610612740', season = '2013-14')\n",
    "df_Knicks2013 = TeamCommonRoster(team_id = '1610612752', season = '2013-14')\n",
    "df_Thunder2013 = TeamCommonRoster(team_id = '1610612760', season = '2013-14')\n",
    "df_Magic2013 = TeamCommonRoster(team_id = '1610612753', season = '2013-14')\n",
    "df_Sixers2013 = TeamCommonRoster(team_id = '1610612755', season = '2013-14')\n",
    "df_Suns2013 = TeamCommonRoster(team_id = '1610612756', season = '2013-14')\n",
    "df_TrailBlazers2013 = TeamCommonRoster(team_id = '1610612757', season = '2013-14')\n",
    "df_Kings2013 = TeamCommonRoster(team_id = '1610612758', season = '2013-14')\n",
    "df_Spurs2013 = TeamCommonRoster(team_id = '1610612759', season = '2013-14')\n",
    "df_Raptors2013 = TeamCommonRoster(team_id = '1610612761', season = '2013-14')\n",
    "df_Jazz2013 = TeamCommonRoster(team_id = '1610612762', season = '2013-14')\n",
    "df_Wizards2013 = TeamCommonRoster(team_id = '1610612764', season = '2013-14')"
   ]
  },
  {
   "cell_type": "code",
   "execution_count": null,
   "metadata": {
    "collapsed": true
   },
   "outputs": [],
   "source": [
    "#df_Wizards2013.roster()"
   ]
  },
  {
   "cell_type": "code",
   "execution_count": null,
   "metadata": {
    "collapsed": true
   },
   "outputs": [],
   "source": [
    "#2014 rosters for all the teams\n",
    "\n",
    "df_Hawks2014 = TeamCommonRoster(team_id = '1610612737', season = '2014-15')\n",
    "df_Celtics2014 = TeamCommonRoster(team_id = '1610612738', season = '2014-15')\n",
    "df_Nets2014 = TeamCommonRoster(team_id = '1610612751', season = '2014-15')\n",
    "df_Hornets2014 = TeamCommonRoster(team_id = '1610612766', season = '2014-15')\n",
    "df_Bulls2014 = TeamCommonRoster(team_id = '1610612741', season = '2014-15')\n",
    "df_Cavaliers2014 = TeamCommonRoster(team_id = '1610612739', season = '2014-15')\n",
    "df_Mavericks2014 = TeamCommonRoster(team_id = '1610612742', season = '2014-15')\n",
    "df_Nuggets2014 = TeamCommonRoster(team_id = '1610612743', season = '2014-15')\n",
    "df_Pistons2014 = TeamCommonRoster(team_id = '1610612765', season = '2014-15')\n",
    "df_Warriors2014 = TeamCommonRoster(team_id = '1610612744', season = '2014-15')\n",
    "df_Rockets2014 = TeamCommonRoster(team_id = '1610612745', season = '2014-15')\n",
    "df_Pacers2014 = TeamCommonRoster(team_id = '1610612754', season = '2014-15')\n",
    "df_Clippers2014 = TeamCommonRoster(team_id = '1610612746', season = '2014-15')\n",
    "df_Lakers2014 = TeamCommonRoster(team_id = '1610612747', season = '2014-15')\n",
    "df_Grizzlies2014 = TeamCommonRoster(team_id = '1610612763', season = '2014-15')\n",
    "df_Heat2014 = TeamCommonRoster(team_id = '1610612748', season = '2014-15')\n",
    "df_Bucks2014 = TeamCommonRoster(team_id = '1610612749', season = '2014-15')\n",
    "df_Timberwolves2014 = TeamCommonRoster(team_id = '1610612750', season = '2014-15')\n",
    "df_Pelicans2014 = TeamCommonRoster(team_id = '1610612740', season = '2014-15')\n",
    "df_Knicks2014 = TeamCommonRoster(team_id = '1610612752', season = '2014-15')\n",
    "df_Thunder2014 = TeamCommonRoster(team_id = '1610612760', season = '2014-15')\n",
    "df_Magic2014 = TeamCommonRoster(team_id = '1610612753', season = '2014-15')\n",
    "df_Sixers2014 = TeamCommonRoster(team_id = '1610612755', season = '2014-15')\n",
    "df_Suns2014 = TeamCommonRoster(team_id = '1610612756', season = '2014-15')\n",
    "df_TrailBlazers2014 = TeamCommonRoster(team_id = '1610612757', season = '2014-15')\n",
    "df_Kings2014 = TeamCommonRoster(team_id = '1610612758', season = '2014-15')\n",
    "df_Spurs2014 = TeamCommonRoster(team_id = '1610612759', season = '2014-15')\n",
    "df_Raptors2014 = TeamCommonRoster(team_id = '1610612761', season = '2014-15')\n",
    "df_Jazz2014 = TeamCommonRoster(team_id = '1610612762', season = '2014-15')\n",
    "df_Wizards2014 = TeamCommonRoster(team_id = '1610612764', season = '2014-15')"
   ]
  },
  {
   "cell_type": "code",
   "execution_count": null,
   "metadata": {
    "collapsed": true
   },
   "outputs": [],
   "source": [
    "#df_Wizards2014.roster()"
   ]
  },
  {
   "cell_type": "code",
   "execution_count": null,
   "metadata": {
    "collapsed": true
   },
   "outputs": [],
   "source": [
    "#2015 rosters for all the teams\n",
    "\n",
    "df_Hawks2013 = TeamCommonRoster(team_id = '1610612737', season = '2015-16')\n",
    "df_Celtics2015 = TeamCommonRoster(team_id = '1610612738', season = '2015-16')\n",
    "df_Nets2015 = TeamCommonRoster(team_id = '1610612751', season = '2015-16')\n",
    "df_Hornets2015 = TeamCommonRoster(team_id = '1610612766', season = '2015-16')\n",
    "df_Bulls2015 = TeamCommonRoster(team_id = '1610612741', season = '2015-16')\n",
    "df_Cavaliers2015 = TeamCommonRoster(team_id = '1610612739', season = '2015-16')\n",
    "df_Mavericks2015 = TeamCommonRoster(team_id = '1610612742', season = '2015-16')\n",
    "df_Nuggets2015 = TeamCommonRoster(team_id = '1610612743', season = '2015-16')\n",
    "df_Pistons2015 = TeamCommonRoster(team_id = '1610612765', season = '2015-16')\n",
    "df_Warriors2015 = TeamCommonRoster(team_id = '1610612744', season = '2015-16')\n",
    "df_Rockets2015 = TeamCommonRoster(team_id = '1610612745', season = '2015-16')\n",
    "df_Pacers2015 = TeamCommonRoster(team_id = '1610612754', season = '2015-16')\n",
    "df_Clippers2015 = TeamCommonRoster(team_id = '1610612746', season = '2015-16')\n",
    "df_Lakers2015 = TeamCommonRoster(team_id = '1610612747', season = '2015-16')\n",
    "df_Grizzlies2015 = TeamCommonRoster(team_id = '1610612763', season = '2015-16')\n",
    "df_Heat2015 = TeamCommonRoster(team_id = '1610612748', season = '2015-16')\n",
    "df_Bucks2015 = TeamCommonRoster(team_id = '1610612749', season = '2015-16')\n",
    "df_Timberwolves2015 = TeamCommonRoster(team_id = '1610612750', season = '2015-16')\n",
    "df_Pelicans2015 = TeamCommonRoster(team_id = '1610612740', season = '2015-16')\n",
    "df_Knicks2015 = TeamCommonRoster(team_id = '1610612752', season = '2015-16')\n",
    "df_Thunder2015 = TeamCommonRoster(team_id = '1610612760', season = '2015-16')\n",
    "df_Magic2015 = TeamCommonRoster(team_id = '1610612753', season = '2015-16')\n",
    "df_Sixers2015 = TeamCommonRoster(team_id = '1610612755', season = '2015-16')\n",
    "df_Suns2015 = TeamCommonRoster(team_id = '1610612756', season = '2015-16')\n",
    "df_TrailBlazers2015 = TeamCommonRoster(team_id = '1610612757', season = '2015-16')\n",
    "df_Kings2015 = TeamCommonRoster(team_id = '1610612758', season = '2015-16')\n",
    "df_Spurs2015 = TeamCommonRoster(team_id = '1610612759', season = '2015-16')\n",
    "df_Raptors2015 = TeamCommonRoster(team_id = '1610612761', season = '2015-16')\n",
    "df_Jazz2015 = TeamCommonRoster(team_id = '1610612762', season = '2015-16')\n",
    "df_Wizards2015 = TeamCommonRoster(team_id = '1610612764', season = '2015-16')\n"
   ]
  },
  {
   "cell_type": "code",
   "execution_count": null,
   "metadata": {
    "collapsed": true
   },
   "outputs": [],
   "source": [
    "#2016 rosters for all the teams\n",
    "\n",
    "df_Hawks2016 = TeamCommonRoster(team_id = '1610612737', season = '2016-17')\n",
    "df_Celtics2016 = TeamCommonRoster(team_id = '1610612738', season = '2016-17')\n",
    "df_Nets2016 = TeamCommonRoster(team_id = '1610612751', season = '2016-17')\n",
    "df_Hornets2016 = TeamCommonRoster(team_id = '1610612766', season = '2016-17')\n",
    "df_Bulls2016 = TeamCommonRoster(team_id = '1610612741', season = '2016-17')\n",
    "df_Cavaliers2016 = TeamCommonRoster(team_id = '1610612739', season = '2016-17')\n",
    "df_Mavericks2016 = TeamCommonRoster(team_id = '1610612742', season = '2016-17')\n",
    "df_Nuggets2016 = TeamCommonRoster(team_id = '1610612743', season = '2016-17')\n",
    "df_Pistons2016 = TeamCommonRoster(team_id = '1610612765', season = '2016-17')\n",
    "df_Warriors2016 = TeamCommonRoster(team_id = '1610612744', season = '2016-17')\n",
    "df_Rockets2016 = TeamCommonRoster(team_id = '1610612745', season = '2016-17')\n",
    "df_Pacers2016 = TeamCommonRoster(team_id = '1610612754', season = '2016-17')\n",
    "df_Clippers2016 = TeamCommonRoster(team_id = '1610612746', season = '2016-17')\n",
    "df_Lakers2016 = TeamCommonRoster(team_id = '1610612747', season = '2016-17')\n",
    "df_Grizzlies2016 = TeamCommonRoster(team_id = '1610612763', season = '2016-17')\n",
    "df_Heat2016 = TeamCommonRoster(team_id = '1610612748', season = '2016-17')\n",
    "df_Bucks2016 = TeamCommonRoster(team_id = '1610612749', season = '2016-17')\n",
    "df_Timberwolves2016 = TeamCommonRoster(team_id = '1610612750', season = '2016-17')\n",
    "df_Pelicans2016 = TeamCommonRoster(team_id = '1610612740', season = '2016-17')\n",
    "df_Knicks2016 = TeamCommonRoster(team_id = '1610612752', season = '2016-17')\n",
    "df_Thunder2016 = TeamCommonRoster(team_id = '1610612760', season = '2016-17')\n",
    "df_Magic2016 = TeamCommonRoster(team_id = '1610612753', season = '2016-17')\n",
    "df_Sixers2016 = TeamCommonRoster(team_id = '1610612755', season = '2016-17')\n",
    "df_Suns2016 = TeamCommonRoster(team_id = '1610612756', season = '2016-17')\n",
    "df_TrailBlazers2016 = TeamCommonRoster(team_id = '1610612757', season = '2016-17')\n",
    "df_Kings2016 = TeamCommonRoster(team_id = '1610612758', season = '2016-17')\n",
    "df_Spurs2016 = TeamCommonRoster(team_id = '1610612759', season = '2016-17')\n",
    "df_Raptors2016 = TeamCommonRoster(team_id = '1610612761', season = '2016-17')\n",
    "df_Jazz2016 = TeamCommonRoster(team_id = '1610612762', season = '2016-17')\n",
    "df_Wizards2016 = TeamCommonRoster(team_id = '1610612764', season = '2016-17')"
   ]
  },
  {
   "cell_type": "code",
   "execution_count": null,
   "metadata": {
    "collapsed": true
   },
   "outputs": [],
   "source": [
    "#RESULTS"
   ]
  },
  {
   "cell_type": "code",
   "execution_count": 9,
   "metadata": {
    "collapsed": true
   },
   "outputs": [],
   "source": [
    "TEAMS = ['1610612737','1610612738','1610612751','1610612766','1610612741', \n",
    "         '1610612739', '1610612742' , '1610612743', '1610612765','1610612744',\n",
    "         '1610612745', '1610612754', '1610612746', '1610612747', '1610612763', \n",
    "         '1610612748', '1610612749', '1610612750', '1610612740', '1610612752',\n",
    "         '1610612760', '1610612753', '1610612755', '1610612756', '1610612757', \n",
    "         '1610612758', '1610612759', '1610612761', '1610612762', '1610612764']\n"
   ]
  },
  {
   "cell_type": "code",
   "execution_count": 10,
   "metadata": {
    "collapsed": true
   },
   "outputs": [],
   "source": [
    "#roster2015 = pd.DataFrame(df_players2015)\n",
    "#roster2015.to_csv('clean_players_2015.csv')"
   ]
  },
  {
   "cell_type": "code",
   "execution_count": 11,
   "metadata": {
    "collapsed": true
   },
   "outputs": [],
   "source": [
    "roster2000 = []\n",
    "#for team in TEAMS: #takes too long\n",
    "    #roster2000.append(TeamCommonRoster(team_id = team, season = '2000-01').roster())\n",
    "df_players2000 = df_players2000.overall()\n",
    "df_players2000 = df_players2000[df_players2000['GP'] >= 7]\n",
    "df_players2000 = df_players2000[df_players2000['MIN'] >= 5]\n",
    "for i, row in df_players2000.iterrows():\n",
    "    row['PTS'] = row['PTS']/row['MIN']\n",
    "    row['AST'] = row['AST']/row['MIN']\n",
    "    row['REB'] = row['REB']/row['MIN']\n",
    "    row['STL'] = row['STL']/row['MIN']\n",
    "    row['TOV'] = row['TOV']/row['MIN']\n",
    "rosterClean2000 = pd.DataFrame(df_players2000)\n",
    "rosterClean2000.to_csv('clean_players_2000.csv')\n",
    "    "
   ]
  },
  {
   "cell_type": "code",
   "execution_count": 12,
   "metadata": {
    "collapsed": true
   },
   "outputs": [],
   "source": [
    "df_players2001 = df_players2001.overall()\n",
    "df_players2001 = df_players2001[df_players2001['GP'] >= 7]\n",
    "df_players2001 = df_players2001[df_players2001['MIN'] >= 5]\n",
    "for i, row in df_players2001.iterrows():\n",
    "    row['PTS'] = row['PTS']/row['MIN']\n",
    "    row['AST'] = row['AST']/row['MIN']\n",
    "    row['REB'] = row['REB']/row['MIN']\n",
    "    row['STL'] = row['STL']/row['MIN']\n",
    "    row['TOV'] = row['TOV']/row['MIN']\n",
    "rosterClean2001 = pd.DataFrame(df_players2001)\n",
    "rosterClean2001.to_csv('clean_players_2001.csv')"
   ]
  },
  {
   "cell_type": "code",
   "execution_count": null,
   "metadata": {
    "collapsed": true
   },
   "outputs": [],
   "source": [
    "df_players2002 = df_players2002.overall()\n",
    "df_players2002 = df_players2002[df_players2002['GP'] >= 7]\n",
    "df_players2002 = df_players2002[df_players2002['MIN'] >= 5]\n",
    "for i, row in df_players2002.iterrows():\n",
    "    row['PTS'] = row['PTS']/row['MIN']\n",
    "    row['AST'] = row['AST']/row['MIN']\n",
    "    row['REB'] = row['REB']/row['MIN']\n",
    "    row['STL'] = row['STL']/row['MIN']\n",
    "    row['TOV'] = row['TOV']/row['MIN']\n",
    "rosterClean2002 = pd.DataFrame(df_players2002)\n",
    "rosterClean2002.to_csv('clean_players_2002.csv')"
   ]
  },
  {
   "cell_type": "code",
   "execution_count": null,
   "metadata": {
    "collapsed": true
   },
   "outputs": [],
   "source": [
    "df_players2003 = df_players2003.overall()\n",
    "df_players2003 = df_players2003[df_players2003['GP'] >= 7]\n",
    "df_players2003 = df_players2003[df_players2003['MIN'] >= 5]\n",
    "for i, row in df_players2003.iterrows():\n",
    "    row['PTS'] = row['PTS']/row['MIN']\n",
    "    row['AST'] = row['AST']/row['MIN']\n",
    "    row['REB'] = row['REB']/row['MIN']\n",
    "    row['STL'] = row['STL']/row['MIN']\n",
    "    row['TOV'] = row['TOV']/row['MIN']\n",
    "rosterClean2003 = pd.DataFrame(df_players2003)\n",
    "rosterClean2003.to_csv('clean_players_2003.csv')"
   ]
  },
  {
   "cell_type": "code",
   "execution_count": null,
   "metadata": {
    "collapsed": true
   },
   "outputs": [],
   "source": [
    "df_players2004 = df_players2004.overall()\n",
    "df_players2004 = df_players2004[df_players2004['GP'] >= 7]\n",
    "df_players2004 = df_players2004[df_players2004['MIN'] >= 5]\n",
    "for i, row in df_players2004.iterrows():\n",
    "    row['PTS'] = row['PTS']/row['MIN']\n",
    "    row['AST'] = row['AST']/row['MIN']\n",
    "    row['REB'] = row['REB']/row['MIN']\n",
    "    row['STL'] = row['STL']/row['MIN']\n",
    "    row['TOV'] = row['TOV']/row['MIN']\n",
    "rosterClean2004 = pd.DataFrame(df_players2004)\n",
    "rosterClean2004.to_csv('clean_players_2004.csv')"
   ]
  },
  {
   "cell_type": "code",
   "execution_count": null,
   "metadata": {
    "collapsed": true
   },
   "outputs": [],
   "source": [
    "df_players2005 = df_players2005.overall()\n",
    "df_players2005 = df_players2005[df_players2005['GP'] >= 7]\n",
    "df_players2005 = df_players2005[df_players2005['MIN'] >= 5]\n",
    "for i, row in df_players2005.iterrows():\n",
    "    row['PTS'] = row['PTS']/row['MIN']\n",
    "    row['AST'] = row['AST']/row['MIN']\n",
    "    row['REB'] = row['REB']/row['MIN']\n",
    "    row['STL'] = row['STL']/row['MIN']\n",
    "    row['TOV'] = row['TOV']/row['MIN']\n",
    "rosterClean2005 = pd.DataFrame(df_players2005)\n",
    "rosterClean2005.to_csv('clean_players_2005.csv')"
   ]
  },
  {
   "cell_type": "code",
   "execution_count": null,
   "metadata": {
    "collapsed": true
   },
   "outputs": [],
   "source": [
    "df_players2006 = df_players2006.overall()\n",
    "df_players2006 = df_players2006[df_players2006['GP'] >= 7]\n",
    "df_players2006 = df_players2006[df_players2006['MIN'] >= 5]\n",
    "for i, row in df_players2006.iterrows():\n",
    "    row['PTS'] = row['PTS']/row['MIN']\n",
    "    row['AST'] = row['AST']/row['MIN']\n",
    "    row['REB'] = row['REB']/row['MIN']\n",
    "    row['STL'] = row['STL']/row['MIN']\n",
    "    row['TOV'] = row['TOV']/row['MIN']\n",
    "rosterClean2006 = pd.DataFrame(df_players2006)\n",
    "rosterClean2006.to_csv('clean_players_2006.csv')"
   ]
  },
  {
   "cell_type": "code",
   "execution_count": null,
   "metadata": {
    "collapsed": true
   },
   "outputs": [],
   "source": [
    "df_players2007 = df_players2007.overall()\n",
    "df_players2007 = df_players2007[df_players2007['GP'] >= 7]\n",
    "df_players2007 = df_players2007[df_players2007['MIN'] >= 5]\n",
    "for i, row in df_players2007.iterrows():\n",
    "    row['PTS'] = row['PTS']/row['MIN']\n",
    "    row['AST'] = row['AST']/row['MIN']\n",
    "    row['REB'] = row['REB']/row['MIN']\n",
    "    row['STL'] = row['STL']/row['MIN']\n",
    "    row['TOV'] = row['TOV']/row['MIN']\n",
    "rosterClean2007 = pd.DataFrame(df_players2007)\n",
    "rosterClean2007.to_csv('clean_players_2007.csv')"
   ]
  },
  {
   "cell_type": "code",
   "execution_count": 3,
   "metadata": {
    "collapsed": true
   },
   "outputs": [],
   "source": [
    "df_players2008 = df_players2008.overall()\n",
    "df_players2008 = df_players2008[df_players2008['GP'] >= 7]\n",
    "df_players2008 = df_players2008[df_players2008['MIN'] >= 5]\n",
    "for i, row in df_players2008.iterrows():\n",
    "    row['PTS'] = row['PTS']/row['MIN']\n",
    "    row['AST'] = row['AST']/row['MIN']\n",
    "    row['REB'] = row['REB']/row['MIN']\n",
    "    row['STL'] = row['STL']/row['MIN']\n",
    "    row['TOV'] = row['TOV']/row['MIN']\n",
    "rosterClean2008 = pd.DataFrame(df_players2008)\n",
    "rosterClean2008.to_csv('clean_players_2008.csv')"
   ]
  },
  {
   "cell_type": "code",
   "execution_count": null,
   "metadata": {
    "collapsed": true
   },
   "outputs": [],
   "source": [
    "df_players2009 = df_players2009.overall()\n",
    "df_players2009 = df_players2009[df_players2009['GP'] >= 7]\n",
    "df_players2009 = df_players2009[df_players2009['MIN'] >= 5]\n",
    "for i, row in df_players2009.iterrows():\n",
    "    row['PTS'] = row['PTS']/row['MIN']\n",
    "    row['AST'] = row['AST']/row['MIN']\n",
    "    row['REB'] = row['REB']/row['MIN']\n",
    "    row['STL'] = row['STL']/row['MIN']\n",
    "    row['TOV'] = row['TOV']/row['MIN']\n",
    "rosterClean2009 = pd.DataFrame(df_players2009)\n",
    "rosterClean2009.to_csv('clean_players_2009.csv')"
   ]
  },
  {
   "cell_type": "code",
   "execution_count": null,
   "metadata": {
    "collapsed": true
   },
   "outputs": [],
   "source": [
    "df_players2010 = df_players2010.overall()\n",
    "df_players2010 = df_players2010[df_players2010['GP'] >= 7]\n",
    "df_players2010 = df_players2010[df_players2010['MIN'] >= 5]\n",
    "for i, row in df_players2010.iterrows():\n",
    "    row['PTS'] = row['PTS']/row['MIN']\n",
    "    row['AST'] = row['AST']/row['MIN']\n",
    "    row['REB'] = row['REB']/row['MIN']\n",
    "    row['STL'] = row['STL']/row['MIN']\n",
    "    row['TOV'] = row['TOV']/row['MIN']\n",
    "rosterClean2010 = pd.DataFrame(df_players2010)\n",
    "rosterClean2010.to_csv('clean_players_2010.csv')"
   ]
  },
  {
   "cell_type": "code",
   "execution_count": null,
   "metadata": {
    "collapsed": true
   },
   "outputs": [],
   "source": [
    "df_players2011 = df_players2011.overall()\n",
    "df_players2011 = df_players2011[df_players2011['GP'] >= 7]\n",
    "df_players2011 = df_players2011[df_players2011['MIN'] >= 5]\n",
    "for i, row in df_players2011.iterrows():\n",
    "    row['PTS'] = row['PTS']/row['MIN']\n",
    "    row['AST'] = row['AST']/row['MIN']\n",
    "    row['REB'] = row['REB']/row['MIN']\n",
    "    row['STL'] = row['STL']/row['MIN']\n",
    "    row['TOV'] = row['TOV']/row['MIN']\n",
    "rosterClean2011 = pd.DataFrame(df_players2011)\n",
    "rosterClean2011.to_csv('clean_players_2011.csv')"
   ]
  },
  {
   "cell_type": "code",
   "execution_count": null,
   "metadata": {
    "collapsed": true
   },
   "outputs": [],
   "source": [
    "df_players2012 = df_players2012.overall()\n",
    "df_players2012 = df_players2012[df_players2012['GP'] >= 7]\n",
    "df_players2012 = df_players2012[df_players2012['MIN'] >= 5]\n",
    "for i, row in df_players2012.iterrows():\n",
    "    row['PTS'] = row['PTS']/row['MIN']\n",
    "    row['AST'] = row['AST']/row['MIN']\n",
    "    row['REB'] = row['REB']/row['MIN']\n",
    "    row['STL'] = row['STL']/row['MIN']\n",
    "    row['TOV'] = row['TOV']/row['MIN']\n",
    "rosterClean2012 = pd.DataFrame(df_players2012)\n",
    "rosterClean2012.to_csv('clean_players_2012.csv')"
   ]
  },
  {
   "cell_type": "code",
   "execution_count": null,
   "metadata": {
    "collapsed": true
   },
   "outputs": [],
   "source": [
    "df_players2013 = df_players2013.overall()\n",
    "df_players2013 = df_players2013[df_players2013['GP'] >= 7]\n",
    "df_players2013 = df_players2013[df_players2013['MIN'] >= 5]\n",
    "for i, row in df_players2013.iterrows():\n",
    "    row['PTS'] = row['PTS']/row['MIN']\n",
    "    row['AST'] = row['AST']/row['MIN']\n",
    "    row['REB'] = row['REB']/row['MIN']\n",
    "    row['STL'] = row['STL']/row['MIN']\n",
    "    row['TOV'] = row['TOV']/row['MIN']\n",
    "rosterClean2013 = pd.DataFrame(df_players2013)\n",
    "rosterClean2013.to_csv('clean_players_2013.csv')"
   ]
  },
  {
   "cell_type": "code",
   "execution_count": null,
   "metadata": {
    "collapsed": true
   },
   "outputs": [],
   "source": [
    "df_players2014 = df_players2014.overall()\n",
    "df_players2014 = df_players2014[df_players2014['GP'] >= 7]\n",
    "df_players2014 = df_players2014[df_players2014['MIN'] >= 5]\n",
    "for i, row in df_players2014.iterrows():\n",
    "    row['PTS'] = row['PTS']/row['MIN']\n",
    "    row['AST'] = row['AST']/row['MIN']\n",
    "    row['REB'] = row['REB']/row['MIN']\n",
    "    row['STL'] = row['STL']/row['MIN']\n",
    "    row['TOV'] = row['TOV']/row['MIN']\n",
    "rosterClean2014 = pd.DataFrame(df_players2014)\n",
    "rosterClean2014.to_csv('clean_players_2014.csv')"
   ]
  },
  {
   "cell_type": "code",
   "execution_count": null,
   "metadata": {
    "collapsed": true
   },
   "outputs": [],
   "source": [
    "df_players2015 = df_players2015.overall()\n",
    "df_players2015 = df_players2015[df_players2015['GP'] >= 7]\n",
    "df_players2015 = df_players2015[df_players2015['MIN'] >= 5]\n",
    "for i, row in df_players2015.iterrows():\n",
    "    row['PTS'] = row['PTS']/row['MIN']\n",
    "    row['AST'] = row['AST']/row['MIN']\n",
    "    row['REB'] = row['REB']/row['MIN']\n",
    "    row['STL'] = row['STL']/row['MIN']\n",
    "    row['TOV'] = row['TOV']/row['MIN']\n",
    "rosterClean2015 = pd.DataFrame(df_players2015)\n",
    "rosterClean2015.to_csv('clean_players_2015.csv')"
   ]
  },
  {
   "cell_type": "code",
   "execution_count": null,
   "metadata": {
    "collapsed": true
   },
   "outputs": [],
   "source": [
    "df_players2016 = df_players2016.overall()\n",
    "df_players2016 = df_players2016[df_players2016['GP'] >= 7]\n",
    "df_players2016 = df_players2016[df_players2016['MIN'] >= 5]\n",
    "for i, row in df_players2016.iterrows():\n",
    "    row['PTS'] = row['PTS']/row['MIN']\n",
    "    row['AST'] = row['AST']/row['MIN']\n",
    "    row['REB'] = row['REB']/row['MIN']\n",
    "    row['STL'] = row['STL']/row['MIN']\n",
    "    row['TOV'] = row['TOV']/row['MIN']\n",
    "rosterClean2016 = pd.DataFrame(df_players2016)\n",
    "rosterClean2016.to_csv('clean_players_2016.csv')"
   ]
  },
  {
   "cell_type": "code",
   "execution_count": null,
   "metadata": {
    "collapsed": true
   },
   "outputs": [],
   "source": []
  }
 ],
 "metadata": {
  "kernelspec": {
   "display_name": "Python 3",
   "language": "python",
   "name": "python3"
  },
  "language_info": {
   "codemirror_mode": {
    "name": "ipython",
    "version": 3
   },
   "file_extension": ".py",
   "mimetype": "text/x-python",
   "name": "python",
   "nbconvert_exporter": "python",
   "pygments_lexer": "ipython3",
   "version": "3.6.3"
  }
 },
 "nbformat": 4,
 "nbformat_minor": 2
}
