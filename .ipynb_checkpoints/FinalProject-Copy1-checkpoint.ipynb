{
 "cells": [
  {
   "cell_type": "markdown",
   "metadata": {},
   "source": [
    "# Team\n",
    "Aaron Wong - A92048617 - Data Cleaning/Analysis\n",
    "<br>\n",
    "Kevin Ramos - A12884910 - Data Cleaning/Analysis\n",
    "<br>\n",
    "Rajiv Sancheti - A13602097 - Data Visualization/Write-up\n",
    "<br>\n",
    "Rachel Reyes - A13736589 - Data Visualization\n",
    "<br>\n",
    "Jonathan Wells - A14733230 - Statistical Analysis/Cleaning\n",
    "<br>\n",
    "Anmol Arora - A13939947 - ???? "
   ]
  },
  {
   "cell_type": "markdown",
   "metadata": {
    "collapsed": true
   },
   "source": [
    "# Introduction and Background\n",
    "__Description:__\n",
    "\n",
    "__Research Question:__\n",
    "\n",
    "__Hypothesis:__\n",
    "\n"
   ]
  },
  {
   "cell_type": "markdown",
   "metadata": {},
   "source": [
    "# Data Description\n",
    "\n",
    "\n"
   ]
  },
  {
   "cell_type": "code",
   "execution_count": null,
   "metadata": {
    "collapsed": true
   },
   "outputs": [],
   "source": []
  },
  {
   "cell_type": "code",
   "execution_count": null,
   "metadata": {
    "collapsed": true
   },
   "outputs": [],
   "source": []
  },
  {
   "cell_type": "markdown",
   "metadata": {},
   "source": [
    "# Data Cleaning/Pre-processing\n",
    "\n"
   ]
  },
  {
   "cell_type": "code",
   "execution_count": null,
   "metadata": {
    "collapsed": true
   },
   "outputs": [],
   "source": []
  },
  {
   "cell_type": "code",
   "execution_count": null,
   "metadata": {
    "collapsed": true
   },
   "outputs": [],
   "source": []
  },
  {
   "cell_type": "code",
   "execution_count": null,
   "metadata": {},
   "outputs": [],
   "source": []
  },
  {
   "cell_type": "code",
   "execution_count": null,
   "metadata": {},
   "outputs": [],
   "source": []
  },
  {
   "cell_type": "code",
   "execution_count": null,
   "metadata": {},
   "outputs": [],
   "source": []
  },
  {
   "cell_type": "code",
   "execution_count": null,
   "metadata": {
    "collapsed": true
   },
   "outputs": [],
   "source": []
  },
  {
   "cell_type": "code",
   "execution_count": null,
   "metadata": {
    "collapsed": true
   },
   "outputs": [],
   "source": []
  },
  {
   "cell_type": "code",
   "execution_count": null,
   "metadata": {
    "collapsed": true
   },
   "outputs": [],
   "source": []
  },
  {
   "cell_type": "markdown",
   "metadata": {},
   "source": [
    "# Data Visualization"
   ]
  },
  {
   "cell_type": "code",
   "execution_count": null,
   "metadata": {
    "collapsed": true
   },
   "outputs": [],
   "source": [
    "# Imports - these are all the imports needed for the assignment\n",
    "%matplotlib inline\n",
    "from scipy import stats\n",
    "import numpy.ma as ma\n",
    "from scipy.stats import kstest, normaltest\n",
    "\n",
    "import scipy\n",
    "import numpy as np\n",
    "import pandas as pd\n",
    "import matplotlib.pyplot as plt"
   ]
  },
  {
   "cell_type": "markdown",
   "metadata": {},
   "source": [
    " "
   ]
  },
  {
   "cell_type": "markdown",
   "metadata": {},
   "source": [
    "PTS: points --\n",
    "BLK: blocks --\n",
    "STL: steals --\n",
    "TOV: turnovers --\n",
    "AST: assists --\n",
    "REB: rebounds "
   ]
  },
  {
   "cell_type": "markdown",
   "metadata": {},
   "source": [
    "Visualization of Individual Statistics for Each Player in 2000"
   ]
  },
  {
   "cell_type": "code",
   "execution_count": null,
   "metadata": {
    "collapsed": true
   },
   "outputs": [],
   "source": [
    "# 1a) Load the nba csv files\n",
    "\n",
    "df_2000 = pd.read_csv('clean_players_2000.csv')"
   ]
  },
  {
   "cell_type": "code",
   "execution_count": null,
   "metadata": {},
   "outputs": [],
   "source": [
    "df_2000"
   ]
  },
  {
   "cell_type": "code",
   "execution_count": null,
   "metadata": {},
   "outputs": [],
   "source": [
    "df_2000['PTS'].plot.hist(bins=40)"
   ]
  },
  {
   "cell_type": "code",
   "execution_count": null,
   "metadata": {},
   "outputs": [],
   "source": [
    "df_2000.columns[1:]"
   ]
  },
  {
   "cell_type": "code",
   "execution_count": null,
   "metadata": {},
   "outputs": [],
   "source": [
    "z,pval = stats.normaltest(df_2000['PTS'])\n",
    "print(z, pval)\n",
    "if(pval < 0.05):\n",
    "    print('PTS Is not from a Normal Dist')\n",
    "else:\n",
    "    print('PTS Is likley from a Normal Dist')\n",
    "\n",
    "size = df_2000['PTS'].size\n",
    "x = scipy.arange(size)\n",
    "param = stats.gamma.fit(df_2000['PTS'])\n",
    "stat, kpval = kstest(df_2000['PTS'], 'gamma', param)\n",
    "print(stat, kpval)\n",
    "if(kpval < 0.05):\n",
    "    print('PTS Is not from a Gamma Dist')\n",
    "else:\n",
    "    print('PTS Is likley from a Gamma Dist')\n",
    "    \n",
    "param = stats.lognorm.fit(df_2000['PTS'])\n",
    "stat, kpval = kstest(df_2000['PTS'], 'lognorm', param)\n",
    "print(stat, kpval)\n",
    "if(kpval < 0.05):\n",
    "    print('PTS Is not from a Log norm Dist')\n",
    "else:\n",
    "    print('PTS Is likley from a Log norm Dist')"
   ]
  },
  {
   "cell_type": "code",
   "execution_count": null,
   "metadata": {},
   "outputs": [],
   "source": [
    "df_2000['BLK'].plot.hist(bins=40)"
   ]
  },
  {
   "cell_type": "code",
   "execution_count": null,
   "metadata": {},
   "outputs": [],
   "source": [
    "z,pval = stats.normaltest(df_2000['BLK'])\n",
    "print(z, pval)\n",
    "if(pval < 0.05):\n",
    "    print('BLK Is not from a Normal Dist')\n",
    "else:\n",
    "    print('BLK Is likley from a Normal Dist')\n",
    "    \n",
    "size = df_2000['BLK'].size\n",
    "x = scipy.arange(size)\n",
    "param = stats.expon.fit(df_2000['BLK'])\n",
    "stat, kpval = kstest(df_2000['BLK'], 'expon', param)\n",
    "print(stat, kpval)\n",
    "if(kpval < 0.05):\n",
    "    print('BLK Is not from a Exponen Dist')\n",
    "else:\n",
    "    print('BLK Is likley from a Exponen Dist')\n",
    "param = stats.gamma.fit(df_2000['BLK'])\n",
    "stat, kpval = kstest(df_2000['BLK'], 'gamma', param)\n",
    "print(stat, kpval)\n",
    "if(kpval < 0.05):\n",
    "    print('BLK Is not from a Gamma Dist')\n",
    "else:\n",
    "    print('BLK Is likley from a Gamma Dist')\n",
    "param = stats.lognorm.fit(df_2000['BLK'])\n",
    "stat, kpval = kstest(df_2000['BLK'], 'lognorm', param)\n",
    "print(stat, kpval)\n",
    "if(kpval < 0.05):\n",
    "    print('BLK Is not from a Log norm Dist')\n",
    "else:\n",
    "    print('BLK Is likley from a Log norm Dist')\n",
    "param = stats.chi2.fit(df_2000['BLK'])\n",
    "stat, kpval = kstest(df_2000['BLK'], 'chi2', param)\n",
    "print(stat, kpval)\n",
    "if(kpval < 0.05):\n",
    "    print('BLK Is not from a Chisq Dist')\n",
    "else:\n",
    "    print('BLK Is likley from a Chisq Dist')"
   ]
  },
  {
   "cell_type": "code",
   "execution_count": null,
   "metadata": {},
   "outputs": [],
   "source": [
    "df_2000['STL'].plot.hist(bins=20)"
   ]
  },
  {
   "cell_type": "code",
   "execution_count": null,
   "metadata": {},
   "outputs": [],
   "source": [
    "z,pval = stats.normaltest(df_2000['STL'])\n",
    "print(z, pval)\n",
    "if(pval < 0.05):\n",
    "    print('STL Is not from a Normal Dist')\n",
    "else:\n",
    "    print('STL Is likley from a Normal Dist')\n",
    "    \n",
    "size = df_2000['STL'].size\n",
    "x = scipy.arange(size)\n",
    "param = stats.gamma.fit(df_2000['STL'])\n",
    "stat, kpval = kstest(df_2000['STL'], 'gamma', param)\n",
    "print(stat, kpval)\n",
    "if(kpval < 0.05):\n",
    "    print('STL Is not from a Gamma Dist')\n",
    "else:\n",
    "    print('STL Is likley from a Gamma Dist')\n",
    "\n",
    "param = stats.expon.fit(df_2000['STL'])\n",
    "stat, kpval = kstest(df_2000['STL'], 'expon', param)\n",
    "print(stat, kpval)\n",
    "if(kpval < 0.05):\n",
    "    print('STL Is not from a Exponen Dist')\n",
    "else:\n",
    "    print('STL Is likley from a Exponen Dist')\n",
    "\n",
    "param = stats.lognorm.fit(df_2000['STL'])\n",
    "stat, kpval = kstest(df_2000['STL'], 'lognorm', param)\n",
    "print(stat, kpval)\n",
    "if(kpval < 0.05):\n",
    "    print('STL Is not from a Log norm Dist')\n",
    "else:\n",
    "    print('STL Is likley from a Log norm Dist')"
   ]
  },
  {
   "cell_type": "code",
   "execution_count": null,
   "metadata": {},
   "outputs": [],
   "source": [
    "df_2000['TOV'].plot.hist(bins=20)"
   ]
  },
  {
   "cell_type": "code",
   "execution_count": null,
   "metadata": {},
   "outputs": [],
   "source": [
    "z,pval = stats.normaltest(df_2000['TOV'])\n",
    "print(z, pval)\n",
    "if(pval < 0.05):\n",
    "    print('TOV Is not from a Normal Dist')\n",
    "else:\n",
    "    print('TOV Is likley from a Normal Dist')\n",
    "    \n",
    "size = df_2000['TOV'].size\n",
    "x = scipy.arange(size)\n",
    "param = stats.gamma.fit(df_2000['TOV'])\n",
    "stat, kpval = kstest(df_2000['TOV'], 'gamma', param)\n",
    "print(stat, kpval)\n",
    "if(kpval < 0.05):\n",
    "    print('TOV Is not from a Gamma Dist')\n",
    "else:\n",
    "    print('TOV Is likley from a Gamma Dist')\n",
    "    \n",
    "param = stats.lognorm.fit(df_2000['TOV'])\n",
    "stat, kpval = kstest(df_2000['TOV'], 'lognorm', param)\n",
    "print(stat, kpval)\n",
    "if(kpval < 0.05):\n",
    "    print('TOV Is not from a Log norm Dist')\n",
    "else:\n",
    "    print('TOV Is likley from a Log norm Dist')"
   ]
  },
  {
   "cell_type": "code",
   "execution_count": null,
   "metadata": {},
   "outputs": [],
   "source": [
    "df_2000['AST'].plot.hist(bins=25)"
   ]
  },
  {
   "cell_type": "code",
   "execution_count": null,
   "metadata": {},
   "outputs": [],
   "source": [
    "z,pval = stats.normaltest(df_2000['AST'])\n",
    "print(z, pval)\n",
    "if(pval < 0.05):\n",
    "    print('AST Is not from a Normal Dist')\n",
    "else:\n",
    "    print('AST Is likley from a Normal Dist')\n",
    "\n",
    "size = df_2000['AST'].size\n",
    "x = scipy.arange(size)\n",
    "param = stats.gamma.fit(df_2000['AST'])\n",
    "stat, kpval = kstest(df_2000['AST'], 'gamma', param)\n",
    "print(stat, kpval)\n",
    "if(kpval < 0.05):\n",
    "    print('AST Is not from a Gamma Dist')\n",
    "else:\n",
    "    print('AST Is likley from a Gamma Dist')\n",
    "\n",
    "param = stats.lognorm.fit(df_2000['AST'])\n",
    "stat, kpval = kstest(df_2000['AST'], 'lognorm', param)\n",
    "print(stat, kpval)\n",
    "if(kpval < 0.05):\n",
    "    print('AST Is not from a Log norm Dist')\n",
    "else:\n",
    "    print('AST Is likley from a Log norm Dist')"
   ]
  },
  {
   "cell_type": "code",
   "execution_count": null,
   "metadata": {},
   "outputs": [],
   "source": [
    "df_2000['REB'].plot.hist(bins=30)"
   ]
  },
  {
   "cell_type": "code",
   "execution_count": null,
   "metadata": {},
   "outputs": [],
   "source": [
    "z,pval = stats.normaltest(df_2000['REB'])\n",
    "print(z, pval)\n",
    "if(pval < 0.05):\n",
    "    print('REB Is not from a Normal Dist')\n",
    "else:\n",
    "    print('REB Is likley from a Normal Dist')\n",
    "    \n",
    "size = df_2000['REB'].size\n",
    "x = scipy.arange(size)\n",
    "param = stats.gamma.fit(df_2000['REB'])\n",
    "stat, kpval = kstest(df_2000['REB'], 'gamma', param)\n",
    "print(stat, kpval)\n",
    "if(kpval < 0.05):\n",
    "    print('REB Is not from a Gamma Dist')\n",
    "else:\n",
    "    print('REB Is likley from a Gamma Dist')\n",
    "\n",
    "param = stats.lognorm.fit(df_2000['REB'])\n",
    "stat, kpval = kstest(df_2000['REB'], 'lognorm', param)\n",
    "print(stat, kpval)\n",
    "if(kpval < 0.05):\n",
    "    print('REB Is not from a Log norm Dist')\n",
    "else:\n",
    "    print('REB Is likley from a Log norm Dist')"
   ]
  },
  {
   "cell_type": "markdown",
   "metadata": {},
   "source": [
    "  "
   ]
  },
  {
   "cell_type": "markdown",
   "metadata": {},
   "source": [
    "Visualization of Individual Statistics for Each Player in 2001"
   ]
  },
  {
   "cell_type": "code",
   "execution_count": null,
   "metadata": {
    "collapsed": true
   },
   "outputs": [],
   "source": [
    "# 1a) Load the nba csv files\n",
    "\n",
    "df_2001 = pd.read_csv('clean_players_2001.csv')"
   ]
  },
  {
   "cell_type": "code",
   "execution_count": null,
   "metadata": {},
   "outputs": [],
   "source": [
    "df_2001"
   ]
  },
  {
   "cell_type": "code",
   "execution_count": null,
   "metadata": {},
   "outputs": [],
   "source": [
    "df_2001['PTS'].plot.hist(bins=40)"
   ]
  },
  {
   "cell_type": "code",
   "execution_count": null,
   "metadata": {},
   "outputs": [],
   "source": [
    "df_2001.columns[1:]"
   ]
  },
  {
   "cell_type": "code",
   "execution_count": null,
   "metadata": {},
   "outputs": [],
   "source": [
    "z,pval = stats.normaltest(df_2001['PTS'])\n",
    "print(z, pval)\n",
    "if(pval < 0.05):\n",
    "    print('PTS Is not from a Normal Dist')\n",
    "else:\n",
    "    print('PTS Is likley from a Normal Dist')\n",
    "\n",
    "size = df_2001['PTS'].size\n",
    "x = scipy.arange(size)\n",
    "param = stats.gamma.fit(df_2001['PTS'])\n",
    "stat, kpval = kstest(df_2001['PTS'], 'gamma', param)\n",
    "print(stat, kpval)\n",
    "if(kpval < 0.05):\n",
    "    print('PTS Is not from a Gamma Dist')\n",
    "else:\n",
    "    print('PTS Is likley from a Gamma Dist')\n",
    "    \n",
    "param = stats.lognorm.fit(df_2001['PTS'])\n",
    "stat, kpval = kstest(df_2001['PTS'], 'lognorm', param)\n",
    "print(stat, kpval)\n",
    "if(kpval < 0.05):\n",
    "    print('PTS Is not from a Log norm Dist')\n",
    "else:\n",
    "    print('PTS Is likley from a Log norm Dist')"
   ]
  },
  {
   "cell_type": "code",
   "execution_count": null,
   "metadata": {},
   "outputs": [],
   "source": [
    "df_2001['BLK'].plot.hist(bins=10)"
   ]
  },
  {
   "cell_type": "code",
   "execution_count": null,
   "metadata": {},
   "outputs": [],
   "source": [
    "z,pval = stats.normaltest(df_2001['BLK'])\n",
    "print(z, pval)\n",
    "if(pval < 0.05):\n",
    "    print('BLK Is not from a Normal Dist')\n",
    "else:\n",
    "    print('BLK Is likley from a Normal Dist')\n",
    "    \n",
    "size = df_2001['BLK'].size\n",
    "x = scipy.arange(size)\n",
    "param = stats.expon.fit(df_2001['BLK'])\n",
    "stat, kpval = kstest(df_2001['BLK'], 'expon', param)\n",
    "print(stat, kpval)\n",
    "if(kpval < 0.05):\n",
    "    print('BLK Is not from a Exponen Dist')\n",
    "else:\n",
    "    print('BLK Is likley from a Exponen Dist')\n",
    "param = stats.gamma.fit(df_2001['BLK'])\n",
    "stat, kpval = kstest(df_2001['BLK'], 'gamma', param)\n",
    "print(stat, kpval)\n",
    "if(kpval < 0.05):\n",
    "    print('BLK Is not from a Gamma Dist')\n",
    "else:\n",
    "    print('BLK Is likley from a Gamma Dist')\n",
    "param = stats.lognorm.fit(df_2001['BLK'])\n",
    "stat, kpval = kstest(df_2001['BLK'], 'lognorm', param)\n",
    "print(stat, kpval)\n",
    "if(kpval < 0.05):\n",
    "    print('BLK Is not from a Log norm Dist')\n",
    "else:\n",
    "    print('BLK Is likley from a Log norm Dist')\n",
    "param = stats.chi2.fit(df_2001['BLK'])\n",
    "stat, kpval = kstest(df_2001['BLK'], 'chi2', param)\n",
    "print(stat, kpval)\n",
    "if(kpval < 0.05):\n",
    "    print('BLK Is not from a Chisq Dist')\n",
    "else:\n",
    "    print('BLK Is likley from a Chisq Dist')"
   ]
  },
  {
   "cell_type": "code",
   "execution_count": null,
   "metadata": {},
   "outputs": [],
   "source": [
    "df_2001['STL'].plot.hist(bins=15)"
   ]
  },
  {
   "cell_type": "code",
   "execution_count": null,
   "metadata": {},
   "outputs": [],
   "source": [
    "z,pval = stats.normaltest(df_2001['STL'])\n",
    "print(z, pval)\n",
    "if(pval < 0.05):\n",
    "    print('STL Is not from a Normal Dist')\n",
    "else:\n",
    "    print('STL Is likley from a Normal Dist')\n",
    "    \n",
    "size = df_2001['STL'].size\n",
    "x = scipy.arange(size)\n",
    "param = stats.gamma.fit(df_2001['STL'])\n",
    "stat, kpval = kstest(df_2001['STL'], 'gamma', param)\n",
    "print(stat, kpval)\n",
    "if(kpval < 0.05):\n",
    "    print('STL Is not from a Gamma Dist')\n",
    "else:\n",
    "    print('STL Is likley from a Gamma Dist')\n",
    "\n",
    "param = stats.expon.fit(df_2001['STL'])\n",
    "stat, kpval = kstest(df_2001['STL'], 'expon', param)\n",
    "print(stat, kpval)\n",
    "if(kpval < 0.05):\n",
    "    print('STL Is not from a Exponen Dist')\n",
    "else:\n",
    "    print('STL Is likley from a Exponen Dist')\n",
    "\n",
    "param = stats.lognorm.fit(df_2001['STL'])\n",
    "stat, kpval = kstest(df_2001['STL'], 'lognorm', param)\n",
    "print(stat, kpval)\n",
    "if(kpval < 0.05):\n",
    "    print('STL Is not from a Log norm Dist')\n",
    "else:\n",
    "    print('STL Is likley from a Log norm Dist')"
   ]
  },
  {
   "cell_type": "code",
   "execution_count": null,
   "metadata": {},
   "outputs": [],
   "source": [
    "df_2001['TOV'].plot.hist(bins=12)"
   ]
  },
  {
   "cell_type": "code",
   "execution_count": null,
   "metadata": {},
   "outputs": [],
   "source": [
    "z,pval = stats.normaltest(df_2001['TOV'])\n",
    "print(z, pval)\n",
    "if(pval < 0.05):\n",
    "    print('TOV Is not from a Normal Dist')\n",
    "else:\n",
    "    print('TOV Is likley from a Normal Dist')\n",
    "    \n",
    "size = df_2001['TOV'].size\n",
    "x = scipy.arange(size)\n",
    "param = stats.gamma.fit(df_2001['TOV'])\n",
    "stat, kpval = kstest(df_2001['TOV'], 'gamma', param)\n",
    "print(stat, kpval)\n",
    "if(kpval < 0.05):\n",
    "    print('TOV Is not from a Gamma Dist')\n",
    "else:\n",
    "    print('TOV Is likley from a Gamma Dist')\n",
    "    \n",
    "param = stats.lognorm.fit(df_2001['TOV'])\n",
    "stat, kpval = kstest(df_2001['TOV'], 'lognorm', param)\n",
    "print(stat, kpval)\n",
    "if(kpval < 0.05):\n",
    "    print('TOV Is not from a Log norm Dist')\n",
    "else:\n",
    "    print('TOV Is likley from a Log norm Dist')"
   ]
  },
  {
   "cell_type": "code",
   "execution_count": null,
   "metadata": {},
   "outputs": [],
   "source": [
    "df_2001['AST'].plot.hist(bins=20)"
   ]
  },
  {
   "cell_type": "code",
   "execution_count": null,
   "metadata": {},
   "outputs": [],
   "source": [
    "z,pval = stats.normaltest(df_2001['AST'])\n",
    "print(z, pval)\n",
    "if(pval < 0.05):\n",
    "    print('AST Is not from a Normal Dist')\n",
    "else:\n",
    "    print('AST Is likley from a Normal Dist')\n",
    "\n",
    "size = df_2001['AST'].size\n",
    "x = scipy.arange(size)\n",
    "param = stats.gamma.fit(df_2001['AST'])\n",
    "stat, kpval = kstest(df_2001['AST'], 'gamma', param)\n",
    "print(stat, kpval)\n",
    "if(kpval < 0.05):\n",
    "    print('AST Is not from a Gamma Dist')\n",
    "else:\n",
    "    print('AST Is likley from a Gamma Dist')\n",
    "\n",
    "param = stats.lognorm.fit(df_2001['AST'])\n",
    "stat, kpval = kstest(df_2001['AST'], 'lognorm', param)\n",
    "print(stat, kpval)\n",
    "if(kpval < 0.05):\n",
    "    print('AST Is not from a Log norm Dist')\n",
    "else:\n",
    "    print('AST Is likley from a Log norm Dist')"
   ]
  },
  {
   "cell_type": "code",
   "execution_count": null,
   "metadata": {},
   "outputs": [],
   "source": [
    "df_2001['REB'].plot.hist(bins=25)"
   ]
  },
  {
   "cell_type": "code",
   "execution_count": null,
   "metadata": {},
   "outputs": [],
   "source": [
    "z,pval = stats.normaltest(df_2001['REB'])\n",
    "print(z, pval)\n",
    "if(pval < 0.05):\n",
    "    print('REB Is not from a Normal Dist')\n",
    "else:\n",
    "    print('REB Is likley from a Normal Dist')\n",
    "    \n",
    "size = df_2001['REB'].size\n",
    "x = scipy.arange(size)\n",
    "param = stats.gamma.fit(df_2001['REB'])\n",
    "stat, kpval = kstest(df_2001['REB'], 'gamma', param)\n",
    "print(stat, kpval)\n",
    "if(kpval < 0.05):\n",
    "    print('REB Is not from a Gamma Dist')\n",
    "else:\n",
    "    print('REB Is likley from a Gamma Dist')\n",
    "\n",
    "param = stats.lognorm.fit(df_2001['REB'])\n",
    "stat, kpval = kstest(df_2001['REB'], 'lognorm', param)\n",
    "print(stat, kpval)\n",
    "if(kpval < 0.05):\n",
    "    print('REB Is not from a Log norm Dist')\n",
    "else:\n",
    "    print('REB Is likley from a Log norm Dist')"
   ]
  },
  {
   "cell_type": "markdown",
   "metadata": {},
   "source": [
    " "
   ]
  },
  {
   "cell_type": "markdown",
   "metadata": {},
   "source": [
    "Visualization of Individual Statistics for Each Player in 2002"
   ]
  },
  {
   "cell_type": "code",
   "execution_count": null,
   "metadata": {
    "collapsed": true
   },
   "outputs": [],
   "source": [
    "# 1a) Load the nba csv files\n",
    "\n",
    "df_2002 = pd.read_csv('clean_players_2002.csv')"
   ]
  },
  {
   "cell_type": "code",
   "execution_count": null,
   "metadata": {
    "collapsed": true
   },
   "outputs": [],
   "source": [
    "df_2002"
   ]
  },
  {
   "cell_type": "code",
   "execution_count": null,
   "metadata": {
    "collapsed": true
   },
   "outputs": [],
   "source": [
    "df_2002['PTS'].plot.hist(bins=40)"
   ]
  },
  {
   "cell_type": "code",
   "execution_count": null,
   "metadata": {
    "collapsed": true
   },
   "outputs": [],
   "source": [
    "df_2002.columns[1:]"
   ]
  },
  {
   "cell_type": "code",
   "execution_count": null,
   "metadata": {
    "collapsed": true
   },
   "outputs": [],
   "source": [
    "z,pval = stats.normaltest(df_2002['PTS'])\n",
    "print(z, pval)\n",
    "if(pval < 0.05):\n",
    "    print('PTS Is not from a Normal Dist')\n",
    "else:\n",
    "    print('PTS Is likley from a Normal Dist')\n",
    "\n",
    "size = df_2002['PTS'].size\n",
    "x = scipy.arange(size)\n",
    "param = stats.gamma.fit(df_2002['PTS'])\n",
    "stat, kpval = kstest(df_2002['PTS'], 'gamma', param)\n",
    "print(stat, kpval)\n",
    "if(kpval < 0.05):\n",
    "    print('PTS Is not from a Gamma Dist')\n",
    "else:\n",
    "    print('PTS Is likley from a Gamma Dist')\n",
    "    \n",
    "param = stats.lognorm.fit(df_2002['PTS'])\n",
    "stat, kpval = kstest(df_2002['PTS'], 'lognorm', param)\n",
    "print(stat, kpval)\n",
    "if(kpval < 0.05):\n",
    "    print('PTS Is not from a Log norm Dist')\n",
    "else:\n",
    "    print('PTS Is likley from a Log norm Dist')"
   ]
  },
  {
   "cell_type": "code",
   "execution_count": null,
   "metadata": {
    "collapsed": true
   },
   "outputs": [],
   "source": [
    "df_2002['BLK'].plot.hist(bins=10)"
   ]
  },
  {
   "cell_type": "code",
   "execution_count": null,
   "metadata": {
    "collapsed": true
   },
   "outputs": [],
   "source": [
    "z,pval = stats.normaltest(df_2002['BLK'])\n",
    "print(z, pval)\n",
    "if(pval < 0.05):\n",
    "    print('BLK Is not from a Normal Dist')\n",
    "else:\n",
    "    print('BLK Is likley from a Normal Dist')\n",
    "    \n",
    "size = df_2002['BLK'].size\n",
    "x = scipy.arange(size)\n",
    "param = stats.expon.fit(df_2002['BLK'])\n",
    "stat, kpval = kstest(df_2002['BLK'], 'expon', param)\n",
    "print(stat, kpval)\n",
    "if(kpval < 0.05):\n",
    "    print('BLK Is not from a Exponen Dist')\n",
    "else:\n",
    "    print('BLK Is likley from a Exponen Dist')\n",
    "param = stats.gamma.fit(df_2002['BLK'])\n",
    "stat, kpval = kstest(df_2002['BLK'], 'gamma', param)\n",
    "print(stat, kpval)\n",
    "if(kpval < 0.05):\n",
    "    print('BLK Is not from a Gamma Dist')\n",
    "else:\n",
    "    print('BLK Is likley from a Gamma Dist')\n",
    "param = stats.lognorm.fit(df_2002['BLK'])\n",
    "stat, kpval = kstest(df_2002['BLK'], 'lognorm', param)\n",
    "print(stat, kpval)\n",
    "if(kpval < 0.05):\n",
    "    print('BLK Is not from a Log norm Dist')\n",
    "else:\n",
    "    print('BLK Is likley from a Log norm Dist')\n",
    "param = stats.chi2.fit(df_2002['BLK'])\n",
    "stat, kpval = kstest(df_2002['BLK'], 'chi2', param)\n",
    "print(stat, kpval)\n",
    "if(kpval < 0.05):\n",
    "    print('BLK Is not from a Chisq Dist')\n",
    "else:\n",
    "    print('BLK Is likley from a Chisq Dist')"
   ]
  },
  {
   "cell_type": "code",
   "execution_count": null,
   "metadata": {
    "collapsed": true
   },
   "outputs": [],
   "source": [
    "df_2002['STL'].plot.hist(bins=15)"
   ]
  },
  {
   "cell_type": "code",
   "execution_count": null,
   "metadata": {
    "collapsed": true
   },
   "outputs": [],
   "source": [
    "z,pval = stats.normaltest(df_2002['STL'])\n",
    "print(z, pval)\n",
    "if(pval < 0.05):\n",
    "    print('STL Is not from a Normal Dist')\n",
    "else:\n",
    "    print('STL Is likley from a Normal Dist')\n",
    "    \n",
    "size = df_2002['STL'].size\n",
    "x = scipy.arange(size)\n",
    "param = stats.gamma.fit(df_2002['STL'])\n",
    "stat, kpval = kstest(df_2002['STL'], 'gamma', param)\n",
    "print(stat, kpval)\n",
    "if(kpval < 0.05):\n",
    "    print('STL Is not from a Gamma Dist')\n",
    "else:\n",
    "    print('STL Is likley from a Gamma Dist')\n",
    "\n",
    "param = stats.expon.fit(df_2002['STL'])\n",
    "stat, kpval = kstest(df_2002['STL'], 'expon', param)\n",
    "print(stat, kpval)\n",
    "if(kpval < 0.05):\n",
    "    print('STL Is not from a Exponen Dist')\n",
    "else:\n",
    "    print('STL Is likley from a Exponen Dist')\n",
    "\n",
    "param = stats.lognorm.fit(df_2002['STL'])\n",
    "stat, kpval = kstest(df_2002['STL'], 'lognorm', param)\n",
    "print(stat, kpval)\n",
    "if(kpval < 0.05):\n",
    "    print('STL Is not from a Log norm Dist')\n",
    "else:\n",
    "    print('STL Is likley from a Log norm Dist')"
   ]
  },
  {
   "cell_type": "code",
   "execution_count": null,
   "metadata": {
    "collapsed": true
   },
   "outputs": [],
   "source": [
    "df_2002['TOV'].plot.hist(bins=12)"
   ]
  },
  {
   "cell_type": "code",
   "execution_count": null,
   "metadata": {
    "collapsed": true
   },
   "outputs": [],
   "source": [
    "z,pval = stats.normaltest(df_2002['TOV'])\n",
    "print(z, pval)\n",
    "if(pval < 0.05):\n",
    "    print('TOV Is not from a Normal Dist')\n",
    "else:\n",
    "    print('TOV Is likley from a Normal Dist')\n",
    "    \n",
    "size = df_2002['TOV'].size\n",
    "x = scipy.arange(size)\n",
    "param = stats.gamma.fit(df_2002['TOV'])\n",
    "stat, kpval = kstest(df_2002['TOV'], 'gamma', param)\n",
    "print(stat, kpval)\n",
    "if(kpval < 0.05):\n",
    "    print('TOV Is not from a Gamma Dist')\n",
    "else:\n",
    "    print('TOV Is likley from a Gamma Dist')\n",
    "    \n",
    "param = stats.lognorm.fit(df_2002['TOV'])\n",
    "stat, kpval = kstest(df_2002['TOV'], 'lognorm', param)\n",
    "print(stat, kpval)\n",
    "if(kpval < 0.05):\n",
    "    print('TOV Is not from a Log norm Dist')\n",
    "else:\n",
    "    print('TOV Is likley from a Log norm Dist')"
   ]
  },
  {
   "cell_type": "code",
   "execution_count": null,
   "metadata": {
    "collapsed": true
   },
   "outputs": [],
   "source": [
    "df_2002['AST'].plot.hist(bins=20)"
   ]
  },
  {
   "cell_type": "code",
   "execution_count": null,
   "metadata": {
    "collapsed": true
   },
   "outputs": [],
   "source": [
    "z,pval = stats.normaltest(df_2002['AST'])\n",
    "print(z, pval)\n",
    "if(pval < 0.05):\n",
    "    print('AST Is not from a Normal Dist')\n",
    "else:\n",
    "    print('AST Is likley from a Normal Dist')\n",
    "\n",
    "size = df_2002['AST'].size\n",
    "x = scipy.arange(size)\n",
    "param = stats.gamma.fit(df_2002['AST'])\n",
    "stat, kpval = kstest(df_2002['AST'], 'gamma', param)\n",
    "print(stat, kpval)\n",
    "if(kpval < 0.05):\n",
    "    print('AST Is not from a Gamma Dist')\n",
    "else:\n",
    "    print('AST Is likley from a Gamma Dist')\n",
    "\n",
    "param = stats.lognorm.fit(df_2002['AST'])\n",
    "stat, kpval = kstest(df_2002['AST'], 'lognorm', param)\n",
    "print(stat, kpval)\n",
    "if(kpval < 0.05):\n",
    "    print('AST Is not from a Log norm Dist')\n",
    "else:\n",
    "    print('AST Is likley from a Log norm Dist')"
   ]
  },
  {
   "cell_type": "code",
   "execution_count": null,
   "metadata": {
    "collapsed": true
   },
   "outputs": [],
   "source": [
    "df_2002['REB'].plot.hist(bins=25)"
   ]
  },
  {
   "cell_type": "code",
   "execution_count": null,
   "metadata": {
    "collapsed": true
   },
   "outputs": [],
   "source": [
    "z,pval = stats.normaltest(df_2002['REB'])\n",
    "print(z, pval)\n",
    "if(pval < 0.05):\n",
    "    print('REB Is not from a Normal Dist')\n",
    "else:\n",
    "    print('REB Is likley from a Normal Dist')\n",
    "    \n",
    "size = df_2002['REB'].size\n",
    "x = scipy.arange(size)\n",
    "param = stats.gamma.fit(df_2002['REB'])\n",
    "stat, kpval = kstest(df_2002['REB'], 'gamma', param)\n",
    "print(stat, kpval)\n",
    "if(kpval < 0.05):\n",
    "    print('REB Is not from a Gamma Dist')\n",
    "else:\n",
    "    print('REB Is likley from a Gamma Dist')\n",
    "\n",
    "param = stats.lognorm.fit(df_2002['REB'])\n",
    "stat, kpval = kstest(df_2002['REB'], 'lognorm', param)\n",
    "print(stat, kpval)\n",
    "if(kpval < 0.05):\n",
    "    print('REB Is not from a Log norm Dist')\n",
    "else:\n",
    "    print('REB Is likley from a Log norm Dist')"
   ]
  },
  {
   "cell_type": "markdown",
   "metadata": {},
   "source": [
    " "
   ]
  },
  {
   "cell_type": "markdown",
   "metadata": {},
   "source": [
    "Visualization of Individual Statistics for Each Player in 2003"
   ]
  },
  {
   "cell_type": "code",
   "execution_count": 1,
   "metadata": {},
   "outputs": [
    {
     "ename": "NameError",
     "evalue": "name 'pd' is not defined",
     "output_type": "error",
     "traceback": [
      "\u001b[0;31m---------------------------------------------------------------------------\u001b[0m",
      "\u001b[0;31mNameError\u001b[0m                                 Traceback (most recent call last)",
      "\u001b[0;32m<ipython-input-1-634308ed8c66>\u001b[0m in \u001b[0;36m<module>\u001b[0;34m()\u001b[0m\n\u001b[1;32m      1\u001b[0m \u001b[0;31m# 1a) Load the nba csv files\u001b[0m\u001b[0;34m\u001b[0m\u001b[0;34m\u001b[0m\u001b[0m\n\u001b[1;32m      2\u001b[0m \u001b[0;34m\u001b[0m\u001b[0m\n\u001b[0;32m----> 3\u001b[0;31m \u001b[0mdf_2003\u001b[0m \u001b[0;34m=\u001b[0m \u001b[0mpd\u001b[0m\u001b[0;34m.\u001b[0m\u001b[0mread_csv\u001b[0m\u001b[0;34m(\u001b[0m\u001b[0;34m'clean_players_2003.csv'\u001b[0m\u001b[0;34m)\u001b[0m\u001b[0;34m\u001b[0m\u001b[0m\n\u001b[0m",
      "\u001b[0;31mNameError\u001b[0m: name 'pd' is not defined"
     ]
    }
   ],
   "source": [
    "# 1a) Load the nba csv files\n",
    "\n",
    "df_2003 = pd.read_csv('clean_players_2003.csv')"
   ]
  },
  {
   "cell_type": "code",
   "execution_count": null,
   "metadata": {
    "collapsed": true
   },
   "outputs": [],
   "source": [
    "df_2003"
   ]
  },
  {
   "cell_type": "code",
   "execution_count": null,
   "metadata": {
    "collapsed": true
   },
   "outputs": [],
   "source": [
    "df_2003['PTS'].plot.hist(bins=40)"
   ]
  },
  {
   "cell_type": "code",
   "execution_count": null,
   "metadata": {
    "collapsed": true
   },
   "outputs": [],
   "source": [
    "df_2003.columns[1:]"
   ]
  },
  {
   "cell_type": "code",
   "execution_count": null,
   "metadata": {
    "collapsed": true
   },
   "outputs": [],
   "source": [
    "z,pval = stats.normaltest(df_2003['PTS'])\n",
    "print(z, pval)\n",
    "if(pval < 0.05):\n",
    "    print('PTS Is not from a Normal Dist')\n",
    "else:\n",
    "    print('PTS Is likley from a Normal Dist')\n",
    "\n",
    "size = df_2003['PTS'].size\n",
    "x = scipy.arange(size)\n",
    "param = stats.gamma.fit(df_2003['PTS'])\n",
    "stat, kpval = kstest(df_2003['PTS'], 'gamma', param)\n",
    "print(stat, kpval)\n",
    "if(kpval < 0.05):\n",
    "    print('PTS Is not from a Gamma Dist')\n",
    "else:\n",
    "    print('PTS Is likley from a Gamma Dist')\n",
    "    \n",
    "param = stats.lognorm.fit(df_2003['PTS'])\n",
    "stat, kpval = kstest(df_2003['PTS'], 'lognorm', param)\n",
    "print(stat, kpval)\n",
    "if(kpval < 0.05):\n",
    "    print('PTS Is not from a Log norm Dist')\n",
    "else:\n",
    "    print('PTS Is likley from a Log norm Dist')"
   ]
  },
  {
   "cell_type": "code",
   "execution_count": null,
   "metadata": {
    "collapsed": true
   },
   "outputs": [],
   "source": [
    "df_2003['BLK'].plot.hist(bins=10)"
   ]
  },
  {
   "cell_type": "code",
   "execution_count": null,
   "metadata": {
    "collapsed": true
   },
   "outputs": [],
   "source": [
    "z,pval = stats.normaltest(df_2003['BLK'])\n",
    "print(z, pval)\n",
    "if(pval < 0.05):\n",
    "    print('BLK Is not from a Normal Dist')\n",
    "else:\n",
    "    print('BLK Is likley from a Normal Dist')\n",
    "    \n",
    "size = df_2003['BLK'].size\n",
    "x = scipy.arange(size)\n",
    "param = stats.expon.fit(df_2003['BLK'])\n",
    "stat, kpval = kstest(df_2003['BLK'], 'expon', param)\n",
    "print(stat, kpval)\n",
    "if(kpval < 0.05):\n",
    "    print('BLK Is not from a Exponen Dist')\n",
    "else:\n",
    "    print('BLK Is likley from a Exponen Dist')\n",
    "param = stats.gamma.fit(df_2003['BLK'])\n",
    "stat, kpval = kstest(df_2003['BLK'], 'gamma', param)\n",
    "print(stat, kpval)\n",
    "if(kpval < 0.05):\n",
    "    print('BLK Is not from a Gamma Dist')\n",
    "else:\n",
    "    print('BLK Is likley from a Gamma Dist')\n",
    "param = stats.lognorm.fit(df_2003['BLK'])\n",
    "stat, kpval = kstest(df_2003['BLK'], 'lognorm', param)\n",
    "print(stat, kpval)\n",
    "if(kpval < 0.05):\n",
    "    print('BLK Is not from a Log norm Dist')\n",
    "else:\n",
    "    print('BLK Is likley from a Log norm Dist')\n",
    "param = stats.chi2.fit(df_2003['BLK'])\n",
    "stat, kpval = kstest(df_2003['BLK'], 'chi2', param)\n",
    "print(stat, kpval)\n",
    "if(kpval < 0.05):\n",
    "    print('BLK Is not from a Chisq Dist')\n",
    "else:\n",
    "    print('BLK Is likley from a Chisq Dist')"
   ]
  },
  {
   "cell_type": "code",
   "execution_count": null,
   "metadata": {
    "collapsed": true
   },
   "outputs": [],
   "source": [
    "df_2003['STL'].plot.hist(bins=15)"
   ]
  },
  {
   "cell_type": "code",
   "execution_count": null,
   "metadata": {
    "collapsed": true
   },
   "outputs": [],
   "source": [
    "z,pval = stats.normaltest(df_2003['STL'])\n",
    "print(z, pval)\n",
    "if(pval < 0.05):\n",
    "    print('STL Is not from a Normal Dist')\n",
    "else:\n",
    "    print('STL Is likley from a Normal Dist')\n",
    "    \n",
    "size = df_2003['STL'].size\n",
    "x = scipy.arange(size)\n",
    "param = stats.gamma.fit(df_2003['STL'])\n",
    "stat, kpval = kstest(df_2003['STL'], 'gamma', param)\n",
    "print(stat, kpval)\n",
    "if(kpval < 0.05):\n",
    "    print('STL Is not from a Gamma Dist')\n",
    "else:\n",
    "    print('STL Is likley from a Gamma Dist')\n",
    "\n",
    "param = stats.expon.fit(df_2003['STL'])\n",
    "stat, kpval = kstest(df_2003['STL'], 'expon', param)\n",
    "print(stat, kpval)\n",
    "if(kpval < 0.05):\n",
    "    print('STL Is not from a Exponen Dist')\n",
    "else:\n",
    "    print('STL Is likley from a Exponen Dist')\n",
    "\n",
    "param = stats.lognorm.fit(df_2003['STL'])\n",
    "stat, kpval = kstest(df_2003['STL'], 'lognorm', param)\n",
    "print(stat, kpval)\n",
    "if(kpval < 0.05):\n",
    "    print('STL Is not from a Log norm Dist')\n",
    "else:\n",
    "    print('STL Is likley from a Log norm Dist')"
   ]
  },
  {
   "cell_type": "code",
   "execution_count": null,
   "metadata": {
    "collapsed": true
   },
   "outputs": [],
   "source": [
    "df_2003['TOV'].plot.hist(bins=12)"
   ]
  },
  {
   "cell_type": "code",
   "execution_count": null,
   "metadata": {
    "collapsed": true
   },
   "outputs": [],
   "source": [
    "z,pval = stats.normaltest(df_2003['TOV'])\n",
    "print(z, pval)\n",
    "if(pval < 0.05):\n",
    "    print('TOV Is not from a Normal Dist')\n",
    "else:\n",
    "    print('TOV Is likley from a Normal Dist')\n",
    "    \n",
    "size = df_2003['TOV'].size\n",
    "x = scipy.arange(size)\n",
    "param = stats.gamma.fit(df_2003['TOV'])\n",
    "stat, kpval = kstest(df_2003['TOV'], 'gamma', param)\n",
    "print(stat, kpval)\n",
    "if(kpval < 0.05):\n",
    "    print('TOV Is not from a Gamma Dist')\n",
    "else:\n",
    "    print('TOV Is likley from a Gamma Dist')\n",
    "    \n",
    "param = stats.lognorm.fit(df_2003['TOV'])\n",
    "stat, kpval = kstest(df_2003['TOV'], 'lognorm', param)\n",
    "print(stat, kpval)\n",
    "if(kpval < 0.05):\n",
    "    print('TOV Is not from a Log norm Dist')\n",
    "else:\n",
    "    print('TOV Is likley from a Log norm Dist')"
   ]
  },
  {
   "cell_type": "code",
   "execution_count": null,
   "metadata": {
    "collapsed": true
   },
   "outputs": [],
   "source": [
    "df_2003['AST'].plot.hist(bins=20)"
   ]
  },
  {
   "cell_type": "code",
   "execution_count": null,
   "metadata": {
    "collapsed": true
   },
   "outputs": [],
   "source": [
    "z,pval = stats.normaltest(df_2003['AST'])\n",
    "print(z, pval)\n",
    "if(pval < 0.05):\n",
    "    print('AST Is not from a Normal Dist')\n",
    "else:\n",
    "    print('AST Is likley from a Normal Dist')\n",
    "\n",
    "size = df_2003['AST'].size\n",
    "x = scipy.arange(size)\n",
    "param = stats.gamma.fit(df_2003['AST'])\n",
    "stat, kpval = kstest(df_2003['AST'], 'gamma', param)\n",
    "print(stat, kpval)\n",
    "if(kpval < 0.05):\n",
    "    print('AST Is not from a Gamma Dist')\n",
    "else:\n",
    "    print('AST Is likley from a Gamma Dist')\n",
    "\n",
    "param = stats.lognorm.fit(df_2003['AST'])\n",
    "stat, kpval = kstest(df_2003['AST'], 'lognorm', param)\n",
    "print(stat, kpval)\n",
    "if(kpval < 0.05):\n",
    "    print('AST Is not from a Log norm Dist')\n",
    "else:\n",
    "    print('AST Is likley from a Log norm Dist')"
   ]
  },
  {
   "cell_type": "code",
   "execution_count": null,
   "metadata": {
    "collapsed": true
   },
   "outputs": [],
   "source": [
    "df_2003['REB'].plot.hist(bins=25)"
   ]
  },
  {
   "cell_type": "code",
   "execution_count": null,
   "metadata": {
    "collapsed": true
   },
   "outputs": [],
   "source": [
    "z,pval = stats.normaltest(df_2003['REB'])\n",
    "print(z, pval)\n",
    "if(pval < 0.05):\n",
    "    print('REB Is not from a Normal Dist')\n",
    "else:\n",
    "    print('REB Is likley from a Normal Dist')\n",
    "    \n",
    "size = df_2003['REB'].size\n",
    "x = scipy.arange(size)\n",
    "param = stats.gamma.fit(df_2003['REB'])\n",
    "stat, kpval = kstest(df_2003['REB'], 'gamma', param)\n",
    "print(stat, kpval)\n",
    "if(kpval < 0.05):\n",
    "    print('REB Is not from a Gamma Dist')\n",
    "else:\n",
    "    print('REB Is likley from a Gamma Dist')\n",
    "\n",
    "param = stats.lognorm.fit(df_2003['REB'])\n",
    "stat, kpval = kstest(df_2003['REB'], 'lognorm', param)\n",
    "print(stat, kpval)\n",
    "if(kpval < 0.05):\n",
    "    print('REB Is not from a Log norm Dist')\n",
    "else:\n",
    "    print('REB Is likley from a Log norm Dist')"
   ]
  },
  {
   "cell_type": "markdown",
   "metadata": {},
   "source": [
    " "
   ]
  },
  {
   "cell_type": "markdown",
   "metadata": {},
   "source": [
    "Visualization of Individual Statistics for Each Player in 2004"
   ]
  },
  {
   "cell_type": "code",
   "execution_count": null,
   "metadata": {
    "collapsed": true
   },
   "outputs": [],
   "source": [
    "# 1a) Load the nba csv files\n",
    "\n",
    "df_2004 = pd.read_csv('clean_players_2004.csv')"
   ]
  },
  {
   "cell_type": "code",
   "execution_count": null,
   "metadata": {
    "collapsed": true
   },
   "outputs": [],
   "source": [
    "df_2004"
   ]
  },
  {
   "cell_type": "code",
   "execution_count": null,
   "metadata": {
    "collapsed": true
   },
   "outputs": [],
   "source": [
    "df_2004['PTS'].plot.hist(bins=40)"
   ]
  },
  {
   "cell_type": "code",
   "execution_count": null,
   "metadata": {
    "collapsed": true
   },
   "outputs": [],
   "source": [
    "df_2004.columns[1:]"
   ]
  },
  {
   "cell_type": "code",
   "execution_count": null,
   "metadata": {
    "collapsed": true
   },
   "outputs": [],
   "source": [
    "z,pval = stats.normaltest(df_2004['PTS'])\n",
    "print(z, pval)\n",
    "if(pval < 0.05):\n",
    "    print('PTS Is not from a Normal Dist')\n",
    "else:\n",
    "    print('PTS Is likley from a Normal Dist')\n",
    "\n",
    "size = df_2004['PTS'].size\n",
    "x = scipy.arange(size)\n",
    "param = stats.gamma.fit(df_2004['PTS'])\n",
    "stat, kpval = kstest(df_2004['PTS'], 'gamma', param)\n",
    "print(stat, kpval)\n",
    "if(kpval < 0.05):\n",
    "    print('PTS Is not from a Gamma Dist')\n",
    "else:\n",
    "    print('PTS Is likley from a Gamma Dist')\n",
    "    \n",
    "param = stats.lognorm.fit(df_2004['PTS'])\n",
    "stat, kpval = kstest(df_2004['PTS'], 'lognorm', param)\n",
    "print(stat, kpval)\n",
    "if(kpval < 0.05):\n",
    "    print('PTS Is not from a Log norm Dist')\n",
    "else:\n",
    "    print('PTS Is likley from a Log norm Dist')"
   ]
  },
  {
   "cell_type": "code",
   "execution_count": null,
   "metadata": {
    "collapsed": true
   },
   "outputs": [],
   "source": [
    "df_2004['BLK'].plot.hist(bins=10)"
   ]
  },
  {
   "cell_type": "code",
   "execution_count": null,
   "metadata": {
    "collapsed": true
   },
   "outputs": [],
   "source": [
    "z,pval = stats.normaltest(df_2004['BLK'])\n",
    "print(z, pval)\n",
    "if(pval < 0.05):\n",
    "    print('BLK Is not from a Normal Dist')\n",
    "else:\n",
    "    print('BLK Is likley from a Normal Dist')\n",
    "    \n",
    "size = df_2004['BLK'].size\n",
    "x = scipy.arange(size)\n",
    "param = stats.expon.fit(df_2004['BLK'])\n",
    "stat, kpval = kstest(df_2004['BLK'], 'expon', param)\n",
    "print(stat, kpval)\n",
    "if(kpval < 0.05):\n",
    "    print('BLK Is not from a Exponen Dist')\n",
    "else:\n",
    "    print('BLK Is likley from a Exponen Dist')\n",
    "param = stats.gamma.fit(df_2004['BLK'])\n",
    "stat, kpval = kstest(df_2004['BLK'], 'gamma', param)\n",
    "print(stat, kpval)\n",
    "if(kpval < 0.05):\n",
    "    print('BLK Is not from a Gamma Dist')\n",
    "else:\n",
    "    print('BLK Is likley from a Gamma Dist')\n",
    "param = stats.lognorm.fit(df_2004['BLK'])\n",
    "stat, kpval = kstest(df_2004['BLK'], 'lognorm', param)\n",
    "print(stat, kpval)\n",
    "if(kpval < 0.05):\n",
    "    print('BLK Is not from a Log norm Dist')\n",
    "else:\n",
    "    print('BLK Is likley from a Log norm Dist')\n",
    "param = stats.chi2.fit(df_2004['BLK'])\n",
    "stat, kpval = kstest(df_2004['BLK'], 'chi2', param)\n",
    "print(stat, kpval)\n",
    "if(kpval < 0.05):\n",
    "    print('BLK Is not from a Chisq Dist')\n",
    "else:\n",
    "    print('BLK Is likley from a Chisq Dist')"
   ]
  },
  {
   "cell_type": "code",
   "execution_count": null,
   "metadata": {
    "collapsed": true
   },
   "outputs": [],
   "source": [
    "df_2004['STL'].plot.hist(bins=15)"
   ]
  },
  {
   "cell_type": "code",
   "execution_count": null,
   "metadata": {
    "collapsed": true
   },
   "outputs": [],
   "source": [
    "z,pval = stats.normaltest(df_2004['STL'])\n",
    "print(z, pval)\n",
    "if(pval < 0.05):\n",
    "    print('STL Is not from a Normal Dist')\n",
    "else:\n",
    "    print('STL Is likley from a Normal Dist')\n",
    "    \n",
    "size = df_2004['STL'].size\n",
    "x = scipy.arange(size)\n",
    "param = stats.gamma.fit(df_2004['STL'])\n",
    "stat, kpval = kstest(df_2004['STL'], 'gamma', param)\n",
    "print(stat, kpval)\n",
    "if(kpval < 0.05):\n",
    "    print('STL Is not from a Gamma Dist')\n",
    "else:\n",
    "    print('STL Is likley from a Gamma Dist')\n",
    "\n",
    "param = stats.expon.fit(df_2004['STL'])\n",
    "stat, kpval = kstest(df_2004['STL'], 'expon', param)\n",
    "print(stat, kpval)\n",
    "if(kpval < 0.05):\n",
    "    print('STL Is not from a Exponen Dist')\n",
    "else:\n",
    "    print('STL Is likley from a Exponen Dist')\n",
    "\n",
    "param = stats.lognorm.fit(df_2004['STL'])\n",
    "stat, kpval = kstest(df_2004['STL'], 'lognorm', param)\n",
    "print(stat, kpval)\n",
    "if(kpval < 0.05):\n",
    "    print('STL Is not from a Log norm Dist')\n",
    "else:\n",
    "    print('STL Is likley from a Log norm Dist')"
   ]
  },
  {
   "cell_type": "code",
   "execution_count": null,
   "metadata": {
    "collapsed": true
   },
   "outputs": [],
   "source": [
    "df_2004['TOV'].plot.hist(bins=12)"
   ]
  },
  {
   "cell_type": "code",
   "execution_count": null,
   "metadata": {
    "collapsed": true
   },
   "outputs": [],
   "source": [
    "z,pval = stats.normaltest(df_2004['TOV'])\n",
    "print(z, pval)\n",
    "if(pval < 0.05):\n",
    "    print('TOV Is not from a Normal Dist')\n",
    "else:\n",
    "    print('TOV Is likley from a Normal Dist')\n",
    "    \n",
    "size = df_2004['TOV'].size\n",
    "x = scipy.arange(size)\n",
    "param = stats.gamma.fit(df_2004['TOV'])\n",
    "stat, kpval = kstest(df_2004['TOV'], 'gamma', param)\n",
    "print(stat, kpval)\n",
    "if(kpval < 0.05):\n",
    "    print('TOV Is not from a Gamma Dist')\n",
    "else:\n",
    "    print('TOV Is likley from a Gamma Dist')\n",
    "    \n",
    "param = stats.lognorm.fit(df_2004['TOV'])\n",
    "stat, kpval = kstest(df_2004['TOV'], 'lognorm', param)\n",
    "print(stat, kpval)\n",
    "if(kpval < 0.05):\n",
    "    print('TOV Is not from a Log norm Dist')\n",
    "else:\n",
    "    print('TOV Is likley from a Log norm Dist')"
   ]
  },
  {
   "cell_type": "code",
   "execution_count": null,
   "metadata": {
    "collapsed": true
   },
   "outputs": [],
   "source": [
    "df_2004['AST'].plot.hist(bins=20)"
   ]
  },
  {
   "cell_type": "code",
   "execution_count": null,
   "metadata": {
    "collapsed": true
   },
   "outputs": [],
   "source": [
    "z,pval = stats.normaltest(df_2004['AST'])\n",
    "print(z, pval)\n",
    "if(pval < 0.05):\n",
    "    print('AST Is not from a Normal Dist')\n",
    "else:\n",
    "    print('AST Is likley from a Normal Dist')\n",
    "\n",
    "size = df_2004['AST'].size\n",
    "x = scipy.arange(size)\n",
    "param = stats.gamma.fit(df_2004['AST'])\n",
    "stat, kpval = kstest(df_2004['AST'], 'gamma', param)\n",
    "print(stat, kpval)\n",
    "if(kpval < 0.05):\n",
    "    print('AST Is not from a Gamma Dist')\n",
    "else:\n",
    "    print('AST Is likley from a Gamma Dist')\n",
    "\n",
    "param = stats.lognorm.fit(df_2004['AST'])\n",
    "stat, kpval = kstest(df_2004['AST'], 'lognorm', param)\n",
    "print(stat, kpval)\n",
    "if(kpval < 0.05):\n",
    "    print('AST Is not from a Log norm Dist')\n",
    "else:\n",
    "    print('AST Is likley from a Log norm Dist')"
   ]
  },
  {
   "cell_type": "code",
   "execution_count": null,
   "metadata": {
    "collapsed": true
   },
   "outputs": [],
   "source": [
    "df_2004['REB'].plot.hist(bins=25)"
   ]
  },
  {
   "cell_type": "code",
   "execution_count": null,
   "metadata": {
    "collapsed": true
   },
   "outputs": [],
   "source": [
    "z,pval = stats.normaltest(df_2004['REB'])\n",
    "print(z, pval)\n",
    "if(pval < 0.05):\n",
    "    print('REB Is not from a Normal Dist')\n",
    "else:\n",
    "    print('REB Is likley from a Normal Dist')\n",
    "    \n",
    "size = df_2004['REB'].size\n",
    "x = scipy.arange(size)\n",
    "param = stats.gamma.fit(df_2004['REB'])\n",
    "stat, kpval = kstest(df_2004['REB'], 'gamma', param)\n",
    "print(stat, kpval)\n",
    "if(kpval < 0.05):\n",
    "    print('REB Is not from a Gamma Dist')\n",
    "else:\n",
    "    print('REB Is likley from a Gamma Dist')\n",
    "\n",
    "param = stats.lognorm.fit(df_2004['REB'])\n",
    "stat, kpval = kstest(df_2004['REB'], 'lognorm', param)\n",
    "print(stat, kpval)\n",
    "if(kpval < 0.05):\n",
    "    print('REB Is not from a Log norm Dist')\n",
    "else:\n",
    "    print('REB Is likley from a Log norm Dist')"
   ]
  },
  {
   "cell_type": "markdown",
   "metadata": {},
   "source": [
    " "
   ]
  },
  {
   "cell_type": "markdown",
   "metadata": {},
   "source": [
    "Visualization of Individual Statistics for Each Player in 2005"
   ]
  },
  {
   "cell_type": "code",
   "execution_count": null,
   "metadata": {
    "collapsed": true
   },
   "outputs": [],
   "source": [
    "# 1a) Load the nba csv files\n",
    "\n",
    "df_2005 = pd.read_csv('clean_players_2005.csv')"
   ]
  },
  {
   "cell_type": "code",
   "execution_count": null,
   "metadata": {
    "collapsed": true
   },
   "outputs": [],
   "source": [
    "df_2005"
   ]
  },
  {
   "cell_type": "code",
   "execution_count": null,
   "metadata": {
    "collapsed": true
   },
   "outputs": [],
   "source": [
    "df_2005['PTS'].plot.hist(bins=40)"
   ]
  },
  {
   "cell_type": "code",
   "execution_count": null,
   "metadata": {
    "collapsed": true
   },
   "outputs": [],
   "source": [
    "df_2005.columns[1:]"
   ]
  },
  {
   "cell_type": "code",
   "execution_count": null,
   "metadata": {
    "collapsed": true
   },
   "outputs": [],
   "source": [
    "z,pval = stats.normaltest(df_2005['PTS'])\n",
    "print(z, pval)\n",
    "if(pval < 0.05):\n",
    "    print('PTS Is not from a Normal Dist')\n",
    "else:\n",
    "    print('PTS Is likley from a Normal Dist')\n",
    "\n",
    "size = df_2005['PTS'].size\n",
    "x = scipy.arange(size)\n",
    "param = stats.gamma.fit(df_2005['PTS'])\n",
    "stat, kpval = kstest(df_2005['PTS'], 'gamma', param)\n",
    "print(stat, kpval)\n",
    "if(kpval < 0.05):\n",
    "    print('PTS Is not from a Gamma Dist')\n",
    "else:\n",
    "    print('PTS Is likley from a Gamma Dist')\n",
    "    \n",
    "param = stats.lognorm.fit(df_2005['PTS'])\n",
    "stat, kpval = kstest(df_2005['PTS'], 'lognorm', param)\n",
    "print(stat, kpval)\n",
    "if(kpval < 0.05):\n",
    "    print('PTS Is not from a Log norm Dist')\n",
    "else:\n",
    "    print('PTS Is likley from a Log norm Dist')"
   ]
  },
  {
   "cell_type": "code",
   "execution_count": null,
   "metadata": {
    "collapsed": true
   },
   "outputs": [],
   "source": [
    "df_2005['BLK'].plot.hist(bins=10)"
   ]
  },
  {
   "cell_type": "code",
   "execution_count": null,
   "metadata": {
    "collapsed": true
   },
   "outputs": [],
   "source": [
    "z,pval = stats.normaltest(df_2005['BLK'])\n",
    "print(z, pval)\n",
    "if(pval < 0.05):\n",
    "    print('BLK Is not from a Normal Dist')\n",
    "else:\n",
    "    print('BLK Is likley from a Normal Dist')\n",
    "    \n",
    "size = df_2005['BLK'].size\n",
    "x = scipy.arange(size)\n",
    "param = stats.expon.fit(df_2005['BLK'])\n",
    "stat, kpval = kstest(df_2005['BLK'], 'expon', param)\n",
    "print(stat, kpval)\n",
    "if(kpval < 0.05):\n",
    "    print('BLK Is not from a Exponen Dist')\n",
    "else:\n",
    "    print('BLK Is likley from a Exponen Dist')\n",
    "param = stats.gamma.fit(df_2005['BLK'])\n",
    "stat, kpval = kstest(df_2005['BLK'], 'gamma', param)\n",
    "print(stat, kpval)\n",
    "if(kpval < 0.05):\n",
    "    print('BLK Is not from a Gamma Dist')\n",
    "else:\n",
    "    print('BLK Is likley from a Gamma Dist')\n",
    "param = stats.lognorm.fit(df_2005['BLK'])\n",
    "stat, kpval = kstest(df_2005['BLK'], 'lognorm', param)\n",
    "print(stat, kpval)\n",
    "if(kpval < 0.05):\n",
    "    print('BLK Is not from a Log norm Dist')\n",
    "else:\n",
    "    print('BLK Is likley from a Log norm Dist')\n",
    "param = stats.chi2.fit(df_2005['BLK'])\n",
    "stat, kpval = kstest(df_2005['BLK'], 'chi2', param)\n",
    "print(stat, kpval)\n",
    "if(kpval < 0.05):\n",
    "    print('BLK Is not from a Chisq Dist')\n",
    "else:\n",
    "    print('BLK Is likley from a Chisq Dist')"
   ]
  },
  {
   "cell_type": "code",
   "execution_count": null,
   "metadata": {
    "collapsed": true
   },
   "outputs": [],
   "source": [
    "df_2005['STL'].plot.hist(bins=15)"
   ]
  },
  {
   "cell_type": "code",
   "execution_count": null,
   "metadata": {
    "collapsed": true
   },
   "outputs": [],
   "source": [
    "z,pval = stats.normaltest(df_2005['STL'])\n",
    "print(z, pval)\n",
    "if(pval < 0.05):\n",
    "    print('STL Is not from a Normal Dist')\n",
    "else:\n",
    "    print('STL Is likley from a Normal Dist')\n",
    "    \n",
    "size = df_2005['STL'].size\n",
    "x = scipy.arange(size)\n",
    "param = stats.gamma.fit(df_2005['STL'])\n",
    "stat, kpval = kstest(df_2005['STL'], 'gamma', param)\n",
    "print(stat, kpval)\n",
    "if(kpval < 0.05):\n",
    "    print('STL Is not from a Gamma Dist')\n",
    "else:\n",
    "    print('STL Is likley from a Gamma Dist')\n",
    "\n",
    "param = stats.expon.fit(df_2005['STL'])\n",
    "stat, kpval = kstest(df_2005['STL'], 'expon', param)\n",
    "print(stat, kpval)\n",
    "if(kpval < 0.05):\n",
    "    print('STL Is not from a Exponen Dist')\n",
    "else:\n",
    "    print('STL Is likley from a Exponen Dist')\n",
    "\n",
    "param = stats.lognorm.fit(df_2005['STL'])\n",
    "stat, kpval = kstest(df_2005['STL'], 'lognorm', param)\n",
    "print(stat, kpval)\n",
    "if(kpval < 0.05):\n",
    "    print('STL Is not from a Log norm Dist')\n",
    "else:\n",
    "    print('STL Is likley from a Log norm Dist')"
   ]
  },
  {
   "cell_type": "code",
   "execution_count": null,
   "metadata": {
    "collapsed": true
   },
   "outputs": [],
   "source": [
    "df_2005['TOV'].plot.hist(bins=12)"
   ]
  },
  {
   "cell_type": "code",
   "execution_count": null,
   "metadata": {
    "collapsed": true
   },
   "outputs": [],
   "source": [
    "z,pval = mstats.normaltest(df_2005['TOV'])\n",
    "print(z, pval)\n",
    "if(pval < 0.05):\n",
    "    print('TOV Is not from a Normal Dist')\n",
    "else:\n",
    "    print('TOV Is likley from a Normal Dist')\n",
    "    \n",
    "size = df_2005['TOV'].size\n",
    "x = scipy.arange(size)\n",
    "param = stats.gamma.fit(df_2005['TOV'])\n",
    "stat, kpval = kstest(df_2005['TOV'], 'gamma', param)\n",
    "print(stat, kpval)\n",
    "if(kpval < 0.05):\n",
    "    print('TOV Is not from a Gamma Dist')\n",
    "else:\n",
    "    print('TOV Is likley from a Gamma Dist')\n",
    "    \n",
    "param = stats.lognorm.fit(df_2005['TOV'])\n",
    "stat, kpval = kstest(df_2005['TOV'], 'lognorm', param)\n",
    "print(stat, kpval)\n",
    "if(kpval < 0.05):\n",
    "    print('TOV Is not from a Log norm Dist')\n",
    "else:\n",
    "    print('TOV Is likley from a Log norm Dist')"
   ]
  },
  {
   "cell_type": "code",
   "execution_count": null,
   "metadata": {
    "collapsed": true
   },
   "outputs": [],
   "source": [
    "df_2005['AST'].plot.hist(bins=20)"
   ]
  },
  {
   "cell_type": "code",
   "execution_count": null,
   "metadata": {
    "collapsed": true
   },
   "outputs": [],
   "source": [
    "z,pval = stats.normaltest(df_2005['AST'])\n",
    "print(z, pval)\n",
    "if(pval < 0.05):\n",
    "    print('AST Is not from a Normal Dist')\n",
    "else:\n",
    "    print('AST Is likley from a Normal Dist')\n",
    "\n",
    "size = df_2005['AST'].size\n",
    "x = scipy.arange(size)\n",
    "param = stats.gamma.fit(df_2005['AST'])\n",
    "stat, kpval = kstest(df_2005['AST'], 'gamma', param)\n",
    "print(stat, kpval)\n",
    "if(kpval < 0.05):\n",
    "    print('AST Is not from a Gamma Dist')\n",
    "else:\n",
    "    print('AST Is likley from a Gamma Dist')\n",
    "\n",
    "param = stats.lognorm.fit(df_2005['AST'])\n",
    "stat, kpval = kstest(df_2005['AST'], 'lognorm', param)\n",
    "print(stat, kpval)\n",
    "if(kpval < 0.05):\n",
    "    print('AST Is not from a Log norm Dist')\n",
    "else:\n",
    "    print('AST Is likley from a Log norm Dist')"
   ]
  },
  {
   "cell_type": "code",
   "execution_count": null,
   "metadata": {
    "collapsed": true
   },
   "outputs": [],
   "source": [
    "df_2005['REB'].plot.hist(bins=25)"
   ]
  },
  {
   "cell_type": "code",
   "execution_count": null,
   "metadata": {
    "collapsed": true
   },
   "outputs": [],
   "source": [
    "z,pval = stats.normaltest(df_2005['REB'])\n",
    "print(z, pval)\n",
    "if(pval < 0.05):\n",
    "    print('REB Is not from a Normal Dist')\n",
    "else:\n",
    "    print('REB Is likley from a Normal Dist')\n",
    "    \n",
    "size = df_2005['REB'].size\n",
    "x = scipy.arange(size)\n",
    "param = stats.gamma.fit(df_2005['REB'])\n",
    "stat, kpval = kstest(df_2005['REB'], 'gamma', param)\n",
    "print(stat, kpval)\n",
    "if(kpval < 0.05):\n",
    "    print('REB Is not from a Gamma Dist')\n",
    "else:\n",
    "    print('REB Is likley from a Gamma Dist')\n",
    "\n",
    "param = stats.lognorm.fit(df_2005['REB'])\n",
    "stat, kpval = kstest(df_2005['REB'], 'lognorm', param)\n",
    "print(stat, kpval)\n",
    "if(kpval < 0.05):\n",
    "    print('REB Is not from a Log norm Dist')\n",
    "else:\n",
    "    print('REB Is likley from a Log norm Dist')"
   ]
  },
  {
   "cell_type": "markdown",
   "metadata": {},
   "source": [
    " \n"
   ]
  },
  {
   "cell_type": "markdown",
   "metadata": {},
   "source": [
    "Visualization of Individual Statistics for Each Player in 2006"
   ]
  },
  {
   "cell_type": "code",
   "execution_count": null,
   "metadata": {
    "collapsed": true
   },
   "outputs": [],
   "source": []
  },
  {
   "cell_type": "code",
   "execution_count": null,
   "metadata": {
    "collapsed": true
   },
   "outputs": [],
   "source": []
  },
  {
   "cell_type": "code",
   "execution_count": null,
   "metadata": {
    "collapsed": true
   },
   "outputs": [],
   "source": []
  },
  {
   "cell_type": "code",
   "execution_count": null,
   "metadata": {
    "collapsed": true
   },
   "outputs": [],
   "source": []
  },
  {
   "cell_type": "code",
   "execution_count": null,
   "metadata": {
    "collapsed": true
   },
   "outputs": [],
   "source": []
  },
  {
   "cell_type": "code",
   "execution_count": null,
   "metadata": {
    "collapsed": true
   },
   "outputs": [],
   "source": []
  },
  {
   "cell_type": "code",
   "execution_count": null,
   "metadata": {
    "collapsed": true
   },
   "outputs": [],
   "source": []
  },
  {
   "cell_type": "code",
   "execution_count": null,
   "metadata": {
    "collapsed": true
   },
   "outputs": [],
   "source": []
  },
  {
   "cell_type": "code",
   "execution_count": null,
   "metadata": {
    "collapsed": true
   },
   "outputs": [],
   "source": []
  },
  {
   "cell_type": "code",
   "execution_count": null,
   "metadata": {
    "collapsed": true
   },
   "outputs": [],
   "source": []
  },
  {
   "cell_type": "code",
   "execution_count": null,
   "metadata": {
    "collapsed": true
   },
   "outputs": [],
   "source": []
  },
  {
   "cell_type": "code",
   "execution_count": null,
   "metadata": {
    "collapsed": true
   },
   "outputs": [],
   "source": []
  },
  {
   "cell_type": "code",
   "execution_count": null,
   "metadata": {
    "collapsed": true
   },
   "outputs": [],
   "source": []
  },
  {
   "cell_type": "code",
   "execution_count": null,
   "metadata": {
    "collapsed": true
   },
   "outputs": [],
   "source": []
  },
  {
   "cell_type": "code",
   "execution_count": null,
   "metadata": {
    "collapsed": true
   },
   "outputs": [],
   "source": []
  },
  {
   "cell_type": "markdown",
   "metadata": {},
   "source": [
    " "
   ]
  },
  {
   "cell_type": "markdown",
   "metadata": {},
   "source": [
    "Visualization of Individual Statistics for Each Player in 2007"
   ]
  },
  {
   "cell_type": "code",
   "execution_count": null,
   "metadata": {
    "collapsed": true
   },
   "outputs": [],
   "source": []
  },
  {
   "cell_type": "code",
   "execution_count": null,
   "metadata": {
    "collapsed": true
   },
   "outputs": [],
   "source": []
  },
  {
   "cell_type": "code",
   "execution_count": null,
   "metadata": {
    "collapsed": true
   },
   "outputs": [],
   "source": []
  },
  {
   "cell_type": "code",
   "execution_count": null,
   "metadata": {
    "collapsed": true
   },
   "outputs": [],
   "source": []
  },
  {
   "cell_type": "code",
   "execution_count": null,
   "metadata": {
    "collapsed": true
   },
   "outputs": [],
   "source": []
  },
  {
   "cell_type": "code",
   "execution_count": null,
   "metadata": {
    "collapsed": true
   },
   "outputs": [],
   "source": []
  },
  {
   "cell_type": "code",
   "execution_count": null,
   "metadata": {
    "collapsed": true
   },
   "outputs": [],
   "source": []
  },
  {
   "cell_type": "code",
   "execution_count": null,
   "metadata": {
    "collapsed": true
   },
   "outputs": [],
   "source": []
  },
  {
   "cell_type": "code",
   "execution_count": null,
   "metadata": {
    "collapsed": true
   },
   "outputs": [],
   "source": []
  },
  {
   "cell_type": "code",
   "execution_count": null,
   "metadata": {
    "collapsed": true
   },
   "outputs": [],
   "source": []
  },
  {
   "cell_type": "code",
   "execution_count": null,
   "metadata": {
    "collapsed": true
   },
   "outputs": [],
   "source": []
  },
  {
   "cell_type": "code",
   "execution_count": null,
   "metadata": {
    "collapsed": true
   },
   "outputs": [],
   "source": []
  },
  {
   "cell_type": "code",
   "execution_count": null,
   "metadata": {
    "collapsed": true
   },
   "outputs": [],
   "source": []
  },
  {
   "cell_type": "code",
   "execution_count": null,
   "metadata": {
    "collapsed": true
   },
   "outputs": [],
   "source": []
  },
  {
   "cell_type": "code",
   "execution_count": null,
   "metadata": {
    "collapsed": true
   },
   "outputs": [],
   "source": []
  },
  {
   "cell_type": "markdown",
   "metadata": {},
   "source": [
    "# Data Analysis and Results\n",
    "\n"
   ]
  },
  {
   "cell_type": "markdown",
   "metadata": {},
   "source": [
    "# Conclusion and Discussion\n",
    "\n"
   ]
  },
  {
   "cell_type": "code",
   "execution_count": null,
   "metadata": {
    "collapsed": true
   },
   "outputs": [],
   "source": []
  }
 ],
 "metadata": {
  "kernelspec": {
   "display_name": "Python 3",
   "language": "python",
   "name": "python3"
  },
  "language_info": {
   "codemirror_mode": {
    "name": "ipython",
    "version": 3
   },
   "file_extension": ".py",
   "mimetype": "text/x-python",
   "name": "python",
   "nbconvert_exporter": "python",
   "pygments_lexer": "ipython3",
   "version": "3.6.3"
  }
 },
 "nbformat": 4,
 "nbformat_minor": 2
}
