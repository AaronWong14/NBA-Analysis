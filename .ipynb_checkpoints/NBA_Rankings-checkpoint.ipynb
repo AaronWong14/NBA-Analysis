{
 "cells": [
  {
   "cell_type": "code",
   "execution_count": 1,
   "metadata": {
    "collapsed": true
   },
   "outputs": [],
   "source": [
    "import nba_py\n",
    "import pandas as pd\n",
    "\n",
    "from nba_py import game, player, constants, team\n",
    "from nba_py.player import PlayerList, PlayerCareer\n",
    "from nba_py.league import PlayerStats, TeamStats\n",
    "from nba_py.team import TeamCommonRoster, TeamSummary"
   ]
  },
  {
   "cell_type": "code",
   "execution_count": 2,
   "metadata": {
    "collapsed": true
   },
   "outputs": [],
   "source": [
    "\n",
    "TEAMS = ['1610612737','1610612738','1610612751','1610612766','1610612741', '1610612739', '1610612742' , '1610612743', '1610612765','1610612744','1610612745', '1610612754', '1610612746', '1610612747', '1610612763', '1610612748', '1610612749', '1610612750', '1610612740', '1610612752', '1610612760','1610612753', '1610612755', '1610612756', '1610612757', '1610612758', '1610612759', '1610612761', '1610612762', '1610612764']\n",
    "\n",
    "df_RANK2000 = pd.DataFrame()\n",
    "for team in TEAMS:\n",
    "    df_RANK2000 = df_RANK2000.append(TeamStats(team_id = team, season ='2000-01').overall())\n",
    "\n",
    "#df_Rank2000 = pd.DataFrame()\n",
    "#df_RANK2000 = df_RANK2000.append(TeamStats(team_id = '1610612737', season ='2000-01').overall())\n"
   ]
  },
  {
   "cell_type": "code",
   "execution_count": 3,
   "metadata": {
    "collapsed": true
   },
   "outputs": [],
   "source": [
    "df_RANK2001 = pd.DataFrame()\n",
    "for team in TEAMS:\n",
    "    df_RANK2001 = df_RANK2001.append(TeamStats(team_id = team, season ='2001-02').overall())"
   ]
  },
  {
   "cell_type": "code",
   "execution_count": 4,
   "metadata": {
    "collapsed": true
   },
   "outputs": [],
   "source": [
    "df_RANK2002 = pd.DataFrame()\n",
    "for team in TEAMS:\n",
    "    df_RANK2002 = df_RANK2002.append(TeamStats(team_id = team, season ='2002-03').overall())"
   ]
  },
  {
   "cell_type": "code",
   "execution_count": 5,
   "metadata": {
    "collapsed": true
   },
   "outputs": [],
   "source": [
    "df_RANK2003 = pd.DataFrame()\n",
    "for team in TEAMS:\n",
    "    df_RANK2003 = df_RANK2003.append(TeamStats(team_id = team, season ='2003-04').overall())"
   ]
  },
  {
   "cell_type": "code",
   "execution_count": 6,
   "metadata": {
    "collapsed": true
   },
   "outputs": [],
   "source": [
    "df_RANK2004 = pd.DataFrame()\n",
    "for team in TEAMS:\n",
    "    df_RANK2004 = df_RANK2004.append(TeamStats(team_id = team, season ='2004-05').overall())"
   ]
  },
  {
   "cell_type": "code",
   "execution_count": 7,
   "metadata": {
    "collapsed": true
   },
   "outputs": [],
   "source": [
    "df_RANK2005 = pd.DataFrame()\n",
    "for team in TEAMS:\n",
    "    df_RANK2005 = df_RANK2005.append(TeamStats(team_id = team, season ='2005-06').overall())"
   ]
  },
  {
   "cell_type": "code",
   "execution_count": 8,
   "metadata": {
    "collapsed": true
   },
   "outputs": [],
   "source": [
    "df_RANK2006 = pd.DataFrame()\n",
    "for team in TEAMS:\n",
    "    df_RANK2006 = df_RANK2006.append(TeamStats(team_id = team, season ='2006-07').overall())"
   ]
  },
  {
   "cell_type": "code",
   "execution_count": 9,
   "metadata": {
    "collapsed": true
   },
   "outputs": [],
   "source": [
    "df_RANK2007 = pd.DataFrame()\n",
    "for team in TEAMS:\n",
    "    df_RANK2007 = df_RANK2007.append(TeamStats(team_id = team, season ='2007-08').overall())"
   ]
  },
  {
   "cell_type": "code",
   "execution_count": 10,
   "metadata": {
    "collapsed": true
   },
   "outputs": [],
   "source": [
    "df_RANK2008 = pd.DataFrame()\n",
    "for team in TEAMS:\n",
    "    df_RANK2008 = df_RANK2008.append(TeamStats(team_id = team, season ='2008-09').overall())"
   ]
  },
  {
   "cell_type": "code",
   "execution_count": 11,
   "metadata": {
    "collapsed": true
   },
   "outputs": [],
   "source": [
    "df_RANK2009 = pd.DataFrame()\n",
    "for team in TEAMS:\n",
    "    df_RANK2009 = df_RANK2009.append(TeamStats(team_id = team, season ='2009-10').overall())"
   ]
  },
  {
   "cell_type": "code",
   "execution_count": 12,
   "metadata": {
    "collapsed": true
   },
   "outputs": [],
   "source": [
    "df_RANK2010 = pd.DataFrame()\n",
    "for team in TEAMS:\n",
    "    df_RANK2010 = df_RANK2010.append(TeamStats(team_id = team, season ='2010-11').overall())"
   ]
  },
  {
   "cell_type": "code",
   "execution_count": 13,
   "metadata": {
    "collapsed": true
   },
   "outputs": [],
   "source": [
    "df_RANK2011 = pd.DataFrame()\n",
    "for team in TEAMS:\n",
    "    df_RANK2011 = df_RANK2011.append(TeamStats(team_id = team, season ='2011-12').overall())"
   ]
  },
  {
   "cell_type": "code",
   "execution_count": 14,
   "metadata": {
    "collapsed": true
   },
   "outputs": [],
   "source": [
    "df_RANK2012 = pd.DataFrame()\n",
    "for team in TEAMS:\n",
    "    df_RANK2012 = df_RANK2012.append(TeamStats(team_id = team, season ='2012-13').overall())"
   ]
  },
  {
   "cell_type": "code",
   "execution_count": 15,
   "metadata": {
    "collapsed": true
   },
   "outputs": [],
   "source": [
    "df_RANK2013 = pd.DataFrame()\n",
    "for team in TEAMS:\n",
    "    df_RANK2013 = df_RANK2013.append(TeamStats(team_id = team, season ='2013-14').overall())"
   ]
  },
  {
   "cell_type": "code",
   "execution_count": 16,
   "metadata": {
    "collapsed": true
   },
   "outputs": [],
   "source": [
    "df_RANK2014 = pd.DataFrame()\n",
    "for team in TEAMS:\n",
    "    df_RANK2014 = df_RANK2014.append(TeamStats(team_id = team, season ='2014-15').overall())"
   ]
  },
  {
   "cell_type": "code",
   "execution_count": 17,
   "metadata": {
    "collapsed": true
   },
   "outputs": [],
   "source": [
    "df_RANK2015 = pd.DataFrame()\n",
    "for team in TEAMS:\n",
    "    df_RANK2015 = df_RANK2015.append(TeamStats(team_id = team, season ='2015-16').overall())"
   ]
  },
  {
   "cell_type": "code",
   "execution_count": 18,
   "metadata": {
    "collapsed": true
   },
   "outputs": [],
   "source": [
    "df_RANK2016 = pd.DataFrame()\n",
    "for team in TEAMS:\n",
    "    df_RANK2016 = df_RANK2016.append(TeamStats(team_id = team, season ='2016-17').overall())"
   ]
  },
  {
   "cell_type": "code",
   "execution_count": 19,
   "metadata": {
    "collapsed": true
   },
   "outputs": [],
   "source": [
    "#type(df_Rank2000)\n",
    "#df_RANK2000\n",
    "#df_RANK2000sort = df_RANK2000.sort_values(by= str, axis = df_RANK2000['3'], inplace=False)\n",
    "df_RANK2000sort = df_RANK2000.sort_values(by=['W'], ascending=False)\n",
    "df_RANK2001sort = df_RANK2001.sort_values(by=['W'], ascending=False)\n",
    "df_RANK2002sort = df_RANK2002.sort_values(by=['W'], ascending=False)\n",
    "df_RANK2003sort = df_RANK2003.sort_values(by=['W'], ascending=False)\n",
    "df_RANK2004sort = df_RANK2004.sort_values(by=['W'], ascending=False)\n",
    "df_RANK2005sort = df_RANK2005.sort_values(by=['W'], ascending=False)\n",
    "df_RANK2006sort = df_RANK2006.sort_values(by=['W'], ascending=False)\n",
    "df_RANK2007sort = df_RANK2007.sort_values(by=['W'], ascending=False)\n",
    "df_RANK2008sort = df_RANK2008.sort_values(by=['W'], ascending=False)\n",
    "df_RANK2009sort = df_RANK2009.sort_values(by=['W'], ascending=False)\n",
    "df_RANK2010sort = df_RANK2010.sort_values(by=['W'], ascending=False)\n",
    "df_RANK2011sort = df_RANK2011.sort_values(by=['W'], ascending=False)\n",
    "df_RANK2012sort = df_RANK2012.sort_values(by=['W'], ascending=False)\n",
    "df_RANK2013sort = df_RANK2013.sort_values(by=['W'], ascending=False)\n",
    "df_RANK2014sort = df_RANK2014.sort_values(by=['W'], ascending=False)\n",
    "df_RANK2015sort = df_RANK2015.sort_values(by=['W'], ascending=False)\n",
    "df_RANK2016sort = df_RANK2016.sort_values(by=['W'], ascending=False)\n",
    "\n",
    "#TeamSummary(team_id = '1610612737', season ='2000-01').season_ranks()\n",
    "#df_RANK2000 = pd.DataFrame(RANK2000.season_ranks())\n",
    "#df_RANK2000.columns\n",
    "#df_RANK2000['W']\n",
    "#df_RANK2000sort"
   ]
  },
  {
   "cell_type": "code",
   "execution_count": 20,
   "metadata": {
    "collapsed": true
   },
   "outputs": [],
   "source": [
    "df_RANK2000Top8 = df_RANK2000sort[0:8]\n",
    "df_RANK2001Top8 = df_RANK2001sort[0:8]\n",
    "df_RANK2002Top8 = df_RANK2002sort[0:8]\n",
    "df_RANK2003Top8 = df_RANK2003sort[0:8]\n",
    "df_RANK2004Top8 = df_RANK2004sort[0:8]\n",
    "df_RANK2005Top8 = df_RANK2005sort[0:8]\n",
    "df_RANK2006Top8 = df_RANK2006sort[0:8]\n",
    "df_RANK2007Top8 = df_RANK2007sort[0:8]\n",
    "df_RANK2008Top8 = df_RANK2008sort[0:8]\n",
    "df_RANK2009Top8 = df_RANK2009sort[0:8]\n",
    "df_RANK2010Top8 = df_RANK2010sort[0:8]\n",
    "df_RANK2011Top8 = df_RANK2011sort[0:8]\n",
    "df_RANK2012Top8 = df_RANK2012sort[0:8]\n",
    "df_RANK2013Top8 = df_RANK2013sort[0:8]\n",
    "df_RANK2014Top8 = df_RANK2014sort[0:8]\n",
    "df_RANK2015Top8 = df_RANK2015sort[0:8]\n",
    "df_RANK2016Top8 = df_RANK2016sort[0:8]\n",
    "\n",
    "\n",
    "\n",
    "#df_RANK2000Top8"
   ]
  },
  {
   "cell_type": "code",
   "execution_count": 21,
   "metadata": {
    "collapsed": true
   },
   "outputs": [],
   "source": [
    "#df_RANK2016Top8"
   ]
  },
  {
   "cell_type": "code",
   "execution_count": 22,
   "metadata": {
    "collapsed": true
   },
   "outputs": [],
   "source": [
    "#df_RANK2016.columns"
   ]
  },
  {
   "cell_type": "code",
   "execution_count": 53,
   "metadata": {},
   "outputs": [],
   "source": [
    "Top8_2000 = pd.DataFrame(df_RANK2000Top8)\n",
    "Top8_2000.to_csv('Top8_2000.csv')"
   ]
  },
  {
   "cell_type": "code",
   "execution_count": 54,
   "metadata": {
    "collapsed": true
   },
   "outputs": [],
   "source": [
    "Top8_2001 = pd.DataFrame(df_RANK2001Top8)\n",
    "Top8_2001.to_csv('Top8_2001.csv')"
   ]
  },
  {
   "cell_type": "code",
   "execution_count": 55,
   "metadata": {
    "collapsed": true
   },
   "outputs": [],
   "source": [
    "Top8_2002 = pd.DataFrame(df_RANK2002Top8)\n",
    "Top8_2002.to_csv('Top8_2002.csv')"
   ]
  },
  {
   "cell_type": "code",
   "execution_count": 56,
   "metadata": {
    "collapsed": true
   },
   "outputs": [],
   "source": [
    "Top8_2003 = pd.DataFrame(df_RANK2003Top8)\n",
    "Top8_2003.to_csv('Top8_2003.csv')"
   ]
  },
  {
   "cell_type": "code",
   "execution_count": 57,
   "metadata": {
    "collapsed": true
   },
   "outputs": [],
   "source": [
    "Top8_2004 = pd.DataFrame(df_RANK2004Top8)\n",
    "Top8_2004.to_csv('Top8_2004.csv')"
   ]
  },
  {
   "cell_type": "code",
   "execution_count": 58,
   "metadata": {},
   "outputs": [],
   "source": [
    "Top8_2005 = pd.DataFrame(df_RANK2005Top8)\n",
    "Top8_2005.to_csv('Top8_2005.csv')"
   ]
  },
  {
   "cell_type": "code",
   "execution_count": 59,
   "metadata": {
    "collapsed": true
   },
   "outputs": [],
   "source": [
    "Top8_2006 = pd.DataFrame(df_RANK2006Top8)\n",
    "Top8_2006.to_csv('Top8_2006.csv')"
   ]
  },
  {
   "cell_type": "code",
   "execution_count": 60,
   "metadata": {
    "collapsed": true
   },
   "outputs": [],
   "source": [
    "Top8_2007 = pd.DataFrame(df_RANK2007Top8)\n",
    "Top8_2007.to_csv('Top8_2007.csv')"
   ]
  },
  {
   "cell_type": "code",
   "execution_count": 61,
   "metadata": {
    "collapsed": true
   },
   "outputs": [],
   "source": [
    "Top8_2008 = pd.DataFrame(df_RANK2008Top8)\n",
    "Top8_2008.to_csv('Top8_2008.csv')"
   ]
  },
  {
   "cell_type": "code",
   "execution_count": 62,
   "metadata": {},
   "outputs": [],
   "source": [
    "Top8_2009 = pd.DataFrame(df_RANK2009Top8)\n",
    "Top8_2009.to_csv('Top8_2009.csv')"
   ]
  },
  {
   "cell_type": "code",
   "execution_count": 63,
   "metadata": {
    "collapsed": true
   },
   "outputs": [],
   "source": [
    "Top8_2010 = pd.DataFrame(df_RANK2010Top8)\n",
    "Top8_2010.to_csv('Top8_2010.csv')"
   ]
  },
  {
   "cell_type": "code",
   "execution_count": 64,
   "metadata": {},
   "outputs": [],
   "source": [
    "Top8_2011 = pd.DataFrame(df_RANK2011Top8)\n",
    "Top8_2011.to_csv('Top8_2011.csv')"
   ]
  },
  {
   "cell_type": "code",
   "execution_count": 65,
   "metadata": {},
   "outputs": [],
   "source": [
    "Top8_2012 = pd.DataFrame(df_RANK2012Top8)\n",
    "Top8_2012.to_csv('Top8_2012.csv')"
   ]
  },
  {
   "cell_type": "code",
   "execution_count": 66,
   "metadata": {
    "collapsed": true
   },
   "outputs": [],
   "source": [
    "Top8_2013 = pd.DataFrame(df_RANK2013Top8)\n",
    "Top8_2013.to_csv('Top8_2013.csv')"
   ]
  },
  {
   "cell_type": "code",
   "execution_count": 67,
   "metadata": {
    "collapsed": true
   },
   "outputs": [],
   "source": [
    "Top8_2014 = pd.DataFrame(df_RANK2014Top8)\n",
    "Top8_2014.to_csv('Top8_2014.csv')"
   ]
  },
  {
   "cell_type": "code",
   "execution_count": 68,
   "metadata": {},
   "outputs": [],
   "source": [
    "Top8_2015 = pd.DataFrame(df_RANK2015Top8)\n",
    "Top8_2015.to_csv('Top8_2015.csv')"
   ]
  },
  {
   "cell_type": "code",
   "execution_count": 69,
   "metadata": {
    "collapsed": true
   },
   "outputs": [],
   "source": [
    "Top8_2016 = pd.DataFrame(df_RANK2016Top8)\n",
    "Top8_2016.to_csv('Top8_2016.csv')"
   ]
  },
  {
   "cell_type": "code",
   "execution_count": 70,
   "metadata": {
    "collapsed": true
   },
   "outputs": [],
   "source": [
    "lst_ranked_seasons = [df_RANK2000sort, df_RANK2001sort, df_RANK2002sort,\n",
    "                     df_RANK2003sort, df_RANK2004sort, df_RANK2005sort,\n",
    "                     df_RANK2006sort, df_RANK2007sort, df_RANK2008sort,\n",
    "                     df_RANK2009sort, df_RANK2010sort, df_RANK2011sort,\n",
    "                     df_RANK2012sort, df_RANK2013sort, df_RANK2014sort,\n",
    "                     df_RANK2015sort, df_RANK2016sort]\n",
    "index = 0\n",
    "for df in lst_ranked_seasons:\n",
    "    if index < 10:\n",
    "        df.to_csv('ranked_teams_200' + str(index) + '.csv')\n",
    "    else:\n",
    "        df.to_csv('ranked_teams_20' + str(index) + '.csv')\n",
    "    index += 1"
   ]
  }
 ],
 "metadata": {
  "kernelspec": {
   "display_name": "Python 3",
   "language": "python",
   "name": "python3"
  },
  "language_info": {
   "codemirror_mode": {
    "name": "ipython",
    "version": 3
   },
   "file_extension": ".py",
   "mimetype": "text/x-python",
   "name": "python",
   "nbconvert_exporter": "python",
   "pygments_lexer": "ipython3",
   "version": "3.6.4"
  }
 },
 "nbformat": 4,
 "nbformat_minor": 2
}
