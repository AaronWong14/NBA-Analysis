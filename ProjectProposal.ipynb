{
 "cells": [
  {
   "cell_type": "markdown",
   "metadata": {},
   "source": [
    "# COGS 108 - Project Proposal"
   ]
  },
  {
   "cell_type": "markdown",
   "metadata": {},
   "source": [
    "## Important\n",
    "\n",
    "- Make sure all group members (3-6 people) are listed in the group members section.\n",
    "- ONE, and only one, member of your group should upload this notebook to TritonED. \n",
    "- Each member of the group will receive the same grade on this assignment. \n",
    "- Keep the file name the same: submit the file 'ProjectProposal.ipynb'"
   ]
  },
  {
   "cell_type": "markdown",
   "metadata": {},
   "source": [
    "## Overview"
   ]
  },
  {
   "cell_type": "markdown",
   "metadata": {},
   "source": [
    "Read the project description and detailed instructions for this assignment in the 'ProjectOutline' document."
   ]
  },
  {
   "cell_type": "markdown",
   "metadata": {},
   "source": [
    "## Group Members: Fill in the Student IDs of each group member here\n",
    "\n",
    "Replace the lines below to list each persons full student ID. Add lines as needed for your group size, and make sure each ID is listed on a separate line. \n",
    "\n",
    "- A13602097\n",
    "- A14733230\n",
    "- A13736589\n",
    "- A12884910\n",
    "- A13939947\n",
    "- A92048617"
   ]
  },
  {
   "cell_type": "markdown",
   "metadata": {},
   "source": [
    "### Research Question\n",
    "\n",
    "What is your research question? (1-2 sentences)"
   ]
  },
  {
   "cell_type": "markdown",
   "metadata": {},
   "source": [
    "What makes a good NBA team in the past 21st century?  We will determine “good” as the top 4 seeds on the west and the top 4 seeds from the east of the regular season (who won the most games from the western and eastern division)."
   ]
  },
  {
   "cell_type": "markdown",
   "metadata": {},
   "source": [
    "### Hypothesis\n",
    "\n",
    "What is your main hypothesis and predictions? (2-3 sentences)"
   ]
  },
  {
   "cell_type": "markdown",
   "metadata": {},
   "source": [
    "We believe that the defining characteristic of a good NBA team will be those with higher average impact per minute played across its players with the least amount of variance between players. Impact will be defined as the sum of the weighted factors of points, rebounds, assists, blocks, and steals per game for each player."
   ]
  },
  {
   "cell_type": "markdown",
   "metadata": {},
   "source": [
    "### Dataset(s)\n",
    "\n",
    "What data will you use to answer your question? Describe the dataset(s) in terms of number of observations, what kind of features it contains, etc. You must use at least one dataset containing at least approximately 1000 observations (if your data are smaller but you feel they are sufficient, email Prof. Voytek). You are welcome (and in fact recommended) to find multiple datasets! If you do so, describe each one, and briefly explain how you will combine them together. "
   ]
  },
  {
   "cell_type": "markdown",
   "metadata": {},
   "source": [
    "*Fill in your dataset information here*\n",
    "\n",
    "(Copy this information for each dataset)\n",
    "- Dataset Name: Basketball Reference\n",
    "- Link to the dataset: https://www.basketball-reference.com/ \n",
    "- Number of observations: 17 years * 8 teams * 12  players(lower bound) ~1632\n",
    "\n",
    "1-2 sentences describing the dataset. \n",
    "\n",
    "Basketball reference has the stats of each player from every team for every year from 2000 to 2018. We will combine the five specific stats - points, rebounds, assists, blocks, steals into one weighted stat. We will not be combining datasets.\n",
    "\n",
    "If you plan to use multiple datasets, add 1-2 sentences about how you plan to combine these datasets.\n",
    "\n",
    "We will not be using multiple datasets."
   ]
  },
  {
   "cell_type": "markdown",
   "metadata": {},
   "source": [
    "### Background and Prior Work\n",
    "\n",
    "Why is this question of interest, what background information led you to your hypothesis, and why is this important?\n",
    "\n",
    "Find some relevant prior work, and reference those sources. Even if you think you have a totally novel question, find the most similar prior work that you can and discuss how it relates to your project. \n",
    "\n",
    "References can be research publications, but they need not be. Blogs, github repositories, company websites, etc., are all viable references if they are relevant to your project.\n",
    "\n",
    "(2-3 paragraphs, including at least 2 references)"
   ]
  },
  {
   "cell_type": "markdown",
   "metadata": {},
   "source": [
    "We are interested in basketball, not just the gameplay, but also the statistics that are behind everything. It is said that good teams have at least one superstar on them, someone who puts up stats that are higher than most other players. While coming up with a question, someone proposed the idea of what made a good team, and that we could base our question on that. However, we argued for a long time on what our basis should be - offense, or defense, or a bit of both. We then settled on analyzing arguably, the five most analyzed stats for each individual player: points, rebounds, assists, blocks, and steals. We realize that although stats aren't everything, we will be taking the top eight teams each year since the 21st century, and see if there are any trends among teams or over the years.\n",
    "\n",
    "At first, we believed that researching basketball information would be easy; we would scrape data off of the NBA site using an api, or just taking it directly from their statistics page. However, we quickly realized that the NBA API is very closed, we need to register and authorize our account to get information. We believe that this API is mainly for scouters, or some other professionals hoping to recruit NBA players to their teams. With that, we jump to our next reliable source, Basketball-Reference. Basketball-Reference has all the stats we need, for every player, for every year. \n",
    "\n",
    "We then proceeded to think of ways to obtain that information; we could use beautifulsoup to scrape data off of the the tables and charts. We even looked through some github accounts. We then came across an API for the NBA on Github. This API uses Python and can be used to scrape stats of players; it can even go as far as to predicting who will make the All Star team, which only good impactful players can make. The list of parameters this API takes on is long, meaning that this API will have a lot of functionality; we could potentially use this API to compare teams.\n",
    "We thought the nba_py link was relevant to the work we are currently doing because they also scraped basketball stats and are actively working to use that data to determine whether specific characteristics of players help or hurt a basketball team.\n",
    "\n",
    "References (include links):\n",
    "- 1)https://www.basketball-reference.com/ \n",
    "- 2)https://github.com/seemethere/nba_py "
   ]
  },
  {
   "cell_type": "markdown",
   "metadata": {},
   "source": [
    "### Proposed Methods\n",
    "\n",
    "What methods will you use to analyze your data?\n",
    "\n",
    "- How 'clean' is the data? To the extent that it requires cleaning, how will you do so?\n",
    "- How will you analyze the data? Be as specific as you can. Briefly mention any pre-processing steps that are required for your methods (for example, checking data distributions and performing any transformations that may be required). Include a brief outline of how you will apply your chosen method(s). \n",
    "- What do you plan to report? Briefly mention any key visualizations you plan to create, and/or the kind of results you will be able to report that address your question (this could be, for example, the outcome of some statistical test(s), prediction error on a model, a model fit parameter, etc.).\n",
    "- Include a list of packages you expect to use for you project. If you plan to use packages we have not used in class, add a very brief description about them (a few words is sufficient). "
   ]
  },
  {
   "cell_type": "markdown",
   "metadata": {},
   "source": [
    "*Fill in your proposed methods information here:*\n",
    "\n",
    "*Data Cleaning (2-3 sentences)*\n",
    "We should filter out players who play less than a certain amount of games, the sample size would just be too small. As of now, we are thinking of the threshold to be at 30 games. After filtering out the players the data should be fairly clean as NBA and Basketball Reference website have organized the data by the category it falls into. \n",
    "\n",
    "*Data Analysis (1-2 paragraphs)*\n",
    "Looking at sheer numbers will not be enough; we need to compare each player’s stats among the rest of the team. From there we will see if any specific athletes stand out. Our plan is to find the averages of the weighed stats for each team and see which players stand out the most in terms of standard deviation. We will then take the highest standard deviation of each team and compare that. Along with that, we will compare the advanced stats of the top player such as offensive rating, defensive rating, and player efficiency rating.\n",
    "\n",
    "We would do the above for the top eight teams for the 21st century and compare the trends. For example, if the average stats for each team went up, or if the standard deviation for each team went up across the years. In order to calculate the weighted stats, we first need to take the total amount of points, rebounds, assists, blocks and steals and weigh them such that all the numbers; we will multiply each stat with a constant coefficient and apply them to every player.\n",
    "\n",
    "*What to report (2-3 sentences)*\n",
    "As mentioned, since we are comparing stats throughout the years, it would be nice to plot data in a line graph with years on the x-axis. We would graph data such as standard deviation, average weighted stat, and maximum weighted stat. We would use bar graphs to compare the same stats among the top teams each year.\n",
    "\n",
    "Packages we plan to use:\n",
    "- Pandas\n",
    "- Numpy\n",
    "- BeautifulSoup"
   ]
  },
  {
   "cell_type": "markdown",
   "metadata": {},
   "source": [
    "### Ethics and Privacy\n",
    "\n",
    "Briefly acknowledge and address any potential issues of ethics and privacy for the proposed project. In particular:\n",
    "- Do you have permission to use this data, for this purpose?\n",
    "- Are there privacy concerns regarding your datasets that you need to deal with, and/or terms of use that you need to comply with?\n",
    "- Are there potential biases in your dataset(s), in terms of who it composes, and how it was collected, that may be problematic in terms of it allowing for equitable analysis? (For example, does your data exclude particular populations, or is it likely to reflect particular human biases in a way that could be a problem?) \n",
    "- Are there any other issues related to your topic area, data, and/or analyses that are potentially problematic in terms of data privacy and equitable impact?\n",
    "- How will you handle any issues you identify?\n",
    "\n",
    "The statistics found in the Basketball Reference website and NBA Stats website are public, and able to be scrapped. As I looked into the legality of scraping data from the NBA Stats website, I found that they are not fond of it given that some users received a temporary I.P. ban from the website for scrapping too much data. However, it is allowed. The Basketball Reference website does not appear to do this, and allows web scraping. \n",
    "\n",
    "There is potential bias in determining the weight of each factor of the sum in “Impact”, which we are defining as the sum of the weighted factors of points, rebounds, assists, blocks, and steals per game for each player. Some factors are worth more(ex: steals vs points), so they might skew the data. If we run into any problems in terms of data privacy and equitable impact, we will look into the legality of it to ensure we are being compliant to any set of rules. In addition we will be using the names and statistics of public figures so we are not violating any privacy rules. "
   ]
  },
  {
   "cell_type": "markdown",
   "metadata": {},
   "source": [
    "### Discussion\n",
    "\n",
    "Discuss your project, looking forward to what your results might mean, how they fit it in with what is already known, and what problems you may encounter. \n",
    "\n",
    "In particular:\n",
    "- If your analyses and hypotheses are correct, what will be the contribution of this project to the topic domain? \n",
    "- Alternatively, what will you do if you methods don't work and/or your hypotheses are wrong? \n",
    "- What are the potential pitfalls and potential confounds of your data and/or methods that may cause problems, and/or influence your interpretations?\n",
    "\n",
    "(2-3 paragraphs)"
   ]
  },
  {
   "cell_type": "markdown",
   "metadata": {},
   "source": [
    "Our project will determine if a “good” NBA team is actually as highly affected by the presence of one extraordinary athlete, or is instead the effect of a more balanced team. If our hypothesis is correct, it will prove the significance of both an effective offense and defense, as each player will contribute to the high average impact per minute rather than relying on a select few. This finding would end the debate over which of the two is more relevant to success. We believe this could possibly help future basketball general managers when they are making decisions about contracts and resigning players.        \n",
    "\n",
    "However, if our data seems erroneous, we will reevaluate our impact method to see if it can be adjusted to be more accurate. After doing so, we can further analyze our data if our hypothesis proves incorrect to see if there is a higher average impact for defensive or offensive players, or if they are both insignificant compared to other factors. \t\n",
    "Some potential confounds may include how we weight the impact of specific statistics. Since it is hard to compare offensive and defensive statistics our analysis could be impacted. However to mitigate this issue we are creating a single statistic, impact, which will formed from both offensive and defensive statistics. "
   ]
  }
 ],
 "metadata": {
  "kernelspec": {
   "display_name": "Python 3",
   "language": "python",
   "name": "python3"
  },
  "language_info": {
   "codemirror_mode": {
    "name": "ipython",
    "version": 3
   },
   "file_extension": ".py",
   "mimetype": "text/x-python",
   "name": "python",
   "nbconvert_exporter": "python",
   "pygments_lexer": "ipython3",
   "version": "3.6.4"
  }
 },
 "nbformat": 4,
 "nbformat_minor": 2
}
